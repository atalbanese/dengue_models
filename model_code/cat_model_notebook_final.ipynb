{
 "cells": [
  {
   "cell_type": "code",
   "execution_count": 2,
   "metadata": {},
   "outputs": [],
   "source": [
    "import polars as pl\n",
    "from sklearn.ensemble import HistGradientBoostingClassifier\n",
    "from datetime import datetime\n",
    "import numpy as np\n",
    "import geopandas as gpd\n",
    "from sklearn.compose import ColumnTransformer\n",
    "from sklearn.pipeline import Pipeline\n",
    "from itertools import chain\n",
    "from functools import partial\n",
    "from sklearn.metrics import classification_report, confusion_matrix\n",
    "from sklearn.metrics import ConfusionMatrixDisplay\n",
    "from sklearn.compose import make_column_transformer, make_column_selector\n",
    "from sklearn.pipeline import make_pipeline\n",
    "from sklearn.preprocessing import OrdinalEncoder\n",
    "from sklearn.model_selection import TimeSeriesSplit, cross_validate\n",
    "import cat_model_utils as cat_utils"
   ]
  },
  {
   "cell_type": "markdown",
   "metadata": {},
   "source": [
    "publication strategy is to compare what sorts of models work. To that end we will\n",
    "Start with a baseline model based on case rates lagged n months XXX\n",
    "Add in variables and record improvement/change XXXX\n",
    "correlated municipios\n",
    "climatic variables (e.g. surface runoff, temperature) XXXX\n",
    "socioeconomic variables (eg population, income) XXXX\n",
    "el nino XXXX\n",
    "land use variables XXXX\n",
    "do this for n in [1-3]\n",
    "aggregate to microregions for comparability to other models\n",
    "may also include auto correlation by\n",
    "creating autocorrelation vectors with 24 month lag for each municipio\n",
    "clustering these vectors\n",
    "creating a categorical one hot variable for cluster membership"
   ]
  },
  {
   "cell_type": "markdown",
   "metadata": {},
   "source": [
    "### Load all data"
   ]
  },
  {
   "cell_type": "code",
   "execution_count": 34,
   "metadata": {},
   "outputs": [],
   "source": [
    "##Load categorical land cover data, it is saved in a tricky format so we need to do some processing, converting list of [[band, value]...] to columns of band - proportion of area\n",
    "band_names = ['water', 'trees', 'grass', 'flooded_vegetation', 'crops', 'shrub_scrub', 'built', 'bare', 'snow_ice']\n",
    "land_use = (\n",
    "    pl.read_csv('../data/land_use/dynamic_earth_all_munis_2017.csv')\n",
    "    .with_columns(\n",
    "        pl.col('histogram')\n",
    "        .str.extract_all(\n",
    "            r'\\s[0-9]*\\.[0-9]*'\n",
    "        )\n",
    "        .list.eval(pl.element().str.strip_chars())\n",
    "        .cast(pl.List(pl.Float32))\n",
    "    )\n",
    "    .with_columns(\n",
    "        pl.col('histogram').list.sum().alias('total_pixels'),\n",
    "        pl.col('histogram').list.to_struct(fields=band_names)\n",
    "    )\n",
    "    .unnest('histogram')\n",
    "    .with_columns(\n",
    "        [pl.col(band)/(pl.col('total_pixels'))for band in band_names],\n",
    "    )\n",
    "    .select(pl.exclude('total_pixels'))\n",
    "    .rename({'CD_MUN':'muni_id'})\n",
    ")"
   ]
  },
  {
   "cell_type": "code",
   "execution_count": 31,
   "metadata": {},
   "outputs": [],
   "source": [
    "#Load El nino data, cast and rename for join compatibility\n",
    "el_nino = pl.read_csv('../data/sst/sst_indices.csv').rename({'YR': 'year', 'MON': 'month'}).with_columns(pl.col('year').cast(str), pl.col('month').cast(pl.UInt32))"
   ]
  },
  {
   "cell_type": "code",
   "execution_count": 20,
   "metadata": {},
   "outputs": [],
   "source": [
    "#Load monthly dengue case counts -- Note, dengue download script has been updated, you can possibly just run this with a simple read_parquet\n",
    "#monthly cases are aggregated from the start of the month forward, environmental parameters from the end of the month backwards\n",
    "monthly_cases = pl.read_parquet('../data/cases/agged/dengue_per_month.parquet').with_columns(pl.col('DT_NOTIFIC').dt.offset_by('1mo').alias('end_date')).with_columns(pl.col('ID_MUNICIP').str.slice(offset=0,length=6).cast(pl.Int64)).sort('DT_NOTIFIC').rename({\n",
    "'DT_NOTIFIC': 'start_date',\n",
    "'ID_MUNICIP': 'muni_id'\n",
    "})"
   ]
  },
  {
   "cell_type": "code",
   "execution_count": 21,
   "metadata": {},
   "outputs": [],
   "source": [
    "#Load google earth engine dynamic exports\n",
    "monthly_params = pl.read_parquet('../data/gee_exports_test/all_parameters_2001-01-01_2021-01-01_months.parquet')"
   ]
  },
  {
   "cell_type": "code",
   "execution_count": 22,
   "metadata": {},
   "outputs": [],
   "source": [
    "#load municipio polygons, used in plotting later\n",
    "munis = gpd.read_file('../data/brazil/munis/munis_simple.shp').astype({'CD_MUN': 'string'})\n",
    "munis['CD_MUN'] = munis['CD_MUN'].str.slice(stop=-1).astype(int)"
   ]
  },
  {
   "cell_type": "code",
   "execution_count": 35,
   "metadata": {},
   "outputs": [
    {
     "data": {
      "text/html": [
       "<div><style>\n",
       ".dataframe > thead > tr,\n",
       ".dataframe > tbody > tr {\n",
       "  text-align: right;\n",
       "  white-space: pre-wrap;\n",
       "}\n",
       "</style>\n",
       "<small>shape: (1_331_230, 56)</small><table border=\"1\" class=\"dataframe\"><thead><tr><th>muni_id</th><th>start_date</th><th>count</th><th>x_centroid</th><th>y_centroid</th><th>NM_MUN</th><th>pop</th><th>year</th><th>cases_per_100k</th><th>end_date</th><th>temporal_sdm_both</th><th>start_date_right</th><th>temporal_sdm_albopictus</th><th>start_date_temporal_sdm_albopictus</th><th>temporal_sdm_aegypti</th><th>start_date_temporal_sdm_aegypti</th><th>EVI</th><th>start_date_EVI</th><th>total_evaporation_sum</th><th>start_date_total_evaporation_sum</th><th>total_precipitation_sum</th><th>start_date_total_precipitation_sum</th><th>evaporation_from_open_water_surfaces_excluding_oceans_min</th><th>start_date_evaporation_from_open_water_surfaces_excluding_oceans_min</th><th>soil_temperature_level_1</th><th>start_date_soil_temperature_level_1</th><th>runoff_sum</th><th>start_date_runoff_sum</th><th>surface_runoff_min</th><th>start_date_surface_runoff_min</th><th>volumetric_soil_water_layer_1</th><th>start_date_volumetric_soil_water_layer_1</th><th>dewpoint_temperature_2m</th><th>start_date_dewpoint_temperature_2m</th><th>temperature_2m</th><th>start_date_temperature_2m</th><th>total_precipitation_min</th><th>start_date_total_precipitation_min</th><th>month</th><th>NINO1+2</th><th>ANOM</th><th>NINO3</th><th>ANOM_1</th><th>NINO4</th><th>ANOM_2</th><th>NINO3.4</th><th>ANOM_3</th><th>water</th><th>trees</th><th>grass</th><th>flooded_vegetation</th><th>crops</th><th>shrub_scrub</th><th>built</th><th>bare</th><th>snow_ice</th></tr><tr><td>i64</td><td>date</td><td>u32</td><td>f64</td><td>f64</td><td>str</td><td>i64</td><td>str</td><td>f64</td><td>date</td><td>f64</td><td>date</td><td>f64</td><td>date</td><td>f64</td><td>date</td><td>f64</td><td>date</td><td>f64</td><td>date</td><td>f64</td><td>date</td><td>f64</td><td>date</td><td>f64</td><td>date</td><td>f64</td><td>date</td><td>f64</td><td>date</td><td>f64</td><td>date</td><td>f64</td><td>date</td><td>f64</td><td>date</td><td>f64</td><td>date</td><td>u32</td><td>f64</td><td>f64</td><td>f64</td><td>f64</td><td>f64</td><td>f64</td><td>f64</td><td>f64</td><td>f32</td><td>f32</td><td>f32</td><td>f32</td><td>f32</td><td>f32</td><td>f32</td><td>f32</td><td>f32</td></tr></thead><tbody><tr><td>261090</td><td>2001-01-01</td><td>4</td><td>6.9004e6</td><td>9.0303e6</td><td>&quot;Pesqueira&quot;</td><td>57600</td><td>&quot;2001&quot;</td><td>6.944444</td><td>2001-02-01</td><td>0.815822</td><td>2000-12-03</td><td>0.889802</td><td>2000-12-03</td><td>0.848074</td><td>2000-12-03</td><td>0.263019</td><td>2001-01-01</td><td>-0.000895</td><td>2001-01-01</td><td>0.000085</td><td>2001-01-01</td><td>-0.000351</td><td>2001-01-01</td><td>301.865679</td><td>2001-01-01</td><td>3.5763e-7</td><td>2001-01-01</td><td>3.4273e-7</td><td>2001-01-01</td><td>0.069654</td><td>2001-01-01</td><td>288.65525</td><td>2001-01-01</td><td>296.732309</td><td>2001-01-01</td><td>0.000085</td><td>2001-01-01</td><td>2</td><td>25.71</td><td>-0.38</td><td>26.17</td><td>-0.21</td><td>27.1</td><td>-0.99</td><td>26.18</td><td>-0.56</td><td>0.001442</td><td>0.054273</td><td>0.003199</td><td>0.000601</td><td>0.043381</td><td>0.845582</td><td>0.011995</td><td>0.038997</td><td>0.000531</td></tr><tr><td>261160</td><td>2001-01-01</td><td>93</td><td>7.1010e6</td><td>9.0621e6</td><td>&quot;Recife&quot;</td><td>1437190</td><td>&quot;2001&quot;</td><td>6.470961</td><td>2001-02-01</td><td>0.147099</td><td>2000-12-03</td><td>0.079524</td><td>2000-12-03</td><td>0.124176</td><td>2000-12-03</td><td>0.206202</td><td>2001-01-01</td><td>-0.002609</td><td>2001-01-01</td><td>0.000917</td><td>2001-01-01</td><td>-0.001167</td><td>2001-01-01</td><td>301.231897</td><td>2001-01-01</td><td>0.000095</td><td>2001-01-01</td><td>0.000007</td><td>2001-01-01</td><td>0.243936</td><td>2001-01-01</td><td>293.678382</td><td>2001-01-01</td><td>299.746231</td><td>2001-01-01</td><td>0.000917</td><td>2001-01-01</td><td>2</td><td>25.71</td><td>-0.38</td><td>26.17</td><td>-0.21</td><td>27.1</td><td>-0.99</td><td>26.18</td><td>-0.56</td><td>0.058746</td><td>0.132567</td><td>0.01401</td><td>0.00674</td><td>0.068523</td><td>0.008962</td><td>0.698849</td><td>0.010218</td><td>0.001385</td></tr><tr><td>221140</td><td>2001-01-01</td><td>14</td><td>6.3021e6</td><td>9.2600e6</td><td>&quot;Várzea Grande&quot;</td><td>4480</td><td>&quot;2001&quot;</td><td>312.5</td><td>2001-02-01</td><td>0.304474</td><td>2000-12-03</td><td>0.113402</td><td>2000-12-03</td><td>0.27118</td><td>2000-12-03</td><td>0.361755</td><td>2001-01-01</td><td>-0.003763</td><td>2001-01-01</td><td>0.003502</td><td>2001-01-01</td><td>-0.000998</td><td>2001-01-01</td><td>299.873278</td><td>2001-01-01</td><td>0.000029</td><td>2001-01-01</td><td>0.000026</td><td>2001-01-01</td><td>0.33123</td><td>2001-01-01</td><td>294.040172</td><td>2001-01-01</td><td>298.064608</td><td>2001-01-01</td><td>0.003502</td><td>2001-01-01</td><td>2</td><td>25.71</td><td>-0.38</td><td>26.17</td><td>-0.21</td><td>27.1</td><td>-0.99</td><td>26.18</td><td>-0.56</td><td>0.0</td><td>0.431499</td><td>0.175103</td><td>0.008541</td><td>0.056766</td><td>0.313681</td><td>0.012977</td><td>0.001391</td><td>0.000042</td></tr><tr><td>330250</td><td>2001-01-01</td><td>48</td><td>6.1183e6</td><td>7.4575e6</td><td>&quot;Magé&quot;</td><td>210861</td><td>&quot;2001&quot;</td><td>22.763811</td><td>2001-02-01</td><td>0.397118</td><td>2000-12-03</td><td>0.38288</td><td>2000-12-03</td><td>0.360123</td><td>2000-12-03</td><td>0.362983</td><td>2001-01-01</td><td>-0.005113</td><td>2001-01-01</td><td>0.003515</td><td>2001-01-01</td><td>-0.000491</td><td>2001-01-01</td><td>300.473692</td><td>2001-01-01</td><td>0.000505</td><td>2001-01-01</td><td>0.000063</td><td>2001-01-01</td><td>0.381232</td><td>2001-01-01</td><td>294.807948</td><td>2001-01-01</td><td>299.037432</td><td>2001-01-01</td><td>0.003515</td><td>2001-01-01</td><td>2</td><td>25.71</td><td>-0.38</td><td>26.17</td><td>-0.21</td><td>27.1</td><td>-0.99</td><td>26.18</td><td>-0.56</td><td>0.005546</td><td>0.714475</td><td>0.071664</td><td>0.002938</td><td>0.015708</td><td>0.018429</td><td>0.167235</td><td>0.002981</td><td>0.001025</td></tr><tr><td>312770</td><td>2001-01-01</td><td>1747</td><td>6.2680e6</td><td>7.8794e6</td><td>&quot;Governador Val…</td><td>248960</td><td>&quot;2001&quot;</td><td>701.719152</td><td>2001-02-01</td><td>0.10519</td><td>2000-12-03</td><td>0.042876</td><td>2000-12-03</td><td>0.083847</td><td>2000-12-03</td><td>0.276075</td><td>2001-01-01</td><td>-0.004198</td><td>2001-01-01</td><td>0.000386</td><td>2001-01-01</td><td>-0.000926</td><td>2001-01-01</td><td>299.908398</td><td>2001-01-01</td><td>0.000441</td><td>2001-01-01</td><td>0.000005</td><td>2001-01-01</td><td>0.360168</td><td>2001-01-01</td><td>292.610876</td><td>2001-01-01</td><td>298.945548</td><td>2001-01-01</td><td>0.000386</td><td>2001-01-01</td><td>2</td><td>25.71</td><td>-0.38</td><td>26.17</td><td>-0.21</td><td>27.1</td><td>-0.99</td><td>26.18</td><td>-0.56</td><td>0.011376</td><td>0.296313</td><td>0.123885</td><td>0.008196</td><td>0.015853</td><td>0.499543</td><td>0.024559</td><td>0.018607</td><td>0.001668</td></tr><tr><td>313580</td><td>2001-01-01</td><td>50</td><td>6.3789e6</td><td>8.1435e6</td><td>&quot;Jequitinhonha&quot;</td><td>22869</td><td>&quot;2001&quot;</td><td>218.636582</td><td>2001-02-01</td><td>0.454964</td><td>2000-12-03</td><td>0.336327</td><td>2000-12-03</td><td>0.432499</td><td>2000-12-03</td><td>0.446538</td><td>2001-01-01</td><td>-0.002907</td><td>2001-01-01</td><td>0.000233</td><td>2001-01-01</td><td>-0.000221</td><td>2001-01-01</td><td>298.074134</td><td>2001-01-01</td><td>0.000006</td><td>2001-01-01</td><td>0.000005</td><td>2001-01-01</td><td>0.246051</td><td>2001-01-01</td><td>290.895849</td><td>2001-01-01</td><td>297.171467</td><td>2001-01-01</td><td>0.000233</td><td>2001-01-01</td><td>2</td><td>25.71</td><td>-0.38</td><td>26.17</td><td>-0.21</td><td>27.1</td><td>-0.99</td><td>26.18</td><td>-0.56</td><td>0.00753</td><td>0.440422</td><td>0.089223</td><td>0.005186</td><td>0.016019</td><td>0.424698</td><td>0.003352</td><td>0.010957</td><td>0.002614</td></tr><tr><td>171610</td><td>2001-01-01</td><td>444</td><td>5.5667e6</td><td>8.8655e6</td><td>&quot;Paraíso do Toc…</td><td>37141</td><td>&quot;2001&quot;</td><td>1195.444388</td><td>2001-02-01</td><td>0.247628</td><td>2000-12-03</td><td>0.136621</td><td>2000-12-03</td><td>0.246882</td><td>2000-12-03</td><td>0.276841</td><td>2001-01-01</td><td>-0.003866</td><td>2001-01-01</td><td>0.00633</td><td>2001-01-01</td><td>-0.00057</td><td>2001-01-01</td><td>299.48356</td><td>2001-01-01</td><td>0.002074</td><td>2001-01-01</td><td>0.000382</td><td>2001-01-01</td><td>0.444521</td><td>2001-01-01</td><td>294.603184</td><td>2001-01-01</td><td>297.764315</td><td>2001-01-01</td><td>0.00633</td><td>2001-01-01</td><td>2</td><td>25.71</td><td>-0.38</td><td>26.17</td><td>-0.21</td><td>27.1</td><td>-0.99</td><td>26.18</td><td>-0.56</td><td>0.000884</td><td>0.431001</td><td>0.256602</td><td>0.006719</td><td>0.062174</td><td>0.216238</td><td>0.018204</td><td>0.005273</td><td>0.002906</td></tr><tr><td>170210</td><td>2001-01-01</td><td>150</td><td>5.5976e6</td><td>9.1857e6</td><td>&quot;Araguaína&quot;</td><td>115901</td><td>&quot;2001&quot;</td><td>129.420799</td><td>2001-02-01</td><td>0.189552</td><td>2000-12-03</td><td>0.099603</td><td>2000-12-03</td><td>0.181836</td><td>2000-12-03</td><td>0.198832</td><td>2001-01-01</td><td>-0.003844</td><td>2001-01-01</td><td>0.007471</td><td>2001-01-01</td><td>-0.001107</td><td>2001-01-01</td><td>299.693874</td><td>2001-01-01</td><td>0.000536</td><td>2001-01-01</td><td>0.000071</td><td>2001-01-01</td><td>0.285822</td><td>2001-01-01</td><td>294.950382</td><td>2001-01-01</td><td>297.89037</td><td>2001-01-01</td><td>0.007471</td><td>2001-01-01</td><td>2</td><td>25.71</td><td>-0.38</td><td>26.17</td><td>-0.21</td><td>27.1</td><td>-0.99</td><td>26.18</td><td>-0.56</td><td>0.006107</td><td>0.421319</td><td>0.254482</td><td>0.004492</td><td>0.064307</td><td>0.229427</td><td>0.014861</td><td>0.00367</td><td>0.001334</td></tr><tr><td>170755</td><td>2001-01-01</td><td>35</td><td>5.5607e6</td><td>8.7999e6</td><td>&quot;Fátima&quot;</td><td>3841</td><td>&quot;2001&quot;</td><td>911.221036</td><td>2001-02-01</td><td>0.197322</td><td>2000-12-03</td><td>0.104244</td><td>2000-12-03</td><td>0.190829</td><td>2000-12-03</td><td>0.325845</td><td>2001-01-01</td><td>-0.004067</td><td>2001-01-01</td><td>0.008119</td><td>2001-01-01</td><td>-0.000482</td><td>2001-01-01</td><td>299.681606</td><td>2001-01-01</td><td>0.002192</td><td>2001-01-01</td><td>0.000409</td><td>2001-01-01</td><td>0.467721</td><td>2001-01-01</td><td>294.927485</td><td>2001-01-01</td><td>298.066118</td><td>2001-01-01</td><td>0.008119</td><td>2001-01-01</td><td>2</td><td>25.71</td><td>-0.38</td><td>26.17</td><td>-0.21</td><td>27.1</td><td>-0.99</td><td>26.18</td><td>-0.56</td><td>0.001973</td><td>0.420639</td><td>0.382428</td><td>0.004568</td><td>0.051912</td><td>0.122061</td><td>0.006416</td><td>0.007405</td><td>0.002599</td></tr><tr><td>354890</td><td>2001-01-01</td><td>8</td><td>5.6335e6</td><td>7.5625e6</td><td>&quot;São Carlos&quot;</td><td>197184</td><td>&quot;2001&quot;</td><td>4.057124</td><td>2001-02-01</td><td>0.81563</td><td>2000-12-03</td><td>0.888642</td><td>2000-12-03</td><td>0.855254</td><td>2000-12-03</td><td>0.296026</td><td>2001-01-01</td><td>-0.005035</td><td>2001-01-01</td><td>0.00392</td><td>2001-01-01</td><td>-0.000878</td><td>2001-01-01</td><td>297.636942</td><td>2001-01-01</td><td>0.000202</td><td>2001-01-01</td><td>0.000058</td><td>2001-01-01</td><td>0.422378</td><td>2001-01-01</td><td>291.796509</td><td>2001-01-01</td><td>295.882964</td><td>2001-01-01</td><td>0.00392</td><td>2001-01-01</td><td>2</td><td>25.71</td><td>-0.38</td><td>26.17</td><td>-0.21</td><td>27.1</td><td>-0.99</td><td>26.18</td><td>-0.56</td><td>0.005289</td><td>0.286023</td><td>0.157084</td><td>0.003286</td><td>0.439225</td><td>0.025775</td><td>0.075624</td><td>0.007385</td><td>0.000309</td></tr><tr><td>350320</td><td>2001-01-01</td><td>36</td><td>5.6016e6</td><td>7.5779e6</td><td>&quot;Araraquara&quot;</td><td>185064</td><td>&quot;2001&quot;</td><td>19.45273</td><td>2001-02-01</td><td>0.655433</td><td>2000-12-03</td><td>0.838381</td><td>2000-12-03</td><td>0.761627</td><td>2000-12-03</td><td>0.297323</td><td>2001-01-01</td><td>-0.004672</td><td>2001-01-01</td><td>0.002191</td><td>2001-01-01</td><td>-0.000689</td><td>2001-01-01</td><td>298.696437</td><td>2001-01-01</td><td>0.00028</td><td>2001-01-01</td><td>0.00004</td><td>2001-01-01</td><td>0.464134</td><td>2001-01-01</td><td>292.662469</td><td>2001-01-01</td><td>297.050021</td><td>2001-01-01</td><td>0.002191</td><td>2001-01-01</td><td>2</td><td>25.71</td><td>-0.38</td><td>26.17</td><td>-0.21</td><td>27.1</td><td>-0.99</td><td>26.18</td><td>-0.56</td><td>0.002776</td><td>0.220329</td><td>0.079613</td><td>0.003973</td><td>0.576628</td><td>0.015422</td><td>0.086296</td><td>0.013683</td><td>0.001279</td></tr><tr><td>350280</td><td>2001-01-01</td><td>64</td><td>5.3558e6</td><td>7.6605e6</td><td>&quot;Araçatuba&quot;</td><td>171289</td><td>&quot;2001&quot;</td><td>37.363754</td><td>2001-02-01</td><td>0.195582</td><td>2000-12-03</td><td>0.328498</td><td>2000-12-03</td><td>0.287726</td><td>2000-12-03</td><td>0.303467</td><td>2001-01-01</td><td>-0.004749</td><td>2001-01-01</td><td>0.002961</td><td>2001-01-01</td><td>-0.000526</td><td>2001-01-01</td><td>300.228836</td><td>2001-01-01</td><td>0.00057</td><td>2001-01-01</td><td>0.000018</td><td>2001-01-01</td><td>0.251079</td><td>2001-01-01</td><td>294.862357</td><td>2001-01-01</td><td>298.966375</td><td>2001-01-01</td><td>0.002961</td><td>2001-01-01</td><td>2</td><td>25.71</td><td>-0.38</td><td>26.17</td><td>-0.21</td><td>27.1</td><td>-0.99</td><td>26.18</td><td>-0.56</td><td>0.126589</td><td>0.082968</td><td>0.334066</td><td>0.001113</td><td>0.393005</td><td>0.002875</td><td>0.057624</td><td>0.001729</td><td>0.000032</td></tr><tr><td>&hellip;</td><td>&hellip;</td><td>&hellip;</td><td>&hellip;</td><td>&hellip;</td><td>&hellip;</td><td>&hellip;</td><td>&hellip;</td><td>&hellip;</td><td>&hellip;</td><td>&hellip;</td><td>&hellip;</td><td>&hellip;</td><td>&hellip;</td><td>&hellip;</td><td>&hellip;</td><td>&hellip;</td><td>&hellip;</td><td>&hellip;</td><td>&hellip;</td><td>&hellip;</td><td>&hellip;</td><td>&hellip;</td><td>&hellip;</td><td>&hellip;</td><td>&hellip;</td><td>&hellip;</td><td>&hellip;</td><td>&hellip;</td><td>&hellip;</td><td>&hellip;</td><td>&hellip;</td><td>&hellip;</td><td>&hellip;</td><td>&hellip;</td><td>&hellip;</td><td>&hellip;</td><td>&hellip;</td><td>&hellip;</td><td>&hellip;</td><td>&hellip;</td><td>&hellip;</td><td>&hellip;</td><td>&hellip;</td><td>&hellip;</td><td>&hellip;</td><td>&hellip;</td><td>&hellip;</td><td>&hellip;</td><td>&hellip;</td><td>&hellip;</td><td>&hellip;</td><td>&hellip;</td><td>&hellip;</td><td>&hellip;</td><td>&hellip;</td></tr><tr><td>160055</td><td>2020-11-01</td><td>0</td><td>5.3028e6</td><td>1.0180e7</td><td>&quot;Pracuúba&quot;</td><td>5246</td><td>&quot;2020&quot;</td><td>0.0</td><td>2020-12-01</td><td>0.102559</td><td>2020-10-02</td><td>0.043034</td><td>2020-10-02</td><td>0.23724</td><td>2020-10-02</td><td>0.297795</td><td>2020-11-01</td><td>-0.00379</td><td>2020-11-01</td><td>0.006012</td><td>2020-11-01</td><td>-0.000289</td><td>2020-11-01</td><td>299.741233</td><td>2020-11-01</td><td>0.000261</td><td>2020-11-01</td><td>0.000071</td><td>2020-11-01</td><td>0.393965</td><td>2020-11-01</td><td>296.638281</td><td>2020-11-01</td><td>299.357029</td><td>2020-11-01</td><td>0.006012</td><td>2020-11-01</td><td>12</td><td>21.98</td><td>-0.86</td><td>24.56</td><td>-0.7</td><td>27.6</td><td>-0.85</td><td>25.66</td><td>-0.99</td><td>0.01408</td><td>0.834274</td><td>0.080974</td><td>0.014387</td><td>0.010725</td><td>0.025252</td><td>0.006069</td><td>0.001819</td><td>0.012419</td></tr><tr><td>292210</td><td>2020-11-01</td><td>0</td><td>6.4634e6</td><td>8.6426e6</td><td>&quot;Mundo Novo&quot;</td><td>26970</td><td>&quot;2020&quot;</td><td>0.0</td><td>2020-12-01</td><td>0.52226</td><td>2020-10-02</td><td>0.73382</td><td>2020-10-02</td><td>0.716169</td><td>2020-10-02</td><td>0.333078</td><td>2020-11-01</td><td>-0.003023</td><td>2020-11-01</td><td>0.002278</td><td>2020-11-01</td><td>-0.000554</td><td>2020-11-01</td><td>297.667272</td><td>2020-11-01</td><td>0.000018</td><td>2020-11-01</td><td>0.000018</td><td>2020-11-01</td><td>0.369582</td><td>2020-11-01</td><td>291.432523</td><td>2020-11-01</td><td>296.304633</td><td>2020-11-01</td><td>0.002278</td><td>2020-11-01</td><td>12</td><td>21.98</td><td>-0.86</td><td>24.56</td><td>-0.7</td><td>27.6</td><td>-0.85</td><td>25.66</td><td>-0.99</td><td>0.000282</td><td>0.30954</td><td>0.080032</td><td>0.003109</td><td>0.020355</td><td>0.536832</td><td>0.005762</td><td>0.040183</td><td>0.003905</td></tr><tr><td>221140</td><td>2020-11-01</td><td>0</td><td>6.3021e6</td><td>9.2600e6</td><td>&quot;Várzea Grande&quot;</td><td>4386</td><td>&quot;2020&quot;</td><td>0.0</td><td>2020-12-01</td><td>0.033843</td><td>2020-10-02</td><td>0.058821</td><td>2020-10-02</td><td>0.061329</td><td>2020-10-02</td><td>0.3252</td><td>2020-11-01</td><td>-0.002416</td><td>2020-11-01</td><td>0.000195</td><td>2020-11-01</td><td>-0.000944</td><td>2020-11-01</td><td>302.967831</td><td>2020-11-01</td><td>0.000004</td><td>2020-11-01</td><td>6.7428e-7</td><td>2020-11-01</td><td>0.198798</td><td>2020-11-01</td><td>291.535117</td><td>2020-11-01</td><td>301.369224</td><td>2020-11-01</td><td>0.000195</td><td>2020-11-01</td><td>12</td><td>21.98</td><td>-0.86</td><td>24.56</td><td>-0.7</td><td>27.6</td><td>-0.85</td><td>25.66</td><td>-0.99</td><td>0.0</td><td>0.431499</td><td>0.175103</td><td>0.008541</td><td>0.056766</td><td>0.313681</td><td>0.012977</td><td>0.001391</td><td>0.000042</td></tr><tr><td>430367</td><td>2020-11-01</td><td>0</td><td>5.2834e6</td><td>6.8176e6</td><td>&quot;Campestre da S…</td><td>3395</td><td>&quot;2020&quot;</td><td>0.0</td><td>2020-12-01</td><td>0.704085</td><td>2020-10-02</td><td>0.167256</td><td>2020-10-02</td><td>0.773002</td><td>2020-10-02</td><td>0.425393</td><td>2020-11-01</td><td>-0.003995</td><td>2020-11-01</td><td>0.00029</td><td>2020-11-01</td><td>-0.000862</td><td>2020-11-01</td><td>293.486706</td><td>2020-11-01</td><td>0.000434</td><td>2020-11-01</td><td>0.000002</td><td>2020-11-01</td><td>0.355504</td><td>2020-11-01</td><td>286.026382</td><td>2020-11-01</td><td>292.51445</td><td>2020-11-01</td><td>0.00029</td><td>2020-11-01</td><td>12</td><td>21.98</td><td>-0.86</td><td>24.56</td><td>-0.7</td><td>27.6</td><td>-0.85</td><td>25.66</td><td>-0.99</td><td>0.004803</td><td>0.508087</td><td>0.234766</td><td>0.001543</td><td>0.230928</td><td>0.010616</td><td>0.007729</td><td>0.000488</td><td>0.00104</td></tr><tr><td>220240</td><td>2020-11-01</td><td>0</td><td>6.3426e6</td><td>9.4887e6</td><td>&quot;Capitão de Cam…</td><td>11445</td><td>&quot;2020&quot;</td><td>0.0</td><td>2020-12-01</td><td>0.056915</td><td>2020-10-02</td><td>0.023695</td><td>2020-10-02</td><td>0.023816</td><td>2020-10-02</td><td>0.322521</td><td>2020-11-01</td><td>-0.003866</td><td>2020-11-01</td><td>0.000336</td><td>2020-11-01</td><td>-0.00219</td><td>2020-11-01</td><td>303.385579</td><td>2020-11-01</td><td>0.000027</td><td>2020-11-01</td><td>0.000003</td><td>2020-11-01</td><td>0.300718</td><td>2020-11-01</td><td>293.975485</td><td>2020-11-01</td><td>301.842152</td><td>2020-11-01</td><td>0.000336</td><td>2020-11-01</td><td>12</td><td>21.98</td><td>-0.86</td><td>24.56</td><td>-0.7</td><td>27.6</td><td>-0.85</td><td>25.66</td><td>-0.99</td><td>0.00007</td><td>0.52302</td><td>0.035132</td><td>0.00085</td><td>0.008351</td><td>0.394654</td><td>0.012213</td><td>0.02571</td><td>0.0</td></tr><tr><td>317060</td><td>2020-11-01</td><td>0</td><td>5.7995e6</td><td>7.7212e6</td><td>&quot;Vargem Bonita&quot;</td><td>2148</td><td>&quot;2020&quot;</td><td>0.0</td><td>2020-12-01</td><td>0.979431</td><td>2020-10-02</td><td>0.861587</td><td>2020-10-02</td><td>0.81629</td><td>2020-10-02</td><td>0.250171</td><td>2020-11-01</td><td>-0.003505</td><td>2020-11-01</td><td>0.00112</td><td>2020-11-01</td><td>-0.000707</td><td>2020-11-01</td><td>296.528248</td><td>2020-11-01</td><td>0.000051</td><td>2020-11-01</td><td>0.000012</td><td>2020-11-01</td><td>0.442224</td><td>2020-11-01</td><td>289.234283</td><td>2020-11-01</td><td>294.973733</td><td>2020-11-01</td><td>0.00112</td><td>2020-11-01</td><td>12</td><td>21.98</td><td>-0.86</td><td>24.56</td><td>-0.7</td><td>27.6</td><td>-0.85</td><td>25.66</td><td>-0.99</td><td>0.001598</td><td>0.308645</td><td>0.542548</td><td>0.003146</td><td>0.040459</td><td>0.074092</td><td>0.004764</td><td>0.019607</td><td>0.005141</td></tr><tr><td>240400</td><td>2020-11-01</td><td>0</td><td>6.7884e6</td><td>9.2916e6</td><td>&quot;Frutuoso Gomes…</td><td>4041</td><td>&quot;2020&quot;</td><td>0.0</td><td>2020-12-01</td><td>0.026259</td><td>2020-10-02</td><td>0.080753</td><td>2020-10-02</td><td>0.012444</td><td>2020-10-02</td><td>0.193485</td><td>2020-11-01</td><td>-0.000454</td><td>2020-11-01</td><td>0.000008</td><td>2020-11-01</td><td>-0.00006</td><td>2020-11-01</td><td>307.499027</td><td>2020-11-01</td><td>1.1176e-7</td><td>2020-11-01</td><td>5.2154e-8</td><td>2020-11-01</td><td>0.146275</td><td>2020-11-01</td><td>289.646455</td><td>2020-11-01</td><td>302.200159</td><td>2020-11-01</td><td>0.000008</td><td>2020-11-01</td><td>12</td><td>21.98</td><td>-0.86</td><td>24.56</td><td>-0.7</td><td>27.6</td><td>-0.85</td><td>25.66</td><td>-0.99</td><td>0.000468</td><td>0.014018</td><td>0.000771</td><td>0.000156</td><td>0.034576</td><td>0.931383</td><td>0.01264</td><td>0.005988</td><td>0.0</td></tr><tr><td>211080</td><td>2020-11-01</td><td>0</td><td>6.0071e6</td><td>9.2059e6</td><td>&quot;São Félix de B…</td><td>4562</td><td>&quot;2020&quot;</td><td>0.0</td><td>2020-12-01</td><td>0.080711</td><td>2020-10-02</td><td>0.061086</td><td>2020-10-02</td><td>0.17204</td><td>2020-10-02</td><td>0.335909</td><td>2020-11-01</td><td>-0.003651</td><td>2020-11-01</td><td>0.000229</td><td>2020-11-01</td><td>-0.000764</td><td>2020-11-01</td><td>301.353131</td><td>2020-11-01</td><td>0.000021</td><td>2020-11-01</td><td>3.8743e-7</td><td>2020-11-01</td><td>0.136757</td><td>2020-11-01</td><td>293.692245</td><td>2020-11-01</td><td>300.191079</td><td>2020-11-01</td><td>0.000229</td><td>2020-11-01</td><td>12</td><td>21.98</td><td>-0.86</td><td>24.56</td><td>-0.7</td><td>27.6</td><td>-0.85</td><td>25.66</td><td>-0.99</td><td>0.002116</td><td>0.436378</td><td>0.064272</td><td>0.007126</td><td>0.022188</td><td>0.46011</td><td>0.004161</td><td>0.003226</td><td>0.000422</td></tr><tr><td>430905</td><td>2020-11-01</td><td>0</td><td>5.3119e6</td><td>6.6881e6</td><td>&quot;Glorinha&quot;</td><td>8204</td><td>&quot;2020&quot;</td><td>0.0</td><td>2020-12-01</td><td>0.69125</td><td>2020-10-02</td><td>0.591137</td><td>2020-10-02</td><td>0.759207</td><td>2020-10-02</td><td>0.406938</td><td>2020-11-01</td><td>-0.004167</td><td>2020-11-01</td><td>0.000783</td><td>2020-11-01</td><td>-0.000661</td><td>2020-11-01</td><td>294.542824</td><td>2020-11-01</td><td>0.000617</td><td>2020-11-01</td><td>0.000007</td><td>2020-11-01</td><td>0.400782</td><td>2020-11-01</td><td>290.577683</td><td>2020-11-01</td><td>293.77726</td><td>2020-11-01</td><td>0.000783</td><td>2020-11-01</td><td>12</td><td>21.98</td><td>-0.86</td><td>24.56</td><td>-0.7</td><td>27.6</td><td>-0.85</td><td>25.66</td><td>-0.99</td><td>0.024119</td><td>0.204479</td><td>0.637211</td><td>0.019882</td><td>0.091246</td><td>0.004967</td><td>0.017424</td><td>0.000373</td><td>0.000297</td></tr><tr><td>251360</td><td>2020-11-01</td><td>0</td><td>6.7705e6</td><td>9.1512e6</td><td>&quot;Santana dos Ga…</td><td>6986</td><td>&quot;2020&quot;</td><td>0.0</td><td>2020-12-01</td><td>0.025973</td><td>2020-10-02</td><td>0.087287</td><td>2020-10-02</td><td>0.012387</td><td>2020-10-02</td><td>0.330943</td><td>2020-11-01</td><td>-0.000608</td><td>2020-11-01</td><td>0.000003</td><td>2020-11-01</td><td>-0.000085</td><td>2020-11-01</td><td>307.40912</td><td>2020-11-01</td><td>3.2783e-7</td><td>2020-11-01</td><td>7.4506e-9</td><td>2020-11-01</td><td>0.081561</td><td>2020-11-01</td><td>288.792671</td><td>2020-11-01</td><td>302.132473</td><td>2020-11-01</td><td>0.000003</td><td>2020-11-01</td><td>12</td><td>21.98</td><td>-0.86</td><td>24.56</td><td>-0.7</td><td>27.6</td><td>-0.85</td><td>25.66</td><td>-0.99</td><td>0.005821</td><td>0.032066</td><td>0.015544</td><td>0.00049</td><td>0.059754</td><td>0.795844</td><td>0.003674</td><td>0.086753</td><td>0.000054</td></tr><tr><td>311810</td><td>2020-11-01</td><td>0</td><td>6.0861e6</td><td>7.8818e6</td><td>&quot;Congonhas do N…</td><td>5046</td><td>&quot;2020&quot;</td><td>0.0</td><td>2020-12-01</td><td>0.70505</td><td>2020-10-02</td><td>0.323008</td><td>2020-10-02</td><td>0.757217</td><td>2020-10-02</td><td>0.212495</td><td>2020-11-01</td><td>-0.004131</td><td>2020-11-01</td><td>0.001365</td><td>2020-11-01</td><td>-0.000766</td><td>2020-11-01</td><td>294.664327</td><td>2020-11-01</td><td>0.000068</td><td>2020-11-01</td><td>0.000014</td><td>2020-11-01</td><td>0.362629</td><td>2020-11-01</td><td>288.709519</td><td>2020-11-01</td><td>293.183793</td><td>2020-11-01</td><td>0.001365</td><td>2020-11-01</td><td>12</td><td>21.98</td><td>-0.86</td><td>24.56</td><td>-0.7</td><td>27.6</td><td>-0.85</td><td>25.66</td><td>-0.99</td><td>0.000255</td><td>0.320232</td><td>0.114985</td><td>0.005234</td><td>0.009169</td><td>0.519931</td><td>0.006819</td><td>0.016243</td><td>0.007131</td></tr><tr><td>312930</td><td>2020-11-01</td><td>0</td><td>6.2344e6</td><td>7.8179e6</td><td>&quot;Iapu&quot;</td><td>11045</td><td>&quot;2020&quot;</td><td>0.0</td><td>2020-12-01</td><td>0.949502</td><td>2020-10-02</td><td>0.816954</td><td>2020-10-02</td><td>0.852459</td><td>2020-10-02</td><td>0.236905</td><td>2020-11-01</td><td>-0.003204</td><td>2020-11-01</td><td>0.001066</td><td>2020-11-01</td><td>-0.00048</td><td>2020-11-01</td><td>297.923583</td><td>2020-11-01</td><td>0.000026</td><td>2020-11-01</td><td>0.000013</td><td>2020-11-01</td><td>0.454383</td><td>2020-11-01</td><td>291.472149</td><td>2020-11-01</td><td>296.5086</td><td>2020-11-01</td><td>0.001066</td><td>2020-11-01</td><td>12</td><td>21.98</td><td>-0.86</td><td>24.56</td><td>-0.7</td><td>27.6</td><td>-0.85</td><td>25.66</td><td>-0.99</td><td>0.014081</td><td>0.256653</td><td>0.1366</td><td>0.005049</td><td>0.010988</td><td>0.552693</td><td>0.010891</td><td>0.011447</td><td>0.001598</td></tr></tbody></table></div>"
      ],
      "text/plain": [
       "shape: (1_331_230, 56)\n",
       "┌─────────┬────────────┬───────┬────────────┬───┬─────────────┬──────────┬──────────┬──────────┐\n",
       "│ muni_id ┆ start_date ┆ count ┆ x_centroid ┆ … ┆ shrub_scrub ┆ built    ┆ bare     ┆ snow_ice │\n",
       "│ ---     ┆ ---        ┆ ---   ┆ ---        ┆   ┆ ---         ┆ ---      ┆ ---      ┆ ---      │\n",
       "│ i64     ┆ date       ┆ u32   ┆ f64        ┆   ┆ f32         ┆ f32      ┆ f32      ┆ f32      │\n",
       "╞═════════╪════════════╪═══════╪════════════╪═══╪═════════════╪══════════╪══════════╪══════════╡\n",
       "│ 261090  ┆ 2001-01-01 ┆ 4     ┆ 6.9004e6   ┆ … ┆ 0.845582    ┆ 0.011995 ┆ 0.038997 ┆ 0.000531 │\n",
       "│ 261160  ┆ 2001-01-01 ┆ 93    ┆ 7.1010e6   ┆ … ┆ 0.008962    ┆ 0.698849 ┆ 0.010218 ┆ 0.001385 │\n",
       "│ 221140  ┆ 2001-01-01 ┆ 14    ┆ 6.3021e6   ┆ … ┆ 0.313681    ┆ 0.012977 ┆ 0.001391 ┆ 0.000042 │\n",
       "│ 330250  ┆ 2001-01-01 ┆ 48    ┆ 6.1183e6   ┆ … ┆ 0.018429    ┆ 0.167235 ┆ 0.002981 ┆ 0.001025 │\n",
       "│ …       ┆ …          ┆ …     ┆ …          ┆ … ┆ …           ┆ …        ┆ …        ┆ …        │\n",
       "│ 430905  ┆ 2020-11-01 ┆ 0     ┆ 5.3119e6   ┆ … ┆ 0.004967    ┆ 0.017424 ┆ 0.000373 ┆ 0.000297 │\n",
       "│ 251360  ┆ 2020-11-01 ┆ 0     ┆ 6.7705e6   ┆ … ┆ 0.795844    ┆ 0.003674 ┆ 0.086753 ┆ 0.000054 │\n",
       "│ 311810  ┆ 2020-11-01 ┆ 0     ┆ 6.0861e6   ┆ … ┆ 0.519931    ┆ 0.006819 ┆ 0.016243 ┆ 0.007131 │\n",
       "│ 312930  ┆ 2020-11-01 ┆ 0     ┆ 6.2344e6   ┆ … ┆ 0.552693    ┆ 0.010891 ┆ 0.011447 ┆ 0.001598 │\n",
       "└─────────┴────────────┴───────┴────────────┴───┴─────────────┴──────────┴──────────┴──────────┘"
      ]
     },
     "execution_count": 35,
     "metadata": {},
     "output_type": "execute_result"
    }
   ],
   "source": [
    "#join datasets\n",
    "all_data = (\n",
    "    monthly_cases.join(monthly_params, how='inner', on=['muni_id', 'end_date']).with_columns(pl.col('end_date').alias('month').dt.month())\n",
    "    .join(el_nino, how='left', on=['year', 'month'])\n",
    "    .join(land_use, how='left', on='muni_id')\n",
    ")\n",
    "\n",
    "all_data"
   ]
  },
  {
   "cell_type": "markdown",
   "metadata": {},
   "source": [
    "## Experiments"
   ]
  },
  {
   "cell_type": "code",
   "execution_count": null,
   "metadata": {},
   "outputs": [],
   "source": [
    "#Dictionary to hold all results\n",
    "ALL_RESULTS = {}"
   ]
  },
  {
   "cell_type": "markdown",
   "metadata": {},
   "source": [
    "##### 1. Ridge Regression Classification using Binary/Ternary and Simple/Relative - Most basic classification model (linear least squares regression)"
   ]
  },
  {
   "cell_type": "markdown",
   "metadata": {},
   "source": [
    "##### 2. Classification using Gradient Boosting Classifier"
   ]
  },
  {
   "cell_type": "markdown",
   "metadata": {},
   "source": [
    "##### 3. Time Lag Search"
   ]
  },
  {
   "cell_type": "markdown",
   "metadata": {},
   "source": [
    "##### 4. Non-contiguous time-lag search"
   ]
  },
  {
   "cell_type": "markdown",
   "metadata": {},
   "source": [
    "##### 5. Environmental feature search"
   ]
  },
  {
   "cell_type": "markdown",
   "metadata": {},
   "source": [
    "##### 6. Lag-correlated municipios"
   ]
  }
 ],
 "metadata": {
  "kernelspec": {
   "display_name": "new_dengue",
   "language": "python",
   "name": "python3"
  },
  "language_info": {
   "codemirror_mode": {
    "name": "ipython",
    "version": 3
   },
   "file_extension": ".py",
   "mimetype": "text/x-python",
   "name": "python",
   "nbconvert_exporter": "python",
   "pygments_lexer": "ipython3",
   "version": "3.11.5"
  }
 },
 "nbformat": 4,
 "nbformat_minor": 2
}
