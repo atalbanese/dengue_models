{
 "cells": [
  {
   "cell_type": "code",
   "execution_count": null,
   "metadata": {},
   "outputs": [],
   "source": [
    "import polars as pl\n",
    "from sklearn.ensemble import HistGradientBoostingClassifier\n",
    "from datetime import datetime\n",
    "import numpy as np\n",
    "import geopandas as gpd\n",
    "from sklearn.compose import ColumnTransformer\n",
    "from sklearn.pipeline import Pipeline\n",
    "from itertools import chain\n",
    "from functools import partial\n",
    "from sklearn.metrics import classification_report, confusion_matrix\n",
    "from sklearn.metrics import ConfusionMatrixDisplay\n",
    "from sklearn.compose import make_column_transformer, make_column_selector\n",
    "from sklearn.pipeline import make_pipeline\n",
    "from sklearn.preprocessing import OrdinalEncoder\n",
    "from sklearn.model_selection import TimeSeriesSplit, cross_validate"
   ]
  },
  {
   "cell_type": "markdown",
   "metadata": {},
   "source": [
    "publication strategy is to compare what sorts of models work. To that end we will\n",
    "Start with a baseline model based on case rates lagged n months\n",
    "Add in variables and record improvement/change\n",
    "correlated municipios\n",
    "climatic variables (e.g. surface runoff, temperature)\n",
    "socioeconomic variables (eg population, income)\n",
    "el nino\n",
    "land use variables\n",
    "do this for n in [1-3]\n",
    "aggregate to microregions for comparability to other models\n",
    "may also include auto correlation by\n",
    "creating autocorrelation vectors with 24 month lag for each municipio\n",
    "clustering these vectors\n",
    "creating a categorical one hot variable for cluster membership"
   ]
  }
 ],
 "metadata": {
  "kernelspec": {
   "display_name": "new_dengue",
   "language": "python",
   "name": "python3"
  },
  "language_info": {
   "name": "python",
   "version": "3.11.5"
  }
 },
 "nbformat": 4,
 "nbformat_minor": 2
}
