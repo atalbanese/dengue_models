{
 "cells": [
  {
   "cell_type": "code",
   "execution_count": 49,
   "metadata": {},
   "outputs": [],
   "source": [
    "import polars as pl\n",
    "from sklearn.ensemble import HistGradientBoostingClassifier\n",
    "from datetime import datetime\n",
    "import numpy as np\n",
    "import geopandas as gpd\n",
    "from sklearn.compose import ColumnTransformer\n",
    "from sklearn.pipeline import Pipeline\n",
    "from itertools import chain\n",
    "from functools import partial\n",
    "from sklearn.metrics import classification_report, confusion_matrix\n",
    "from sklearn.metrics import ConfusionMatrixDisplay\n",
    "from sklearn.compose import make_column_transformer, make_column_selector\n",
    "from sklearn.pipeline import make_pipeline\n",
    "from sklearn.preprocessing import OrdinalEncoder\n",
    "from sklearn.model_selection import TimeSeriesSplit, cross_validate\n",
    "import cat_model_utils as cat_utils\n",
    "from sklearn.linear_model import Ridge"
   ]
  },
  {
   "cell_type": "markdown",
   "metadata": {},
   "source": [
    "publication strategy is to compare what sorts of models work. To that end we will\n",
    "Start with a baseline model based on case rates lagged n months XXX\n",
    "Add in variables and record improvement/change XXXX\n",
    "correlated municipios\n",
    "climatic variables (e.g. surface runoff, temperature) XXXX\n",
    "socioeconomic variables (eg population, income) XXXX\n",
    "el nino XXXX\n",
    "land use variables XXXX\n",
    "do this for n in [1-3]\n",
    "aggregate to microregions for comparability to other models\n",
    "may also include auto correlation by\n",
    "creating autocorrelation vectors with 24 month lag for each municipio\n",
    "clustering these vectors\n",
    "creating a categorical one hot variable for cluster membership"
   ]
  },
  {
   "cell_type": "markdown",
   "metadata": {},
   "source": [
    "### Load all data"
   ]
  },
  {
   "cell_type": "code",
   "execution_count": 34,
   "metadata": {},
   "outputs": [],
   "source": [
    "##Load categorical land cover data, it is saved in a tricky format so we need to do some processing, converting list of [[band, value]...] to columns of band - proportion of area\n",
    "band_names = ['water', 'trees', 'grass', 'flooded_vegetation', 'crops', 'shrub_scrub', 'built', 'bare', 'snow_ice']\n",
    "land_use = (\n",
    "    pl.read_csv('../data/land_use/dynamic_earth_all_munis_2017.csv')\n",
    "    .with_columns(\n",
    "        pl.col('histogram')\n",
    "        .str.extract_all(\n",
    "            r'\\s[0-9]*\\.[0-9]*'\n",
    "        )\n",
    "        .list.eval(pl.element().str.strip_chars())\n",
    "        .cast(pl.List(pl.Float32))\n",
    "    )\n",
    "    .with_columns(\n",
    "        pl.col('histogram').list.sum().alias('total_pixels'),\n",
    "        pl.col('histogram').list.to_struct(fields=band_names)\n",
    "    )\n",
    "    .unnest('histogram')\n",
    "    .with_columns(\n",
    "        [pl.col(band)/(pl.col('total_pixels'))for band in band_names],\n",
    "    )\n",
    "    .select(pl.exclude('total_pixels'))\n",
    "    .rename({'CD_MUN':'muni_id'})\n",
    ")"
   ]
  },
  {
   "cell_type": "code",
   "execution_count": 31,
   "metadata": {},
   "outputs": [],
   "source": [
    "#Load El nino data, cast and rename for join compatibility\n",
    "el_nino = pl.read_csv('../data/sst/sst_indices.csv').rename({'YR': 'year', 'MON': 'month'}).with_columns(pl.col('year').cast(str), pl.col('month').cast(pl.UInt32))"
   ]
  },
  {
   "cell_type": "code",
   "execution_count": 47,
   "metadata": {},
   "outputs": [],
   "source": [
    "#Load monthly dengue case counts -- Note, dengue download script has been updated, you can possibly just run this with a simple read_parquet\n",
    "#monthly cases are aggregated from the start of the month forward, environmental parameters from the end of the month backwards\n",
    "monthly_cases = (\n",
    "    pl.read_parquet('../data/cases/agged/dengue_per_month.parquet')\n",
    "                 .with_columns(pl.col('DT_NOTIFIC').dt.offset_by('1mo').alias('end_date'))\n",
    "                 .with_columns(pl.col('ID_MUNICIP').str.slice(offset=0,length=6).cast(pl.Int64))\n",
    "                 .sort('DT_NOTIFIC')\n",
    "                 .rename({\n",
    "                    'DT_NOTIFIC': 'start_date',\n",
    "                    'ID_MUNICIP': 'muni_id'\n",
    "                    })\n",
    ")\n",
    "\n",
    "#We also want to fill out all municipios for which we have no cases pre the training cutoff 2018-01-01\n",
    "\n",
    "no_cases = (\n",
    "    monthly_cases\n",
    "    .filter(pl.col('start_date')<datetime(2018,1,1))\n",
    "    .with_columns(pl.col('count').sum().over('muni_id').alias('count_sum'))\n",
    "    .filter(pl.col('count_sum')!=0)\n",
    "    .select(pl.col('muni_id')).unique().to_series()\n",
    ")\n",
    "\n",
    "monthly_cases = monthly_cases.filter(pl.col('muni_id').is_in(no_cases))\n"
   ]
  },
  {
   "cell_type": "code",
   "execution_count": 21,
   "metadata": {},
   "outputs": [],
   "source": [
    "#Load google earth engine dynamic exports\n",
    "monthly_params = pl.read_parquet('../data/gee_exports_test/all_parameters_2001-01-01_2021-01-01_months.parquet')"
   ]
  },
  {
   "cell_type": "code",
   "execution_count": 22,
   "metadata": {},
   "outputs": [],
   "source": [
    "#load municipio polygons, used in plotting later\n",
    "munis = gpd.read_file('../data/brazil/munis/munis_simple.shp').astype({'CD_MUN': 'string'})\n",
    "munis['CD_MUN'] = munis['CD_MUN'].str.slice(stop=-1).astype(int)"
   ]
  },
  {
   "cell_type": "code",
   "execution_count": 48,
   "metadata": {},
   "outputs": [
    {
     "data": {
      "text/html": [
       "<div><style>\n",
       ".dataframe > thead > tr,\n",
       ".dataframe > tbody > tr {\n",
       "  text-align: right;\n",
       "  white-space: pre-wrap;\n",
       "}\n",
       "</style>\n",
       "<small>shape: (1_290_839, 56)</small><table border=\"1\" class=\"dataframe\"><thead><tr><th>muni_id</th><th>start_date</th><th>count</th><th>x_centroid</th><th>y_centroid</th><th>NM_MUN</th><th>pop</th><th>year</th><th>cases_per_100k</th><th>end_date</th><th>temporal_sdm_both</th><th>start_date_right</th><th>temporal_sdm_albopictus</th><th>start_date_temporal_sdm_albopictus</th><th>temporal_sdm_aegypti</th><th>start_date_temporal_sdm_aegypti</th><th>EVI</th><th>start_date_EVI</th><th>total_evaporation_sum</th><th>start_date_total_evaporation_sum</th><th>total_precipitation_sum</th><th>start_date_total_precipitation_sum</th><th>evaporation_from_open_water_surfaces_excluding_oceans_min</th><th>start_date_evaporation_from_open_water_surfaces_excluding_oceans_min</th><th>soil_temperature_level_1</th><th>start_date_soil_temperature_level_1</th><th>runoff_sum</th><th>start_date_runoff_sum</th><th>surface_runoff_min</th><th>start_date_surface_runoff_min</th><th>volumetric_soil_water_layer_1</th><th>start_date_volumetric_soil_water_layer_1</th><th>dewpoint_temperature_2m</th><th>start_date_dewpoint_temperature_2m</th><th>temperature_2m</th><th>start_date_temperature_2m</th><th>total_precipitation_min</th><th>start_date_total_precipitation_min</th><th>month</th><th>NINO1+2</th><th>ANOM</th><th>NINO3</th><th>ANOM_1</th><th>NINO4</th><th>ANOM_2</th><th>NINO3.4</th><th>ANOM_3</th><th>water</th><th>trees</th><th>grass</th><th>flooded_vegetation</th><th>crops</th><th>shrub_scrub</th><th>built</th><th>bare</th><th>snow_ice</th></tr><tr><td>i64</td><td>date</td><td>u32</td><td>f64</td><td>f64</td><td>str</td><td>i64</td><td>str</td><td>f64</td><td>date</td><td>f64</td><td>date</td><td>f64</td><td>date</td><td>f64</td><td>date</td><td>f64</td><td>date</td><td>f64</td><td>date</td><td>f64</td><td>date</td><td>f64</td><td>date</td><td>f64</td><td>date</td><td>f64</td><td>date</td><td>f64</td><td>date</td><td>f64</td><td>date</td><td>f64</td><td>date</td><td>f64</td><td>date</td><td>f64</td><td>date</td><td>u32</td><td>f64</td><td>f64</td><td>f64</td><td>f64</td><td>f64</td><td>f64</td><td>f64</td><td>f64</td><td>f32</td><td>f32</td><td>f32</td><td>f32</td><td>f32</td><td>f32</td><td>f32</td><td>f32</td><td>f32</td></tr></thead><tbody><tr><td>110001</td><td>2001-01-01</td><td>1</td><td>4.1006e6</td><td>8.6069e6</td><td>&quot;Alta Floresta …</td><td>26919</td><td>&quot;2001&quot;</td><td>3.714848</td><td>2001-02-01</td><td>0.293792</td><td>2000-12-03</td><td>0.17041</td><td>2000-12-03</td><td>0.294167</td><td>2000-12-03</td><td>0.300041</td><td>2001-01-01</td><td>-0.004177</td><td>2001-01-01</td><td>0.007591</td><td>2001-01-01</td><td>-0.00079</td><td>2001-01-01</td><td>298.132139</td><td>2001-01-01</td><td>0.000449</td><td>2001-01-01</td><td>0.000167</td><td>2001-01-01</td><td>0.478415</td><td>2001-01-01</td><td>295.102645</td><td>2001-01-01</td><td>297.135084</td><td>2001-01-01</td><td>0.007591</td><td>2001-01-01</td><td>2</td><td>25.71</td><td>-0.38</td><td>26.17</td><td>-0.21</td><td>27.1</td><td>-0.99</td><td>26.18</td><td>-0.56</td><td>0.007298</td><td>0.668592</td><td>0.225608</td><td>0.010108</td><td>0.019077</td><td>0.056745</td><td>0.002816</td><td>0.007265</td><td>0.00249</td></tr><tr><td>110001</td><td>2001-02-01</td><td>0</td><td>4.1006e6</td><td>8.6069e6</td><td>&quot;Alta Floresta …</td><td>26919</td><td>&quot;2001&quot;</td><td>0.0</td><td>2001-03-01</td><td>0.393609</td><td>2000-12-31</td><td>0.260786</td><td>2000-12-31</td><td>0.385464</td><td>2000-12-31</td><td>0.336085</td><td>2001-02-01</td><td>-0.004181</td><td>2001-02-01</td><td>0.009793</td><td>2001-02-01</td><td>-0.000811</td><td>2001-02-01</td><td>298.299736</td><td>2001-02-01</td><td>0.002602</td><td>2001-02-01</td><td>0.00036</td><td>2001-02-01</td><td>0.479531</td><td>2001-02-01</td><td>295.341811</td><td>2001-02-01</td><td>297.264219</td><td>2001-02-01</td><td>0.009793</td><td>2001-02-01</td><td>3</td><td>26.94</td><td>0.34</td><td>27.27</td><td>0.1</td><td>27.5</td><td>-0.73</td><td>26.86</td><td>-0.37</td><td>0.007298</td><td>0.668592</td><td>0.225608</td><td>0.010108</td><td>0.019077</td><td>0.056745</td><td>0.002816</td><td>0.007265</td><td>0.00249</td></tr><tr><td>110001</td><td>2001-03-01</td><td>0</td><td>4.1006e6</td><td>8.6069e6</td><td>&quot;Alta Floresta …</td><td>26919</td><td>&quot;2001&quot;</td><td>0.0</td><td>2001-04-01</td><td>0.332852</td><td>2001-01-31</td><td>0.202635</td><td>2001-01-31</td><td>0.331847</td><td>2001-01-31</td><td>0.301703</td><td>2001-03-01</td><td>-0.003997</td><td>2001-03-01</td><td>0.007077</td><td>2001-03-01</td><td>-0.000798</td><td>2001-03-01</td><td>298.32963</td><td>2001-03-01</td><td>0.004117</td><td>2001-03-01</td><td>0.00015</td><td>2001-03-01</td><td>0.479764</td><td>2001-03-01</td><td>295.4766</td><td>2001-03-01</td><td>297.509918</td><td>2001-03-01</td><td>0.007077</td><td>2001-03-01</td><td>4</td><td>26.26</td><td>0.53</td><td>27.35</td><td>-0.22</td><td>27.91</td><td>-0.6</td><td>27.24</td><td>-0.56</td><td>0.007298</td><td>0.668592</td><td>0.225608</td><td>0.010108</td><td>0.019077</td><td>0.056745</td><td>0.002816</td><td>0.007265</td><td>0.00249</td></tr><tr><td>110001</td><td>2001-04-01</td><td>0</td><td>4.1006e6</td><td>8.6069e6</td><td>&quot;Alta Floresta …</td><td>26919</td><td>&quot;2001&quot;</td><td>0.0</td><td>2001-05-01</td><td>0.256582</td><td>2001-03-02</td><td>0.142846</td><td>2001-03-02</td><td>0.256261</td><td>2001-03-02</td><td>0.39373</td><td>2001-04-01</td><td>-0.003821</td><td>2001-04-01</td><td>0.002642</td><td>2001-04-01</td><td>-0.000904</td><td>2001-04-01</td><td>298.387863</td><td>2001-04-01</td><td>0.002353</td><td>2001-04-01</td><td>0.000046</td><td>2001-04-01</td><td>0.47642</td><td>2001-04-01</td><td>295.545143</td><td>2001-04-01</td><td>297.733732</td><td>2001-04-01</td><td>0.002642</td><td>2001-04-01</td><td>5</td><td>24.26</td><td>-0.35</td><td>26.99</td><td>-0.22</td><td>28.38</td><td>-0.41</td><td>27.42</td><td>-0.46</td><td>0.007298</td><td>0.668592</td><td>0.225608</td><td>0.010108</td><td>0.019077</td><td>0.056745</td><td>0.002816</td><td>0.007265</td><td>0.00249</td></tr><tr><td>110001</td><td>2001-05-01</td><td>0</td><td>4.1006e6</td><td>8.6069e6</td><td>&quot;Alta Floresta …</td><td>26919</td><td>&quot;2001&quot;</td><td>0.0</td><td>2001-06-01</td><td>0.256582</td><td>2001-04-02</td><td>0.142846</td><td>2001-04-02</td><td>0.256261</td><td>2001-04-02</td><td>0.382668</td><td>2001-05-01</td><td>-0.003252</td><td>2001-05-01</td><td>0.000687</td><td>2001-05-01</td><td>-0.000877</td><td>2001-05-01</td><td>298.147065</td><td>2001-05-01</td><td>0.000994</td><td>2001-05-01</td><td>0.000007</td><td>2001-05-01</td><td>0.381285</td><td>2001-05-01</td><td>294.932081</td><td>2001-05-01</td><td>297.622845</td><td>2001-05-01</td><td>0.000687</td><td>2001-05-01</td><td>6</td><td>22.49</td><td>-0.69</td><td>26.42</td><td>-0.23</td><td>28.58</td><td>-0.27</td><td>27.55</td><td>-0.16</td><td>0.007298</td><td>0.668592</td><td>0.225608</td><td>0.010108</td><td>0.019077</td><td>0.056745</td><td>0.002816</td><td>0.007265</td><td>0.00249</td></tr><tr><td>110001</td><td>2001-06-01</td><td>0</td><td>4.1006e6</td><td>8.6069e6</td><td>&quot;Alta Floresta …</td><td>26919</td><td>&quot;2001&quot;</td><td>0.0</td><td>2001-07-01</td><td>0.474205</td><td>2001-05-02</td><td>0.787871</td><td>2001-05-02</td><td>0.702886</td><td>2001-05-02</td><td>0.441932</td><td>2001-06-01</td><td>-0.002447</td><td>2001-06-01</td><td>0.000001</td><td>2001-06-01</td><td>-0.000614</td><td>2001-06-01</td><td>297.575228</td><td>2001-06-01</td><td>0.000483</td><td>2001-06-01</td><td>1.4901e-8</td><td>2001-06-01</td><td>0.277699</td><td>2001-06-01</td><td>291.352684</td><td>2001-06-01</td><td>296.949426</td><td>2001-06-01</td><td>0.000001</td><td>2001-06-01</td><td>7</td><td>21.25</td><td>-0.58</td><td>25.5</td><td>-0.37</td><td>28.94</td><td>0.15</td><td>27.19</td><td>-0.11</td><td>0.007298</td><td>0.668592</td><td>0.225608</td><td>0.010108</td><td>0.019077</td><td>0.056745</td><td>0.002816</td><td>0.007265</td><td>0.00249</td></tr><tr><td>110001</td><td>2001-07-01</td><td>0</td><td>4.1006e6</td><td>8.6069e6</td><td>&quot;Alta Floresta …</td><td>26919</td><td>&quot;2001&quot;</td><td>0.0</td><td>2001-08-01</td><td>0.468541</td><td>2001-06-02</td><td>0.677835</td><td>2001-06-02</td><td>0.62149</td><td>2001-06-02</td><td>0.333522</td><td>2001-07-01</td><td>-0.002343</td><td>2001-07-01</td><td>0.000169</td><td>2001-07-01</td><td>-0.000648</td><td>2001-07-01</td><td>298.693043</td><td>2001-07-01</td><td>0.000244</td><td>2001-07-01</td><td>0.000001</td><td>2001-07-01</td><td>0.267049</td><td>2001-07-01</td><td>292.982041</td><td>2001-07-01</td><td>298.212372</td><td>2001-07-01</td><td>0.000169</td><td>2001-07-01</td><td>8</td><td>20.31</td><td>-0.55</td><td>24.86</td><td>-0.35</td><td>28.77</td><td>0.07</td><td>26.81</td><td>-0.09</td><td>0.007298</td><td>0.668592</td><td>0.225608</td><td>0.010108</td><td>0.019077</td><td>0.056745</td><td>0.002816</td><td>0.007265</td><td>0.00249</td></tr><tr><td>110001</td><td>2001-08-01</td><td>0</td><td>4.1006e6</td><td>8.6069e6</td><td>&quot;Alta Floresta …</td><td>26919</td><td>&quot;2001&quot;</td><td>0.0</td><td>2001-09-01</td><td>0.263398</td><td>2001-07-03</td><td>0.331272</td><td>2001-07-03</td><td>0.356801</td><td>2001-07-03</td><td>0.291128</td><td>2001-08-01</td><td>-0.00168</td><td>2001-08-01</td><td>4.4184e-7</td><td>2001-08-01</td><td>-0.000056</td><td>2001-08-01</td><td>301.010445</td><td>2001-08-01</td><td>0.000119</td><td>2001-08-01</td><td>0.0</td><td>2001-08-01</td><td>0.20538</td><td>2001-08-01</td><td>287.567127</td><td>2001-08-01</td><td>299.928153</td><td>2001-08-01</td><td>4.4184e-7</td><td>2001-08-01</td><td>9</td><td>19.81</td><td>-0.77</td><td>24.51</td><td>-0.5</td><td>29.06</td><td>0.39</td><td>26.58</td><td>-0.19</td><td>0.007298</td><td>0.668592</td><td>0.225608</td><td>0.010108</td><td>0.019077</td><td>0.056745</td><td>0.002816</td><td>0.007265</td><td>0.00249</td></tr><tr><td>110001</td><td>2001-09-01</td><td>0</td><td>4.1006e6</td><td>8.6069e6</td><td>&quot;Alta Floresta …</td><td>26919</td><td>&quot;2001&quot;</td><td>0.0</td><td>2001-10-01</td><td>0.197683</td><td>2001-08-02</td><td>0.149439</td><td>2001-08-02</td><td>0.268276</td><td>2001-08-02</td><td>0.338454</td><td>2001-09-01</td><td>-0.003544</td><td>2001-09-01</td><td>0.00106</td><td>2001-09-01</td><td>-0.001169</td><td>2001-09-01</td><td>299.882085</td><td>2001-09-01</td><td>0.000072</td><td>2001-09-01</td><td>0.000007</td><td>2001-09-01</td><td>0.366636</td><td>2001-09-01</td><td>294.69294</td><td>2001-09-01</td><td>299.166642</td><td>2001-09-01</td><td>0.00106</td><td>2001-09-01</td><td>10</td><td>19.8</td><td>-1.07</td><td>24.62</td><td>-0.47</td><td>28.87</td><td>0.19</td><td>26.52</td><td>-0.25</td><td>0.007298</td><td>0.668592</td><td>0.225608</td><td>0.010108</td><td>0.019077</td><td>0.056745</td><td>0.002816</td><td>0.007265</td><td>0.00249</td></tr><tr><td>110001</td><td>2001-10-01</td><td>0</td><td>4.1006e6</td><td>8.6069e6</td><td>&quot;Alta Floresta …</td><td>26919</td><td>&quot;2001&quot;</td><td>0.0</td><td>2001-11-01</td><td>0.262029</td><td>2001-09-02</td><td>0.345382</td><td>2001-09-02</td><td>0.344777</td><td>2001-09-02</td><td>0.424964</td><td>2001-10-01</td><td>-0.004134</td><td>2001-10-01</td><td>0.004166</td><td>2001-10-01</td><td>-0.001095</td><td>2001-10-01</td><td>299.829014</td><td>2001-10-01</td><td>0.000073</td><td>2001-10-01</td><td>0.000028</td><td>2001-10-01</td><td>0.4321</td><td>2001-10-01</td><td>295.507143</td><td>2001-10-01</td><td>298.723222</td><td>2001-10-01</td><td>0.004166</td><td>2001-10-01</td><td>11</td><td>20.77</td><td>-0.85</td><td>24.35</td><td>-0.84</td><td>28.79</td><td>0.12</td><td>26.35</td><td>-0.48</td><td>0.007298</td><td>0.668592</td><td>0.225608</td><td>0.010108</td><td>0.019077</td><td>0.056745</td><td>0.002816</td><td>0.007265</td><td>0.00249</td></tr><tr><td>110001</td><td>2001-11-01</td><td>2</td><td>4.1006e6</td><td>8.6069e6</td><td>&quot;Alta Floresta …</td><td>26919</td><td>&quot;2001&quot;</td><td>7.429696</td><td>2001-12-01</td><td>0.227718</td><td>2001-10-02</td><td>0.104049</td><td>2001-10-02</td><td>0.211343</td><td>2001-10-02</td><td>0.282188</td><td>2001-11-01</td><td>-0.004526</td><td>2001-11-01</td><td>0.007178</td><td>2001-11-01</td><td>-0.000943</td><td>2001-11-01</td><td>299.137438</td><td>2001-11-01</td><td>0.000199</td><td>2001-11-01</td><td>0.000161</td><td>2001-11-01</td><td>0.470032</td><td>2001-11-01</td><td>295.951519</td><td>2001-11-01</td><td>298.111342</td><td>2001-11-01</td><td>0.007178</td><td>2001-11-01</td><td>12</td><td>22.19</td><td>-0.64</td><td>24.68</td><td>-0.59</td><td>28.36</td><td>-0.09</td><td>26.11</td><td>-0.53</td><td>0.007298</td><td>0.668592</td><td>0.225608</td><td>0.010108</td><td>0.019077</td><td>0.056745</td><td>0.002816</td><td>0.007265</td><td>0.00249</td></tr><tr><td>110001</td><td>2001-12-01</td><td>4</td><td>4.1006e6</td><td>8.6069e6</td><td>&quot;Alta Floresta …</td><td>26919</td><td>&quot;2001&quot;</td><td>14.859393</td><td>2002-01-01</td><td>0.247628</td><td>2001-11-02</td><td>0.136621</td><td>2001-11-02</td><td>0.246882</td><td>2001-11-02</td><td>0.182981</td><td>2001-12-01</td><td>-0.003771</td><td>2001-12-01</td><td>0.010992</td><td>2001-12-01</td><td>-0.000641</td><td>2001-12-01</td><td>298.417477</td><td>2001-12-01</td><td>0.003194</td><td>2001-12-01</td><td>0.000515</td><td>2001-12-01</td><td>0.473017</td><td>2001-12-01</td><td>295.905715</td><td>2001-12-01</td><td>297.518397</td><td>2001-12-01</td><td>0.010992</td><td>2001-12-01</td><td>1</td><td>24.15</td><td>-0.37</td><td>25.25</td><td>-0.43</td><td>27.31</td><td>-0.91</td><td>25.81</td><td>-0.76</td><td>0.007298</td><td>0.668592</td><td>0.225608</td><td>0.010108</td><td>0.019077</td><td>0.056745</td><td>0.002816</td><td>0.007265</td><td>0.00249</td></tr><tr><td>&hellip;</td><td>&hellip;</td><td>&hellip;</td><td>&hellip;</td><td>&hellip;</td><td>&hellip;</td><td>&hellip;</td><td>&hellip;</td><td>&hellip;</td><td>&hellip;</td><td>&hellip;</td><td>&hellip;</td><td>&hellip;</td><td>&hellip;</td><td>&hellip;</td><td>&hellip;</td><td>&hellip;</td><td>&hellip;</td><td>&hellip;</td><td>&hellip;</td><td>&hellip;</td><td>&hellip;</td><td>&hellip;</td><td>&hellip;</td><td>&hellip;</td><td>&hellip;</td><td>&hellip;</td><td>&hellip;</td><td>&hellip;</td><td>&hellip;</td><td>&hellip;</td><td>&hellip;</td><td>&hellip;</td><td>&hellip;</td><td>&hellip;</td><td>&hellip;</td><td>&hellip;</td><td>&hellip;</td><td>&hellip;</td><td>&hellip;</td><td>&hellip;</td><td>&hellip;</td><td>&hellip;</td><td>&hellip;</td><td>&hellip;</td><td>&hellip;</td><td>&hellip;</td><td>&hellip;</td><td>&hellip;</td><td>&hellip;</td><td>&hellip;</td><td>&hellip;</td><td>&hellip;</td><td>&hellip;</td><td>&hellip;</td><td>&hellip;</td></tr><tr><td>530010</td><td>2019-12-01</td><td>870</td><td>5.6646e6</td><td>8.2448e6</td><td>&quot;Brasília&quot;</td><td>3015268</td><td>&quot;2019&quot;</td><td>28.853157</td><td>2020-01-01</td><td>0.504887</td><td>2019-11-02</td><td>0.381346</td><td>2019-11-02</td><td>0.464631</td><td>2019-11-02</td><td>0.237055</td><td>2019-12-01</td><td>-0.004185</td><td>2019-12-01</td><td>0.002259</td><td>2019-12-01</td><td>-0.001373</td><td>2019-12-01</td><td>298.114873</td><td>2019-12-01</td><td>0.000062</td><td>2019-12-01</td><td>0.00003</td><td>2019-12-01</td><td>0.434188</td><td>2019-12-01</td><td>291.498357</td><td>2019-12-01</td><td>296.3633</td><td>2019-12-01</td><td>0.002259</td><td>2019-12-01</td><td>1</td><td>25.32</td><td>0.8</td><td>26.41</td><td>0.73</td><td>29.06</td><td>0.83</td><td>27.24</td><td>0.67</td><td>0.009177</td><td>0.201775</td><td>0.29394</td><td>0.009041</td><td>0.129552</td><td>0.199263</td><td>0.113103</td><td>0.042251</td><td>0.001899</td></tr><tr><td>530010</td><td>2020-01-01</td><td>2802</td><td>5.6646e6</td><td>8.2448e6</td><td>&quot;Brasília&quot;</td><td>3055149</td><td>&quot;2020&quot;</td><td>91.714021</td><td>2020-02-01</td><td>0.776641</td><td>2019-12-03</td><td>0.842898</td><td>2019-12-03</td><td>0.8272</td><td>2019-12-03</td><td>0.232289</td><td>2020-01-01</td><td>-0.003728</td><td>2020-01-01</td><td>0.006666</td><td>2020-01-01</td><td>-0.001041</td><td>2020-01-01</td><td>297.350231</td><td>2020-01-01</td><td>0.000153</td><td>2020-01-01</td><td>0.000114</td><td>2020-01-01</td><td>0.46737</td><td>2020-01-01</td><td>292.144766</td><td>2020-01-01</td><td>295.079723</td><td>2020-01-01</td><td>0.006666</td><td>2020-01-01</td><td>2</td><td>26.24</td><td>0.14</td><td>26.48</td><td>0.1</td><td>28.98</td><td>0.88</td><td>27.09</td><td>0.35</td><td>0.009177</td><td>0.201775</td><td>0.29394</td><td>0.009041</td><td>0.129552</td><td>0.199263</td><td>0.113103</td><td>0.042251</td><td>0.001899</td></tr><tr><td>530010</td><td>2020-02-01</td><td>6771</td><td>5.6646e6</td><td>8.2448e6</td><td>&quot;Brasília&quot;</td><td>3055149</td><td>&quot;2020&quot;</td><td>221.625852</td><td>2020-03-01</td><td>0.776339</td><td>2020-01-01</td><td>0.787627</td><td>2020-01-01</td><td>0.820087</td><td>2020-01-01</td><td>0.235759</td><td>2020-02-01</td><td>-0.00382</td><td>2020-02-01</td><td>0.005025</td><td>2020-02-01</td><td>-0.001149</td><td>2020-02-01</td><td>297.599598</td><td>2020-02-01</td><td>0.000728</td><td>2020-02-01</td><td>0.00012</td><td>2020-02-01</td><td>0.469954</td><td>2020-02-01</td><td>291.610065</td><td>2020-02-01</td><td>295.446588</td><td>2020-02-01</td><td>0.005025</td><td>2020-02-01</td><td>3</td><td>27.04</td><td>0.44</td><td>27.34</td><td>0.17</td><td>28.95</td><td>0.73</td><td>27.7</td><td>0.46</td><td>0.009177</td><td>0.201775</td><td>0.29394</td><td>0.009041</td><td>0.129552</td><td>0.199263</td><td>0.113103</td><td>0.042251</td><td>0.001899</td></tr><tr><td>530010</td><td>2020-03-01</td><td>12031</td><td>5.6646e6</td><td>8.2448e6</td><td>&quot;Brasília&quot;</td><td>3055149</td><td>&quot;2020&quot;</td><td>393.794214</td><td>2020-04-01</td><td>0.80762</td><td>2020-02-01</td><td>0.80955</td><td>2020-02-01</td><td>0.841946</td><td>2020-02-01</td><td>0.2218</td><td>2020-03-01</td><td>-0.003443</td><td>2020-03-01</td><td>0.005187</td><td>2020-03-01</td><td>-0.001027</td><td>2020-03-01</td><td>296.672795</td><td>2020-03-01</td><td>0.003156</td><td>2020-03-01</td><td>0.000089</td><td>2020-03-01</td><td>0.466659</td><td>2020-03-01</td><td>291.40883</td><td>2020-03-01</td><td>294.815051</td><td>2020-03-01</td><td>0.005187</td><td>2020-03-01</td><td>4</td><td>26.01</td><td>0.28</td><td>27.96</td><td>0.39</td><td>29.04</td><td>0.53</td><td>28.22</td><td>0.41</td><td>0.009177</td><td>0.201775</td><td>0.29394</td><td>0.009041</td><td>0.129552</td><td>0.199263</td><td>0.113103</td><td>0.042251</td><td>0.001899</td></tr><tr><td>530010</td><td>2020-04-01</td><td>14213</td><td>5.6646e6</td><td>8.2448e6</td><td>&quot;Brasília&quot;</td><td>3055149</td><td>&quot;2020&quot;</td><td>465.214626</td><td>2020-05-01</td><td>0.752398</td><td>2020-03-02</td><td>0.430717</td><td>2020-03-02</td><td>0.811358</td><td>2020-03-02</td><td>0.228376</td><td>2020-04-01</td><td>-0.003455</td><td>2020-04-01</td><td>0.00301</td><td>2020-04-01</td><td>-0.001134</td><td>2020-04-01</td><td>295.549216</td><td>2020-04-01</td><td>0.001405</td><td>2020-04-01</td><td>0.000044</td><td>2020-04-01</td><td>0.449675</td><td>2020-04-01</td><td>290.912414</td><td>2020-04-01</td><td>293.752954</td><td>2020-04-01</td><td>0.00301</td><td>2020-04-01</td><td>5</td><td>24.33</td><td>-0.28</td><td>27.08</td><td>-0.13</td><td>28.83</td><td>0.04</td><td>27.67</td><td>-0.21</td><td>0.009177</td><td>0.201775</td><td>0.29394</td><td>0.009041</td><td>0.129552</td><td>0.199263</td><td>0.113103</td><td>0.042251</td><td>0.001899</td></tr><tr><td>530010</td><td>2020-05-01</td><td>12110</td><td>5.6646e6</td><td>8.2448e6</td><td>&quot;Brasília&quot;</td><td>3055149</td><td>&quot;2020&quot;</td><td>396.380013</td><td>2020-06-01</td><td>0.65095</td><td>2020-04-02</td><td>0.060247</td><td>2020-04-02</td><td>0.739416</td><td>2020-04-02</td><td>0.216749</td><td>2020-05-01</td><td>-0.002404</td><td>2020-05-01</td><td>0.000006</td><td>2020-05-01</td><td>-0.000885</td><td>2020-05-01</td><td>294.111622</td><td>2020-05-01</td><td>0.001066</td><td>2020-05-01</td><td>4.4703e-8</td><td>2020-05-01</td><td>0.318524</td><td>2020-05-01</td><td>287.543888</td><td>2020-05-01</td><td>292.847845</td><td>2020-05-01</td><td>0.000006</td><td>2020-05-01</td><td>6</td><td>22.31</td><td>-0.87</td><td>26.07</td><td>-0.57</td><td>28.99</td><td>0.15</td><td>27.44</td><td>-0.27</td><td>0.009177</td><td>0.201775</td><td>0.29394</td><td>0.009041</td><td>0.129552</td><td>0.199263</td><td>0.113103</td><td>0.042251</td><td>0.001899</td></tr><tr><td>530010</td><td>2020-06-01</td><td>6670</td><td>5.6646e6</td><td>8.2448e6</td><td>&quot;Brasília&quot;</td><td>3055149</td><td>&quot;2020&quot;</td><td>218.319958</td><td>2020-07-01</td><td>0.591755</td><td>2020-05-02</td><td>0.037443</td><td>2020-05-02</td><td>0.703002</td><td>2020-05-02</td><td>0.200719</td><td>2020-06-01</td><td>-0.001411</td><td>2020-06-01</td><td>8.5235e-7</td><td>2020-06-01</td><td>-0.000198</td><td>2020-06-01</td><td>294.176978</td><td>2020-06-01</td><td>0.00054</td><td>2020-06-01</td><td>0.0</td><td>2020-06-01</td><td>0.206821</td><td>2020-06-01</td><td>284.310027</td><td>2020-06-01</td><td>293.082237</td><td>2020-06-01</td><td>8.5235e-7</td><td>2020-06-01</td><td>7</td><td>20.83</td><td>-1.01</td><td>25.45</td><td>-0.42</td><td>28.83</td><td>0.05</td><td>27.15</td><td>-0.14</td><td>0.009177</td><td>0.201775</td><td>0.29394</td><td>0.009041</td><td>0.129552</td><td>0.199263</td><td>0.113103</td><td>0.042251</td><td>0.001899</td></tr><tr><td>530010</td><td>2020-07-01</td><td>2848</td><td>5.6646e6</td><td>8.2448e6</td><td>&quot;Brasília&quot;</td><td>3055149</td><td>&quot;2020&quot;</td><td>93.219676</td><td>2020-08-01</td><td>0.600787</td><td>2020-06-02</td><td>0.041727</td><td>2020-06-02</td><td>0.715121</td><td>2020-06-02</td><td>0.170101</td><td>2020-07-01</td><td>-0.001044</td><td>2020-07-01</td><td>8.5831e-7</td><td>2020-07-01</td><td>-0.000062</td><td>2020-07-01</td><td>294.284466</td><td>2020-07-01</td><td>0.00031</td><td>2020-07-01</td><td>0.0</td><td>2020-07-01</td><td>0.197747</td><td>2020-07-01</td><td>281.763247</td><td>2020-07-01</td><td>292.665978</td><td>2020-07-01</td><td>8.5831e-7</td><td>2020-07-01</td><td>8</td><td>20.17</td><td>-0.69</td><td>24.79</td><td>-0.43</td><td>28.36</td><td>-0.34</td><td>26.38</td><td>-0.52</td><td>0.009177</td><td>0.201775</td><td>0.29394</td><td>0.009041</td><td>0.129552</td><td>0.199263</td><td>0.113103</td><td>0.042251</td><td>0.001899</td></tr><tr><td>530010</td><td>2020-08-01</td><td>1418</td><td>5.6646e6</td><td>8.2448e6</td><td>&quot;Brasília&quot;</td><td>3055149</td><td>&quot;2020&quot;</td><td>46.413448</td><td>2020-09-01</td><td>0.690153</td><td>2020-07-03</td><td>0.084016</td><td>2020-07-03</td><td>0.756558</td><td>2020-07-03</td><td>0.154105</td><td>2020-08-01</td><td>-0.001045</td><td>2020-08-01</td><td>4.4107e-7</td><td>2020-08-01</td><td>-0.000043</td><td>2020-08-01</td><td>296.786921</td><td>2020-08-01</td><td>0.000175</td><td>2020-08-01</td><td>0.0</td><td>2020-08-01</td><td>0.197077</td><td>2020-08-01</td><td>281.509064</td><td>2020-08-01</td><td>294.175849</td><td>2020-08-01</td><td>4.4107e-7</td><td>2020-08-01</td><td>9</td><td>19.82</td><td>-0.76</td><td>24.21</td><td>-0.8</td><td>28.25</td><td>-0.43</td><td>26.12</td><td>-0.64</td><td>0.009177</td><td>0.201775</td><td>0.29394</td><td>0.009041</td><td>0.129552</td><td>0.199263</td><td>0.113103</td><td>0.042251</td><td>0.001899</td></tr><tr><td>530010</td><td>2020-09-01</td><td>1462</td><td>5.6646e6</td><td>8.2448e6</td><td>&quot;Brasília&quot;</td><td>3055149</td><td>&quot;2020&quot;</td><td>47.85364</td><td>2020-10-01</td><td>0.732208</td><td>2020-08-02</td><td>0.798483</td><td>2020-08-02</td><td>0.779811</td><td>2020-08-02</td><td>0.15109</td><td>2020-09-01</td><td>-0.001104</td><td>2020-09-01</td><td>8.5469e-7</td><td>2020-09-01</td><td>-0.000031</td><td>2020-09-01</td><td>298.928236</td><td>2020-09-01</td><td>0.000101</td><td>2020-09-01</td><td>0.0</td><td>2020-09-01</td><td>0.196258</td><td>2020-09-01</td><td>279.685686</td><td>2020-09-01</td><td>296.951253</td><td>2020-09-01</td><td>8.5469e-7</td><td>2020-09-01</td><td>10</td><td>20.12</td><td>-0.76</td><td>24.19</td><td>-0.9</td><td>27.97</td><td>-0.71</td><td>25.64</td><td>-1.13</td><td>0.009177</td><td>0.201775</td><td>0.29394</td><td>0.009041</td><td>0.129552</td><td>0.199263</td><td>0.113103</td><td>0.042251</td><td>0.001899</td></tr><tr><td>530010</td><td>2020-10-01</td><td>1224</td><td>5.6646e6</td><td>8.2448e6</td><td>&quot;Brasília&quot;</td><td>3055149</td><td>&quot;2020&quot;</td><td>40.063512</td><td>2020-11-01</td><td>0.927143</td><td>2020-09-02</td><td>0.818538</td><td>2020-09-02</td><td>0.835173</td><td>2020-09-02</td><td>0.167236</td><td>2020-10-01</td><td>-0.00243</td><td>2020-10-01</td><td>0.002551</td><td>2020-10-01</td><td>-0.000978</td><td>2020-10-01</td><td>300.359945</td><td>2020-10-01</td><td>0.000083</td><td>2020-10-01</td><td>0.000021</td><td>2020-10-01</td><td>0.303949</td><td>2020-10-01</td><td>289.878118</td><td>2020-10-01</td><td>297.021728</td><td>2020-10-01</td><td>0.002551</td><td>2020-10-01</td><td>11</td><td>20.95</td><td>-0.67</td><td>24.17</td><td>-1.03</td><td>27.98</td><td>-0.7</td><td>25.59</td><td>-1.23</td><td>0.009177</td><td>0.201775</td><td>0.29394</td><td>0.009041</td><td>0.129552</td><td>0.199263</td><td>0.113103</td><td>0.042251</td><td>0.001899</td></tr><tr><td>530010</td><td>2020-11-01</td><td>1148</td><td>5.6646e6</td><td>8.2448e6</td><td>&quot;Brasília&quot;</td><td>3055149</td><td>&quot;2020&quot;</td><td>37.575909</td><td>2020-12-01</td><td>0.983404</td><td>2020-10-02</td><td>0.815083</td><td>2020-10-02</td><td>0.887352</td><td>2020-10-02</td><td>0.200425</td><td>2020-11-01</td><td>-0.003762</td><td>2020-11-01</td><td>0.003062</td><td>2020-11-01</td><td>-0.001203</td><td>2020-11-01</td><td>296.377901</td><td>2020-11-01</td><td>0.000105</td><td>2020-11-01</td><td>0.000047</td><td>2020-11-01</td><td>0.459679</td><td>2020-11-01</td><td>290.175129</td><td>2020-11-01</td><td>294.740952</td><td>2020-11-01</td><td>0.003062</td><td>2020-11-01</td><td>12</td><td>21.98</td><td>-0.86</td><td>24.56</td><td>-0.7</td><td>27.6</td><td>-0.85</td><td>25.66</td><td>-0.99</td><td>0.009177</td><td>0.201775</td><td>0.29394</td><td>0.009041</td><td>0.129552</td><td>0.199263</td><td>0.113103</td><td>0.042251</td><td>0.001899</td></tr></tbody></table></div>"
      ],
      "text/plain": [
       "shape: (1_290_839, 56)\n",
       "┌─────────┬────────────┬───────┬────────────┬───┬─────────────┬──────────┬──────────┬──────────┐\n",
       "│ muni_id ┆ start_date ┆ count ┆ x_centroid ┆ … ┆ shrub_scrub ┆ built    ┆ bare     ┆ snow_ice │\n",
       "│ ---     ┆ ---        ┆ ---   ┆ ---        ┆   ┆ ---         ┆ ---      ┆ ---      ┆ ---      │\n",
       "│ i64     ┆ date       ┆ u32   ┆ f64        ┆   ┆ f32         ┆ f32      ┆ f32      ┆ f32      │\n",
       "╞═════════╪════════════╪═══════╪════════════╪═══╪═════════════╪══════════╪══════════╪══════════╡\n",
       "│ 110001  ┆ 2001-01-01 ┆ 1     ┆ 4.1006e6   ┆ … ┆ 0.056745    ┆ 0.002816 ┆ 0.007265 ┆ 0.00249  │\n",
       "│ 110001  ┆ 2001-02-01 ┆ 0     ┆ 4.1006e6   ┆ … ┆ 0.056745    ┆ 0.002816 ┆ 0.007265 ┆ 0.00249  │\n",
       "│ 110001  ┆ 2001-03-01 ┆ 0     ┆ 4.1006e6   ┆ … ┆ 0.056745    ┆ 0.002816 ┆ 0.007265 ┆ 0.00249  │\n",
       "│ 110001  ┆ 2001-04-01 ┆ 0     ┆ 4.1006e6   ┆ … ┆ 0.056745    ┆ 0.002816 ┆ 0.007265 ┆ 0.00249  │\n",
       "│ …       ┆ …          ┆ …     ┆ …          ┆ … ┆ …           ┆ …        ┆ …        ┆ …        │\n",
       "│ 530010  ┆ 2020-08-01 ┆ 1418  ┆ 5.6646e6   ┆ … ┆ 0.199263    ┆ 0.113103 ┆ 0.042251 ┆ 0.001899 │\n",
       "│ 530010  ┆ 2020-09-01 ┆ 1462  ┆ 5.6646e6   ┆ … ┆ 0.199263    ┆ 0.113103 ┆ 0.042251 ┆ 0.001899 │\n",
       "│ 530010  ┆ 2020-10-01 ┆ 1224  ┆ 5.6646e6   ┆ … ┆ 0.199263    ┆ 0.113103 ┆ 0.042251 ┆ 0.001899 │\n",
       "│ 530010  ┆ 2020-11-01 ┆ 1148  ┆ 5.6646e6   ┆ … ┆ 0.199263    ┆ 0.113103 ┆ 0.042251 ┆ 0.001899 │\n",
       "└─────────┴────────────┴───────┴────────────┴───┴─────────────┴──────────┴──────────┴──────────┘"
      ]
     },
     "execution_count": 48,
     "metadata": {},
     "output_type": "execute_result"
    }
   ],
   "source": [
    "#join datasets\n",
    "all_data = (\n",
    "    monthly_cases.join(monthly_params, how='inner', on=['muni_id', 'end_date']).with_columns(pl.col('end_date').alias('month').dt.month())\n",
    "    .join(el_nino, how='left', on=['year', 'month'])\n",
    "    .join(land_use, how='left', on='muni_id')\n",
    ")\n",
    "\n",
    "all_data"
   ]
  },
  {
   "cell_type": "markdown",
   "metadata": {},
   "source": [
    "## Experiments"
   ]
  },
  {
   "cell_type": "code",
   "execution_count": null,
   "metadata": {},
   "outputs": [],
   "source": [
    "#Dictionary to hold all results\n",
    "ALL_RESULTS = {}"
   ]
  },
  {
   "cell_type": "markdown",
   "metadata": {},
   "source": [
    "##### 1. Ridge Regression Classification using Binary/Ternary and Simple/Relative - Most basic classification model (linear least squares regression)"
   ]
  },
  {
   "cell_type": "code",
   "execution_count": null,
   "metadata": {},
   "outputs": [],
   "source": []
  },
  {
   "cell_type": "markdown",
   "metadata": {},
   "source": [
    "##### 2. Classification using Gradient Boosting Classifier"
   ]
  },
  {
   "cell_type": "markdown",
   "metadata": {},
   "source": [
    "##### 3. Time Lag Search"
   ]
  },
  {
   "cell_type": "markdown",
   "metadata": {},
   "source": [
    "##### 4. Non-contiguous time-lag search"
   ]
  },
  {
   "cell_type": "markdown",
   "metadata": {},
   "source": [
    "##### 5. Environmental feature search"
   ]
  },
  {
   "cell_type": "markdown",
   "metadata": {},
   "source": [
    "##### 6. Lag-correlated municipios"
   ]
  },
  {
   "cell_type": "markdown",
   "metadata": {},
   "source": [
    "##### 7. Hyperparameter search"
   ]
  }
 ],
 "metadata": {
  "kernelspec": {
   "display_name": "new_dengue",
   "language": "python",
   "name": "python3"
  },
  "language_info": {
   "codemirror_mode": {
    "name": "ipython",
    "version": 3
   },
   "file_extension": ".py",
   "mimetype": "text/x-python",
   "name": "python",
   "nbconvert_exporter": "python",
   "pygments_lexer": "ipython3",
   "version": "3.11.5"
  }
 },
 "nbformat": 4,
 "nbformat_minor": 2
}
