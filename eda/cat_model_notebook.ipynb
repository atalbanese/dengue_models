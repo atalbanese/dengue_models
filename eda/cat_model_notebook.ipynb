{
 "cells": [
  {
   "cell_type": "code",
   "execution_count": 2,
   "metadata": {},
   "outputs": [],
   "source": [
    "import polars as pl\n",
    "from sklearn.ensemble import HistGradientBoostingClassifier\n",
    "from sklearn.preprocessing import MinMaxScaler, OneHotEncoder\n",
    "from datetime import datetime\n",
    "import numpy as np\n",
    "import geopandas as gpd\n",
    "from dateutil.relativedelta import relativedelta\n",
    "from tqdm import tqdm\n",
    "from sklearn.decomposition import PCA\n",
    "import dill as pickle\n",
    "import os\n",
    "from sklearn.compose import ColumnTransformer\n",
    "from sklearn.pipeline import Pipeline\n",
    "from sklearn.preprocessing import MinMaxScaler, StandardScaler, RobustScaler, SplineTransformer, KernelCenterer, PolynomialFeatures, PowerTransformer, QuantileTransformer, Normalizer\n",
    "from itertools import chain\n",
    "import math\n",
    "from functools import partial\n",
    "from sklearn.metrics import classification_report, confusion_matrix\n",
    "from sklearn.metrics import ConfusionMatrixDisplay\n",
    "from sklearn.compose import make_column_transformer\n",
    "from sklearn.pipeline import make_pipeline\n",
    "from sklearn.preprocessing import OrdinalEncoder"
   ]
  },
  {
   "cell_type": "code",
   "execution_count": 3,
   "metadata": {},
   "outputs": [],
   "source": [
    "\n",
    "\n",
    "def make_relative_ternary(df:pl.DataFrame, expectations=None):\n",
    "    if expectations is None:\n",
    "        #We can do this all as one statement with polars ofc but want to save training expectations so they can be applied to test data\n",
    "        expectations = df.with_columns(pl.col('target').mean().over(['muni_id', 'month']).alias('expected')).group_by(['muni_id', 'month']).agg(pl.col('expected').first()).sort('month')\n",
    "\n",
    "    return (\n",
    "            (\n",
    "                df\n",
    "                .join(expectations, on=['muni_id', 'month'])\n",
    "                .with_columns(\n",
    "                    pl.when(pl.col('target')<=pl.col('expected')*.5)\n",
    "                    .then(pl.lit('0'))\n",
    "                    .when((pl.col('target')>pl.col('expected')*.5)&(pl.col('target')<=pl.col('expected')))\n",
    "                    .then(pl.lit('1'))\n",
    "                    .otherwise(pl.lit('2'))\n",
    "                    .alias('cat_target')\n",
    "                    )\n",
    "                .select(pl.exclude('expected'))\n",
    "            ),\n",
    "            expectations\n",
    "    )\n"
   ]
  },
  {
   "cell_type": "code",
   "execution_count": 106,
   "metadata": {},
   "outputs": [],
   "source": [
    "\n",
    "def make_relative_binary(df:pl.DataFrame, expectations=None):\n",
    "    if expectations is None:\n",
    "        #We can do this all as one statement with polars ofc but want to save training expectations so they can be applied to test data\n",
    "        expectations = df.with_columns(pl.col('target').mean().over(['muni_id','month']).alias('expected')).group_by(['muni_id', 'month']).agg(pl.col('expected').first()).sort('month')\n",
    "\n",
    "    return (\n",
    "            (\n",
    "                df\n",
    "                .join(expectations, on=['muni_id', 'month'])\n",
    "                .with_columns(\n",
    "                    pl.when(pl.col('target')>pl.col('expected'))\n",
    "                    .then(pl.lit('1'))\n",
    "                    .otherwise(pl.lit('0'))\n",
    "                    .alias('cat_target')\n",
    "                    )\n",
    "                .select(pl.exclude('expected'))\n",
    "            ),\n",
    "            expectations\n",
    "    )"
   ]
  },
  {
   "cell_type": "code",
   "execution_count": 4,
   "metadata": {},
   "outputs": [],
   "source": [
    "monthly_cases = pl.read_parquet('../data/cases/agged/dengue_per_month.parquet').with_columns(pl.col('DT_NOTIFIC').dt.offset_by('1mo').alias('end_date')).with_columns(pl.col('ID_MUNICIP').str.slice(offset=0,length=6).cast(pl.Int64)).sort('DT_NOTIFIC').rename({\n",
    "'DT_NOTIFIC': 'start_date',\n",
    "'ID_MUNICIP': 'muni_id'\n",
    "})\n",
    "\n",
    "weekly_cases = pl.read_parquet('../data/cases/agged/dengue_per_week.parquet').with_columns(pl.col('ID_MUNICIP').str.slice(offset=0,length=6).cast(pl.Int64)).sort('DT_NOTIFIC').rename({\n",
    "'DT_NOTIFIC': 'start_date',\n",
    "'ID_MUNICIP': 'muni_id'\n",
    "}).with_columns(pl.col('start_date').dt.month().alias('month'))\n",
    "\n",
    "monthly_params = pl.read_parquet('../data/gee_exports_test/all_parameters_2001-01-01_2021-01-01_months.parquet')\n",
    "\n",
    "ALL_DATA = monthly_cases.join(monthly_params, how='inner', on=['muni_id', 'end_date']).with_columns(pl.col('end_date').alias('month').dt.month())\n",
    "TRAIN_START = '2005-01-01'\n",
    "TRAIN_END = '2018-01-01'\n",
    "\n",
    "TEST_START = '2018-01-01'\n",
    "TEST_END = '2020-01-01'\n",
    "\n",
    "EL = 12\n",
    "LC = 24\n",
    "binary_error = [np.array([-999.0, -999.0])]\n",
    "ternary_error = [np.array([-999.0, -999.0, -999.0])]\n",
    "SAVE_DIR = '/home/tony/dengue/dengue_models/results/'\n",
    "SAVE_PREFIX = 'relative_binary_global'\n",
    "CAT_STYLE = 'relative_binary_global'\n",
    "CAT_FN = make_relative_ternary\n",
    "ERROR_ARR = binary_error\n",
    "munis = gpd.read_file('../data/brazil/munis/munis_simple.shp').astype({'CD_MUN': 'string'})\n",
    "munis['CD_MUN'] = munis['CD_MUN'].str.slice(stop=-1).astype(int)\n",
    "ALL_DATA = ALL_DATA.join(pl.DataFrame(munis.drop(columns='geometry')), how='left', left_on='muni_id', right_on='CD_MUN').select(pl.exclude(['NM_MUN', \n",
    "                                                                                          'geometry'])).with_columns((pl.col('pop')/pl.col('AREA_KM2')).alias('density'))"
   ]
  },
  {
   "cell_type": "code",
   "execution_count": 47,
   "metadata": {},
   "outputs": [],
   "source": [
    "\n",
    "def create_data_dict(start_date, \n",
    "                    end_date, \n",
    "                    all_data: pl.DataFrame, \n",
    "                    target_var = 'cases_per_100k',\n",
    "                    case_lookback=24,\n",
    "                    case_lag=1,\n",
    "                    env_lag=0, \n",
    "                    env_lookback = 12,\n",
    "                    env_list = [\n",
    "                    # 'total_precipitation_sum', \n",
    "                    # 'temperature_2m', \n",
    "                    ],\n",
    "                    additional_features = [\n",
    "                        'month', \n",
    "                        'SIGLA'\n",
    "                        # 'pop', \n",
    "                        # 'density', \n",
    "                        # 'x_centroid', \n",
    "                        # 'y_centroid'\n",
    "                        ],\n",
    "                    return_dict = False,\n",
    "                    specific_cases = None,\n",
    "                    specific_env = None\n",
    "                    ):\n",
    "    to_return = (\n",
    "        all_data\n",
    "        #.with_columns(pl.col('muni_id').alias('muni_cat'))\n",
    "        .select(['muni_id', 'start_date', target_var] + env_list + additional_features)\n",
    "        \n",
    "        .with_columns(\n",
    "            list(\n",
    "                chain.from_iterable(\n",
    "                    [\n",
    "                        [pl.col(target_var).shift(i).over('muni_id').alias(f'{i}_shifted_cases')] for i in (range(case_lag,case_lookback+case_lag) if specific_cases is None else specific_cases)\n",
    "                    ]\n",
    "                    +\n",
    "                    \n",
    "                    [\n",
    "                        [pl.col(e_var).shift(i).over('muni_id').alias(f'{i}_shifted_{e_var}') for i in (range(env_lag,env_lookback+env_lag) if specific_env is None else specific_env)] \n",
    "                            for e_var in env_list\n",
    "                    ]\n",
    "                    )\n",
    "                )\n",
    "        )\n",
    "        .drop_nulls()\n",
    "        .filter((pl.col('start_date')>=datetime.fromisoformat(start_date)) & (pl.col('start_date')<datetime.fromisoformat(end_date)))\n",
    "        .select(pl.exclude(env_list))\n",
    "        .rename({target_var: 'target'})\n",
    "    )\n",
    "\n",
    "    return to_return if not return_dict else to_return.partition_by('muni_id', as_dict=True)"
   ]
  },
  {
   "cell_type": "code",
   "execution_count": 6,
   "metadata": {},
   "outputs": [],
   "source": [
    "def get_features_for_muni(df, cat_fn=None, check_zeros=False, cat_vars = None):\n",
    "    df = df.sort('start_date')\n",
    "    if check_zeros:\n",
    "        if df.select(pl.col('target')).to_series().sum() == 0:\n",
    "            return None\n",
    "    selected = df if cat_fn is None else cat_fn(df)\n",
    "    expectations = None\n",
    "    #Some cat_fns return a tuple including expectations for category breaks based on historical data. If so, we want to pass these from training to testing data.\n",
    "    if isinstance(selected, tuple):\n",
    "        selected, expectations = selected\n",
    "    target_key = 'target' if cat_fn is None else 'cat_target'\n",
    "    target = selected.select(pl.col(target_key)).to_series().to_numpy().astype(float) \n",
    "    \n",
    "    #TODO: Fix how months are handled\n",
    "    features = selected.select(pl.exclude(['muni_id', 'start_date', 'target', 'count', 'cat_target'])).to_pandas()\n",
    "    if cat_vars is not None:\n",
    "        features[cat_vars] = features[cat_vars].astype('category')\n",
    "    dates = selected.select(pl.col('start_date')).to_series()\n",
    "    muni_id = selected.select(pl.col('muni_id').first()).item()\n",
    "\n",
    "    return {'X': features,\n",
    "            'y': target,\n",
    "            'dates': dates,\n",
    "            'muni_id': muni_id,\n",
    "            'expectations': expectations}"
   ]
  },
  {
   "cell_type": "code",
   "execution_count": 6,
   "metadata": {},
   "outputs": [],
   "source": [
    "def handle_zero_case(muni_id):\n",
    "    return pl.DataFrame({\n",
    "        'predictions': [-999.0],\n",
    "        'ground_truth': [-999.0],\n",
    "        'date': [datetime.fromisoformat('1900-01-01')],\n",
    "        'muni_id': [muni_id],\n",
    "        'cat_style': ['NA'],\n",
    "        'error': ['Only zeros in training data'],\n",
    "        'probabilities': ERROR_ARR\n",
    "    }).cast({'date':pl.Date})"
   ]
  },
  {
   "cell_type": "code",
   "execution_count": 7,
   "metadata": {},
   "outputs": [],
   "source": [
    "\n",
    "def write_results(df: pl.DataFrame, save_dir, save_prefix, muni_id):\n",
    "    #muni_id = df.select('muni_id').head(n=1).item()\n",
    "    df.write_csv(os.path.join(save_dir, f'{muni_id}_{save_prefix}.csv'))"
   ]
  },
  {
   "cell_type": "code",
   "execution_count": 8,
   "metadata": {},
   "outputs": [],
   "source": [
    "def make_simple_binary(df:pl.DataFrame):\n",
    "    return df.with_columns(pl.col('target').cut([300], labels=['0','1']).alias('cat_target'))"
   ]
  },
  {
   "cell_type": "code",
   "execution_count": 9,
   "metadata": {},
   "outputs": [],
   "source": [
    "\n",
    "def make_simple_ternary(df:pl.DataFrame):\n",
    "    return df.with_columns(pl.col('target').cut([100,300], labels=['0','1', '2']).alias('cat_target'))"
   ]
  },
  {
   "cell_type": "code",
   "execution_count": 7,
   "metadata": {},
   "outputs": [],
   "source": [
    "from sklearn.compose import make_column_selector\n",
    "def train_global(train, cat_style='', train_transform=None, target_transform=None, ct=None, cat_vars = []):\n",
    "\n",
    "    reg = HistGradientBoostingClassifier(\n",
    "    random_state=42,\n",
    "    loss='log_loss',\n",
    "    categorical_features = cat_vars,\n",
    "    early_stopping=True,\n",
    "    class_weight='balanced',\n",
    "    l2_regularization=0.8,\n",
    "    learning_rate=0.02,\n",
    "    max_leaf_nodes=16,\n",
    "    min_samples_leaf=50,\n",
    "    max_iter=5000,\n",
    "    scoring='balanced_accuracy'\n",
    "    )\n",
    "\n",
    "    if ct is None:\n",
    "        ct = make_column_transformer(\n",
    "            (OrdinalEncoder(), make_column_selector(dtype_include='category')),\n",
    "            (RobustScaler(), make_column_selector(dtype_exclude='category')),\n",
    "        \n",
    "        remainder='passthrough',\n",
    "        verbose_feature_names_out=False)\n",
    "\n",
    "    model = make_pipeline(ct, reg).set_output(transform='pandas')\n",
    "\n",
    "    #train_x = ct.fit_transform(train['X'])\n",
    "    #print(train_x[:,-1])\n",
    "    #if train_transform is not None:\n",
    "    #    train_x = train_transform(train_x)\n",
    "    #test_x = ct.transform(test['X'])\n",
    "\n",
    "    #train_y = train['y']\n",
    "    #if target_transform is not None:\n",
    "    #    train_y = target_transform(train_y)\n",
    "\n",
    "    #sample_weight = compute_sample_weight('balanced', train['y'])\n",
    "    model.fit(train['X'], train['y']\n",
    "            #sample_weight=sample_weight\n",
    "            )\n",
    "    \n",
    "    return model"
   ]
  },
  {
   "cell_type": "code",
   "execution_count": 8,
   "metadata": {},
   "outputs": [],
   "source": [
    "def test_global(model, test, cat_style):\n",
    "    #test_x = transformer.transform(test['X'])\n",
    "\n",
    "    z = model.predict(test['X'])\n",
    "    p_hat = model.predict_proba(test['X'])\n",
    "    return pl.DataFrame({\n",
    "        'predictions': z,\n",
    "        'ground_truth': test['y'],\n",
    "        'date': test['dates'],\n",
    "        'muni_id': [test['muni_id']]*len(z),\n",
    "        'cat_style': [cat_style]*len(z),\n",
    "        'error': ['NONE'] * len(z),\n",
    "        'probabilities': p_hat\n",
    "    })"
   ]
  },
  {
   "cell_type": "code",
   "execution_count": 9,
   "metadata": {},
   "outputs": [],
   "source": [
    "def train_models(\n",
    "        train_transform = None, \n",
    "        target_transform = None, \n",
    "        ct = None, \n",
    "        train_args = {\n",
    "            'start_date': TRAIN_START,\n",
    "            'end_date': TRAIN_END,\n",
    "            'all_data': ALL_DATA,\n",
    "            'env_list': [],\n",
    "            'return_dict': False,\n",
    "            'additional_features': []\n",
    "        },\n",
    "        test_args = {\n",
    "            'start_date': TEST_START,\n",
    "            'end_date': TEST_END,\n",
    "            'all_data': ALL_DATA,\n",
    "            'env_list': [],\n",
    "            'return_dict': False,\n",
    "            'additional_features': []\n",
    "        },\n",
    "        cat_vars = [\n",
    "            'month',\n",
    "            'SIGLA'\n",
    "        ],\n",
    "        cat_fn = make_relative_ternary\n",
    "):\n",
    "\n",
    "    train_args['additional_features'] = train_args['additional_features'] + cat_vars\n",
    "    test_args['additional_features'] = test_args['additional_features'] + cat_vars\n",
    "    global_data = create_data_dict(**train_args)\n",
    "    global_data = (\n",
    "        global_data\n",
    "        .with_columns(pl.col('target').sum().over('muni_id').alias('muni_sum'))\n",
    "        #.filter(pl.col('muni_sum')!=0)\n",
    "        #.select(pl.exclude('muni_sum'))\n",
    "    )\n",
    "\n",
    "    skip_munis = global_data.filter(pl.col('muni_sum') == 0).select('muni_id').unique().to_series()\n",
    "    global_data = global_data.filter(pl.col('muni_sum')!=0).select(pl.exclude('muni_sum'))\n",
    "\n",
    "    test_data= create_data_dict(**test_args).filter(~pl.col('muni_id').is_in(skip_munis))\n",
    "\n",
    "    train_data = get_features_for_muni(global_data, cat_fn, check_zeros=False, cat_vars = cat_vars)\n",
    "    expectations = train_data['expectations']\n",
    "    global_model = train_global(train_data,cat_style=CAT_STYLE, train_transform=train_transform, target_transform=target_transform, ct=ct, cat_vars = cat_vars)\n",
    "\n",
    "\n",
    "    new_cat_fn = partial(cat_fn, expectations = expectations)\n",
    "    test_data = get_features_for_muni(test_data, new_cat_fn, check_zeros=False, cat_vars = cat_vars)\n",
    "\n",
    "\n",
    "\n",
    "    results = test_global(global_model, test_data, CAT_STYLE)\n",
    "\n",
    "    return results"
   ]
  },
  {
   "cell_type": "code",
   "execution_count": 9,
   "metadata": {},
   "outputs": [],
   "source": [
    "predictions = train_models()"
   ]
  },
  {
   "cell_type": "code",
   "execution_count": 10,
   "metadata": {},
   "outputs": [
    {
     "name": "stdout",
     "output_type": "stream",
     "text": [
      "              precision    recall  f1-score   support\n",
      "\n",
      "         0.0       0.90      0.70      0.79     90657\n",
      "         1.0       0.15      0.60      0.25      7933\n",
      "         2.0       0.62      0.56      0.59     30242\n",
      "\n",
      "    accuracy                           0.66    128832\n",
      "   macro avg       0.56      0.62      0.54    128832\n",
      "weighted avg       0.79      0.66      0.71    128832\n",
      "\n"
     ]
    }
   ],
   "source": [
    "print(classification_report(predictions.select('ground_truth').to_series(),predictions.select('predictions').to_series()))"
   ]
  },
  {
   "cell_type": "code",
   "execution_count": 94,
   "metadata": {},
   "outputs": [
    {
     "data": {
      "text/plain": [
       "<sklearn.metrics._plot.confusion_matrix.ConfusionMatrixDisplay at 0x7fe6f0833a90>"
      ]
     },
     "execution_count": 94,
     "metadata": {},
     "output_type": "execute_result"
    },
    {
     "data": {
      "image/png": "[encoded data removed]",
      "text/plain": [
       "<Figure size 640x480 with 2 Axes>"
      ]
     },
     "metadata": {},
     "output_type": "display_data"
    }
   ],
   "source": [
    "ConfusionMatrixDisplay.from_predictions(predictions.select('ground_truth').to_series(),predictions.select('predictions').to_series())"
   ]
  },
  {
   "cell_type": "markdown",
   "metadata": {},
   "source": [
    "##Test 1: Random null training features\n",
    "Results: Doesn't seem to have a large impact on accuracy. Having up to 85% of values missing doesn't even make much of an impact. There is a lot of noise"
   ]
  },
  {
   "cell_type": "code",
   "execution_count": 73,
   "metadata": {},
   "outputs": [],
   "source": [
    "import numpy as np\n",
    "\n",
    "def random_null(inp: np.array, p=0.25):\n",
    "    rng = np.random.default_rng(12345)\n",
    "    samples = rng.uniform(size=inp.shape)\n",
    "\n",
    "    inp[samples<=p] = np.nan\n",
    "    return inp\n"
   ]
  },
  {
   "cell_type": "code",
   "execution_count": 106,
   "metadata": {},
   "outputs": [
    {
     "name": "stdout",
     "output_type": "stream",
     "text": [
      "26\n"
     ]
    }
   ],
   "source": [
    "predictions = train_models(random_null)"
   ]
  },
  {
   "cell_type": "code",
   "execution_count": 75,
   "metadata": {},
   "outputs": [
    {
     "name": "stdout",
     "output_type": "stream",
     "text": [
      "              precision    recall  f1-score   support\n",
      "\n",
      "         0.0       0.90      0.71      0.80     90657\n",
      "         1.0       0.16      0.57      0.25      7933\n",
      "         2.0       0.61      0.57      0.59     30242\n",
      "\n",
      "    accuracy                           0.67    128832\n",
      "   macro avg       0.56      0.62      0.54    128832\n",
      "weighted avg       0.79      0.67      0.71    128832\n",
      "\n"
     ]
    }
   ],
   "source": [
    "print(classification_report(predictions.select('ground_truth').to_series(),predictions.select('predictions').to_series()))"
   ]
  },
  {
   "cell_type": "code",
   "execution_count": 76,
   "metadata": {},
   "outputs": [
    {
     "data": {
      "text/plain": [
       "<sklearn.metrics._plot.confusion_matrix.ConfusionMatrixDisplay at 0x7fe6f2b59450>"
      ]
     },
     "execution_count": 76,
     "metadata": {},
     "output_type": "execute_result"
    },
    {
     "data": {
      "image/png": "[encoded data removed]",
      "text/plain": [
       "<Figure size 640x480 with 2 Axes>"
      ]
     },
     "metadata": {},
     "output_type": "display_data"
    }
   ],
   "source": [
    "ConfusionMatrixDisplay.from_predictions(predictions.select('ground_truth').to_series(),predictions.select('predictions').to_series())"
   ]
  },
  {
   "cell_type": "markdown",
   "metadata": {},
   "source": [
    "##Test 2: Additional random null training features\n",
    "Results: Slows things down a lot, does not significantly improve results"
   ]
  },
  {
   "cell_type": "code",
   "execution_count": 99,
   "metadata": {},
   "outputs": [],
   "source": [
    "import numpy as np\n",
    "\n",
    "def random_null_add(inp: np.array, p=0.25):\n",
    "    rng = np.random.default_rng(12345)\n",
    "    samples = rng.uniform(size=inp.shape)\n",
    "    copied = np.copy(inp)\n",
    "    copied[samples<=p] = np.nan\n",
    "    return np.concatenate((inp, copied))\n",
    "\n",
    "def training_double(inp: np.array):\n",
    "    return np.concatenate((inp, inp))\n"
   ]
  },
  {
   "cell_type": "code",
   "execution_count": 100,
   "metadata": {},
   "outputs": [],
   "source": [
    "predictions = train_models(train_transform=random_null_add, target_transform=training_double)"
   ]
  },
  {
   "cell_type": "code",
   "execution_count": 101,
   "metadata": {},
   "outputs": [
    {
     "name": "stdout",
     "output_type": "stream",
     "text": [
      "              precision    recall  f1-score   support\n",
      "\n",
      "         0.0       0.90      0.75      0.81     90657\n",
      "         1.0       0.16      0.46      0.24      7933\n",
      "         2.0       0.59      0.60      0.60     30242\n",
      "\n",
      "    accuracy                           0.70    128832\n",
      "   macro avg       0.55      0.60      0.55    128832\n",
      "weighted avg       0.78      0.70      0.73    128832\n",
      "\n"
     ]
    }
   ],
   "source": [
    "print(classification_report(predictions.select('ground_truth').to_series(),predictions.select('predictions').to_series()))"
   ]
  },
  {
   "cell_type": "code",
   "execution_count": 102,
   "metadata": {},
   "outputs": [
    {
     "data": {
      "text/plain": [
       "<sklearn.metrics._plot.confusion_matrix.ConfusionMatrixDisplay at 0x7fe6f2773710>"
      ]
     },
     "execution_count": 102,
     "metadata": {},
     "output_type": "execute_result"
    },
    {
     "data": {
      "image/png": "[encoded data removed]",
      "text/plain": [
       "<Figure size 640x480 with 2 Axes>"
      ]
     },
     "metadata": {},
     "output_type": "display_data"
    }
   ],
   "source": [
    "ConfusionMatrixDisplay.from_predictions(predictions.select('ground_truth').to_series(),predictions.select('predictions').to_series())"
   ]
  },
  {
   "cell_type": "markdown",
   "metadata": {},
   "source": [
    "##Test 3: Adding PCA \n",
    "Results: Improves things? need to test more"
   ]
  },
  {
   "cell_type": "code",
   "execution_count": 101,
   "metadata": {},
   "outputs": [],
   "source": [
    "pca_trans = ColumnTransformer([\n",
    "            ('min_max', RobustScaler(), list(range(1, 26))),\n",
    "            ('pca', PCA(n_components=10), list(range(1, 26)))\n",
    "        ],\n",
    "        remainder='passthrough')"
   ]
  },
  {
   "cell_type": "code",
   "execution_count": 102,
   "metadata": {},
   "outputs": [
    {
     "name": "stdout",
     "output_type": "stream",
     "text": [
      "27\n"
     ]
    },
    {
     "name": "stderr",
     "output_type": "stream",
     "text": [
      "/home/tony/mambaforge/envs/new_dengue/lib/python3.11/site-packages/sklearn/ensemble/_hist_gradient_boosting/gradient_boosting.py:1998: FutureWarning: The loss 'categorical_crossentropy' was deprecated in v1.1 and will be removed in version 1.3. Use 'log_loss' which is equivalent.\n",
      "  warnings.warn(\n"
     ]
    }
   ],
   "source": [
    "predictions = train_models(ct=pca_trans)"
   ]
  },
  {
   "cell_type": "code",
   "execution_count": 104,
   "metadata": {},
   "outputs": [
    {
     "name": "stdout",
     "output_type": "stream",
     "text": [
      "              precision    recall  f1-score   support\n",
      "\n",
      "         0.0       0.90      0.72      0.80     90657\n",
      "         1.0       0.16      0.54      0.25      7933\n",
      "         2.0       0.61      0.58      0.60     30242\n",
      "\n",
      "    accuracy                           0.68    128832\n",
      "   macro avg       0.56      0.62      0.55    128832\n",
      "weighted avg       0.79      0.68      0.72    128832\n",
      "\n"
     ]
    }
   ],
   "source": [
    "print(classification_report(predictions.select('ground_truth').to_series(),predictions.select('predictions').to_series()))"
   ]
  },
  {
   "cell_type": "code",
   "execution_count": 105,
   "metadata": {},
   "outputs": [
    {
     "data": {
      "text/plain": [
       "<sklearn.metrics._plot.confusion_matrix.ConfusionMatrixDisplay at 0x7f1790b45810>"
      ]
     },
     "execution_count": 105,
     "metadata": {},
     "output_type": "execute_result"
    },
    {
     "data": {
      "image/png": "[encoded data removed]",
      "text/plain": [
       "<Figure size 640x480 with 2 Axes>"
      ]
     },
     "metadata": {},
     "output_type": "display_data"
    }
   ],
   "source": [
    "ConfusionMatrixDisplay.from_predictions(predictions.select('ground_truth').to_series(),predictions.select('predictions').to_series())"
   ]
  },
  {
   "cell_type": "markdown",
   "metadata": {},
   "source": [
    "Test 3: Time Lag Search"
   ]
  },
  {
   "cell_type": "code",
   "execution_count": 58,
   "metadata": {},
   "outputs": [],
   "source": [
    "global_data = create_data_dict(TRAIN_START, TRAIN_END, ALL_DATA, env_list=[\n",
    "    'temporal_sdm_both',\n",
    "    # 'temporal_sdm_albopictus',\n",
    "    # 'temporal_sdm_aegypti',\n",
    "    # 'EVI',\n",
    "    # 'total_evaporation_sum',\n",
    "    # 'total_precipitation_sum',\n",
    "    # 'evaporation_from_open_water_surfaces_excluding_oceans_min',\n",
    "    # 'soil_temperature_level_1',\n",
    "    # 'runoff_sum',\n",
    "    # 'surface_runoff_min',\n",
    "    # 'volumetric_soil_water_layer_1',\n",
    "    # 'dewpoint_temperature_2m',\n",
    "    # 'temperature_2m',\n",
    "    # 'total_precipitation_min'\n",
    "], specific_cases= [1,12, 24],\n",
    "additional_features= [\n",
    "                'month',\n",
    "                'density',\n",
    "                'pop',\n",
    "                'SIGLA'\n",
    "            ],\n",
    "            return_dict=False)\n",
    "global_data = (\n",
    "    global_data\n",
    "    .with_columns(pl.col('target').sum().over('muni_id').alias('muni_sum'))\n",
    "    #.filter(pl.col('muni_sum')!=0)\n",
    "    #.select(pl.exclude('muni_sum'))\n",
    ")\n",
    "\n",
    "skip_munis = global_data.filter(pl.col('muni_sum') == 0).select('muni_id').unique().to_series()\n",
    "global_data = global_data.filter(pl.col('muni_sum')!=0).select(pl.exclude('muni_sum'))\n",
    "train_data = get_features_for_muni(global_data, CAT_FN, check_zeros=False, cat_vars = ['month', 'SIGLA'])"
   ]
  },
  {
   "cell_type": "code",
   "execution_count": 59,
   "metadata": {},
   "outputs": [
    {
     "data": {
      "text/html": [
       "<div>\n",
       "<style scoped>\n",
       "    .dataframe tbody tr th:only-of-type {\n",
       "        vertical-align: middle;\n",
       "    }\n",
       "\n",
       "    .dataframe tbody tr th {\n",
       "        vertical-align: top;\n",
       "    }\n",
       "\n",
       "    .dataframe thead th {\n",
       "        text-align: right;\n",
       "    }\n",
       "</style>\n",
       "<table border=\"1\" class=\"dataframe\">\n",
       "  <thead>\n",
       "    <tr style=\"text-align: right;\">\n",
       "      <th></th>\n",
       "      <th>month</th>\n",
       "      <th>density</th>\n",
       "      <th>pop</th>\n",
       "      <th>SIGLA</th>\n",
       "      <th>1_shifted_cases</th>\n",
       "      <th>12_shifted_cases</th>\n",
       "      <th>24_shifted_cases</th>\n",
       "      <th>0_shifted_temporal_sdm_both</th>\n",
       "      <th>1_shifted_temporal_sdm_both</th>\n",
       "      <th>2_shifted_temporal_sdm_both</th>\n",
       "      <th>3_shifted_temporal_sdm_both</th>\n",
       "      <th>4_shifted_temporal_sdm_both</th>\n",
       "      <th>5_shifted_temporal_sdm_both</th>\n",
       "      <th>6_shifted_temporal_sdm_both</th>\n",
       "      <th>7_shifted_temporal_sdm_both</th>\n",
       "      <th>8_shifted_temporal_sdm_both</th>\n",
       "      <th>9_shifted_temporal_sdm_both</th>\n",
       "      <th>10_shifted_temporal_sdm_both</th>\n",
       "      <th>11_shifted_temporal_sdm_both</th>\n",
       "    </tr>\n",
       "  </thead>\n",
       "  <tbody>\n",
       "    <tr>\n",
       "      <th>0</th>\n",
       "      <td>2</td>\n",
       "      <td>58.909587</td>\n",
       "      <td>57783</td>\n",
       "      <td>PE</td>\n",
       "      <td>34.618847</td>\n",
       "      <td>17.309423</td>\n",
       "      <td>1.731572</td>\n",
       "      <td>0.274923</td>\n",
       "      <td>0.424357</td>\n",
       "      <td>0.524242</td>\n",
       "      <td>0.811656</td>\n",
       "      <td>0.707249</td>\n",
       "      <td>0.608326</td>\n",
       "      <td>0.600787</td>\n",
       "      <td>0.747969</td>\n",
       "      <td>0.570478</td>\n",
       "      <td>0.561508</td>\n",
       "      <td>0.571820</td>\n",
       "      <td>0.710814</td>\n",
       "    </tr>\n",
       "    <tr>\n",
       "      <th>1</th>\n",
       "      <td>2</td>\n",
       "      <td>6858.834872</td>\n",
       "      <td>1501008</td>\n",
       "      <td>PE</td>\n",
       "      <td>8.474183</td>\n",
       "      <td>3.900814</td>\n",
       "      <td>10.401555</td>\n",
       "      <td>0.096570</td>\n",
       "      <td>0.664807</td>\n",
       "      <td>0.664807</td>\n",
       "      <td>0.174573</td>\n",
       "      <td>0.393609</td>\n",
       "      <td>0.485142</td>\n",
       "      <td>0.423136</td>\n",
       "      <td>0.197599</td>\n",
       "      <td>0.341072</td>\n",
       "      <td>0.335261</td>\n",
       "      <td>0.335261</td>\n",
       "      <td>0.664807</td>\n",
       "    </tr>\n",
       "    <tr>\n",
       "      <th>2</th>\n",
       "      <td>2</td>\n",
       "      <td>594.334336</td>\n",
       "      <td>232251</td>\n",
       "      <td>RJ</td>\n",
       "      <td>3.516994</td>\n",
       "      <td>7.033987</td>\n",
       "      <td>7.311912</td>\n",
       "      <td>0.516870</td>\n",
       "      <td>0.711086</td>\n",
       "      <td>0.797725</td>\n",
       "      <td>0.746080</td>\n",
       "      <td>0.706990</td>\n",
       "      <td>0.736959</td>\n",
       "      <td>0.693028</td>\n",
       "      <td>0.693428</td>\n",
       "      <td>0.728113</td>\n",
       "      <td>0.655622</td>\n",
       "      <td>0.468956</td>\n",
       "      <td>0.491624</td>\n",
       "    </tr>\n",
       "    <tr>\n",
       "      <th>3</th>\n",
       "      <td>2</td>\n",
       "      <td>109.948449</td>\n",
       "      <td>257535</td>\n",
       "      <td>MG</td>\n",
       "      <td>5.867374</td>\n",
       "      <td>111.088945</td>\n",
       "      <td>24.975520</td>\n",
       "      <td>0.042569</td>\n",
       "      <td>0.400147</td>\n",
       "      <td>0.401969</td>\n",
       "      <td>0.474220</td>\n",
       "      <td>0.706696</td>\n",
       "      <td>0.714901</td>\n",
       "      <td>0.711265</td>\n",
       "      <td>0.766703</td>\n",
       "      <td>0.744127</td>\n",
       "      <td>0.507906</td>\n",
       "      <td>0.247651</td>\n",
       "      <td>0.189705</td>\n",
       "    </tr>\n",
       "    <tr>\n",
       "      <th>4</th>\n",
       "      <td>2</td>\n",
       "      <td>32.018151</td>\n",
       "      <td>41376</td>\n",
       "      <td>TO</td>\n",
       "      <td>12.545163</td>\n",
       "      <td>65.234845</td>\n",
       "      <td>2.583312</td>\n",
       "      <td>0.131488</td>\n",
       "      <td>0.095962</td>\n",
       "      <td>0.130384</td>\n",
       "      <td>0.384195</td>\n",
       "      <td>0.036719</td>\n",
       "      <td>0.105184</td>\n",
       "      <td>0.141238</td>\n",
       "      <td>0.092267</td>\n",
       "      <td>0.099201</td>\n",
       "      <td>0.122354</td>\n",
       "      <td>0.238828</td>\n",
       "      <td>0.342839</td>\n",
       "    </tr>\n",
       "    <tr>\n",
       "      <th>...</th>\n",
       "      <td>...</td>\n",
       "      <td>...</td>\n",
       "      <td>...</td>\n",
       "      <td>...</td>\n",
       "      <td>...</td>\n",
       "      <td>...</td>\n",
       "      <td>...</td>\n",
       "      <td>...</td>\n",
       "      <td>...</td>\n",
       "      <td>...</td>\n",
       "      <td>...</td>\n",
       "      <td>...</td>\n",
       "      <td>...</td>\n",
       "      <td>...</td>\n",
       "      <td>...</td>\n",
       "      <td>...</td>\n",
       "      <td>...</td>\n",
       "      <td>...</td>\n",
       "      <td>...</td>\n",
       "    </tr>\n",
       "    <tr>\n",
       "      <th>837403</th>\n",
       "      <td>1</td>\n",
       "      <td>25.562015</td>\n",
       "      <td>77514</td>\n",
       "      <td>CE</td>\n",
       "      <td>0.000000</td>\n",
       "      <td>2.588628</td>\n",
       "      <td>1.298735</td>\n",
       "      <td>0.108133</td>\n",
       "      <td>0.088385</td>\n",
       "      <td>0.077908</td>\n",
       "      <td>0.108008</td>\n",
       "      <td>0.145047</td>\n",
       "      <td>0.341072</td>\n",
       "      <td>0.341072</td>\n",
       "      <td>0.341072</td>\n",
       "      <td>0.147098</td>\n",
       "      <td>0.106248</td>\n",
       "      <td>0.117337</td>\n",
       "      <td>0.103960</td>\n",
       "    </tr>\n",
       "    <tr>\n",
       "      <th>837404</th>\n",
       "      <td>1</td>\n",
       "      <td>247.219925</td>\n",
       "      <td>32280</td>\n",
       "      <td>PE</td>\n",
       "      <td>3.097893</td>\n",
       "      <td>0.000000</td>\n",
       "      <td>907.559880</td>\n",
       "      <td>0.664807</td>\n",
       "      <td>0.095962</td>\n",
       "      <td>0.265683</td>\n",
       "      <td>0.543138</td>\n",
       "      <td>0.572977</td>\n",
       "      <td>0.475147</td>\n",
       "      <td>0.230187</td>\n",
       "      <td>0.111233</td>\n",
       "      <td>0.664807</td>\n",
       "      <td>0.664807</td>\n",
       "      <td>0.664807</td>\n",
       "      <td>0.664807</td>\n",
       "    </tr>\n",
       "    <tr>\n",
       "      <th>837405</th>\n",
       "      <td>1</td>\n",
       "      <td>19.431012</td>\n",
       "      <td>7024</td>\n",
       "      <td>PB</td>\n",
       "      <td>0.000000</td>\n",
       "      <td>0.000000</td>\n",
       "      <td>0.000000</td>\n",
       "      <td>0.026259</td>\n",
       "      <td>0.027844</td>\n",
       "      <td>0.097366</td>\n",
       "      <td>0.141238</td>\n",
       "      <td>0.265683</td>\n",
       "      <td>0.293792</td>\n",
       "      <td>0.190201</td>\n",
       "      <td>0.207813</td>\n",
       "      <td>0.088477</td>\n",
       "      <td>0.095334</td>\n",
       "      <td>0.046891</td>\n",
       "      <td>0.026081</td>\n",
       "    </tr>\n",
       "    <tr>\n",
       "      <th>837406</th>\n",
       "      <td>1</td>\n",
       "      <td>12.655576</td>\n",
       "      <td>5134</td>\n",
       "      <td>MG</td>\n",
       "      <td>0.000000</td>\n",
       "      <td>0.000000</td>\n",
       "      <td>0.000000</td>\n",
       "      <td>0.676154</td>\n",
       "      <td>0.705032</td>\n",
       "      <td>0.675922</td>\n",
       "      <td>0.598359</td>\n",
       "      <td>0.723319</td>\n",
       "      <td>0.732159</td>\n",
       "      <td>0.582897</td>\n",
       "      <td>0.582078</td>\n",
       "      <td>0.674792</td>\n",
       "      <td>0.707249</td>\n",
       "      <td>0.734556</td>\n",
       "      <td>0.783926</td>\n",
       "    </tr>\n",
       "    <tr>\n",
       "      <th>837407</th>\n",
       "      <td>1</td>\n",
       "      <td>32.147193</td>\n",
       "      <td>10962</td>\n",
       "      <td>MG</td>\n",
       "      <td>0.000000</td>\n",
       "      <td>0.000000</td>\n",
       "      <td>0.000000</td>\n",
       "      <td>0.293792</td>\n",
       "      <td>0.554990</td>\n",
       "      <td>0.929962</td>\n",
       "      <td>0.755673</td>\n",
       "      <td>0.646784</td>\n",
       "      <td>0.643382</td>\n",
       "      <td>0.739985</td>\n",
       "      <td>0.754910</td>\n",
       "      <td>0.329660</td>\n",
       "      <td>0.133162</td>\n",
       "      <td>0.117189</td>\n",
       "      <td>0.180740</td>\n",
       "    </tr>\n",
       "  </tbody>\n",
       "</table>\n",
       "<p>837408 rows × 19 columns</p>\n",
       "</div>"
      ],
      "text/plain": [
       "       month      density      pop SIGLA  1_shifted_cases  12_shifted_cases  \\\n",
       "0          2    58.909587    57783    PE        34.618847         17.309423   \n",
       "1          2  6858.834872  1501008    PE         8.474183          3.900814   \n",
       "2          2   594.334336   232251    RJ         3.516994          7.033987   \n",
       "3          2   109.948449   257535    MG         5.867374        111.088945   \n",
       "4          2    32.018151    41376    TO        12.545163         65.234845   \n",
       "...      ...          ...      ...   ...              ...               ...   \n",
       "837403     1    25.562015    77514    CE         0.000000          2.588628   \n",
       "837404     1   247.219925    32280    PE         3.097893          0.000000   \n",
       "837405     1    19.431012     7024    PB         0.000000          0.000000   \n",
       "837406     1    12.655576     5134    MG         0.000000          0.000000   \n",
       "837407     1    32.147193    10962    MG         0.000000          0.000000   \n",
       "\n",
       "        24_shifted_cases  0_shifted_temporal_sdm_both  \\\n",
       "0               1.731572                     0.274923   \n",
       "1              10.401555                     0.096570   \n",
       "2               7.311912                     0.516870   \n",
       "3              24.975520                     0.042569   \n",
       "4               2.583312                     0.131488   \n",
       "...                  ...                          ...   \n",
       "837403          1.298735                     0.108133   \n",
       "837404        907.559880                     0.664807   \n",
       "837405          0.000000                     0.026259   \n",
       "837406          0.000000                     0.676154   \n",
       "837407          0.000000                     0.293792   \n",
       "\n",
       "        1_shifted_temporal_sdm_both  2_shifted_temporal_sdm_both  \\\n",
       "0                          0.424357                     0.524242   \n",
       "1                          0.664807                     0.664807   \n",
       "2                          0.711086                     0.797725   \n",
       "3                          0.400147                     0.401969   \n",
       "4                          0.095962                     0.130384   \n",
       "...                             ...                          ...   \n",
       "837403                     0.088385                     0.077908   \n",
       "837404                     0.095962                     0.265683   \n",
       "837405                     0.027844                     0.097366   \n",
       "837406                     0.705032                     0.675922   \n",
       "837407                     0.554990                     0.929962   \n",
       "\n",
       "        3_shifted_temporal_sdm_both  4_shifted_temporal_sdm_both  \\\n",
       "0                          0.811656                     0.707249   \n",
       "1                          0.174573                     0.393609   \n",
       "2                          0.746080                     0.706990   \n",
       "3                          0.474220                     0.706696   \n",
       "4                          0.384195                     0.036719   \n",
       "...                             ...                          ...   \n",
       "837403                     0.108008                     0.145047   \n",
       "837404                     0.543138                     0.572977   \n",
       "837405                     0.141238                     0.265683   \n",
       "837406                     0.598359                     0.723319   \n",
       "837407                     0.755673                     0.646784   \n",
       "\n",
       "        5_shifted_temporal_sdm_both  6_shifted_temporal_sdm_both  \\\n",
       "0                          0.608326                     0.600787   \n",
       "1                          0.485142                     0.423136   \n",
       "2                          0.736959                     0.693028   \n",
       "3                          0.714901                     0.711265   \n",
       "4                          0.105184                     0.141238   \n",
       "...                             ...                          ...   \n",
       "837403                     0.341072                     0.341072   \n",
       "837404                     0.475147                     0.230187   \n",
       "837405                     0.293792                     0.190201   \n",
       "837406                     0.732159                     0.582897   \n",
       "837407                     0.643382                     0.739985   \n",
       "\n",
       "        7_shifted_temporal_sdm_both  8_shifted_temporal_sdm_both  \\\n",
       "0                          0.747969                     0.570478   \n",
       "1                          0.197599                     0.341072   \n",
       "2                          0.693428                     0.728113   \n",
       "3                          0.766703                     0.744127   \n",
       "4                          0.092267                     0.099201   \n",
       "...                             ...                          ...   \n",
       "837403                     0.341072                     0.147098   \n",
       "837404                     0.111233                     0.664807   \n",
       "837405                     0.207813                     0.088477   \n",
       "837406                     0.582078                     0.674792   \n",
       "837407                     0.754910                     0.329660   \n",
       "\n",
       "        9_shifted_temporal_sdm_both  10_shifted_temporal_sdm_both  \\\n",
       "0                          0.561508                      0.571820   \n",
       "1                          0.335261                      0.335261   \n",
       "2                          0.655622                      0.468956   \n",
       "3                          0.507906                      0.247651   \n",
       "4                          0.122354                      0.238828   \n",
       "...                             ...                           ...   \n",
       "837403                     0.106248                      0.117337   \n",
       "837404                     0.664807                      0.664807   \n",
       "837405                     0.095334                      0.046891   \n",
       "837406                     0.707249                      0.734556   \n",
       "837407                     0.133162                      0.117189   \n",
       "\n",
       "        11_shifted_temporal_sdm_both  \n",
       "0                           0.710814  \n",
       "1                           0.664807  \n",
       "2                           0.491624  \n",
       "3                           0.189705  \n",
       "4                           0.342839  \n",
       "...                              ...  \n",
       "837403                      0.103960  \n",
       "837404                      0.664807  \n",
       "837405                      0.026081  \n",
       "837406                      0.783926  \n",
       "837407                      0.180740  \n",
       "\n",
       "[837408 rows x 19 columns]"
      ]
     },
     "execution_count": 59,
     "metadata": {},
     "output_type": "execute_result"
    }
   ],
   "source": [
    "train_data['X']"
   ]
  },
  {
   "cell_type": "code",
   "execution_count": 66,
   "metadata": {},
   "outputs": [
    {
     "data": {
      "text/plain": [
       "array([1.23014259e-05, 4.42902702e-07, 2.11677073e-06, ...,\n",
       "       3.71316942e-06, 1.52692525e-04, 1.64877864e-05])"
      ]
     },
     "execution_count": 66,
     "metadata": {},
     "output_type": "execute_result"
    }
   ],
   "source": [
    "from sklearn.feature_selection import SelectKBest, chi2\n",
    "from sklearn.feature_selection import f_classif, mutual_info_classif\n",
    "from sklearn.compose import make_column_transformer\n",
    "from sklearn.preprocessing import OrdinalEncoder\n",
    "X, y = train_data['X'], train_data['y']\n",
    "ct = make_column_transformer(\n",
    "            (OrdinalEncoder(), make_column_selector(dtype_include='category')),\n",
    "            (Normalizer(), make_column_selector(dtype_exclude='category')),\n",
    "        \n",
    "        remainder='passthrough')\n",
    "ct.fit_transform(X)[:,18]\n"
   ]
  },
  {
   "cell_type": "markdown",
   "metadata": {},
   "source": [
    "Months since last peak feature??? Or is this captured by historic\n",
    "\n",
    "Position within relative dengue season\n",
    "\n",
    "Change rates instead of hi/low/medium classfication\n",
    "changing rapidly up, down, medium\n",
    "\n",
    "fit some kind of periodic function per municipio based on standardized case rates -> model that takes periodic function fit to standardized data so that all municipios you can reapply results to own actual period function - look at peaks"
   ]
  },
  {
   "cell_type": "code",
   "execution_count": 117,
   "metadata": {},
   "outputs": [
    {
     "data": {
      "text/html": [
       "<style>#sk-container-id-4 {color: black;background-color: white;}#sk-container-id-4 pre{padding: 0;}#sk-container-id-4 div.sk-toggleable {background-color: white;}#sk-container-id-4 label.sk-toggleable__label {cursor: pointer;display: block;width: 100%;margin-bottom: 0;padding: 0.3em;box-sizing: border-box;text-align: center;}#sk-container-id-4 label.sk-toggleable__label-arrow:before {content: \"▸\";float: left;margin-right: 0.25em;color: #696969;}#sk-container-id-4 label.sk-toggleable__label-arrow:hover:before {color: black;}#sk-container-id-4 div.sk-estimator:hover label.sk-toggleable__label-arrow:before {color: black;}#sk-container-id-4 div.sk-toggleable__content {max-height: 0;max-width: 0;overflow: hidden;text-align: left;background-color: #f0f8ff;}#sk-container-id-4 div.sk-toggleable__content pre {margin: 0.2em;color: black;border-radius: 0.25em;background-color: #f0f8ff;}#sk-container-id-4 input.sk-toggleable__control:checked~div.sk-toggleable__content {max-height: 200px;max-width: 100%;overflow: auto;}#sk-container-id-4 input.sk-toggleable__control:checked~label.sk-toggleable__label-arrow:before {content: \"▾\";}#sk-container-id-4 div.sk-estimator input.sk-toggleable__control:checked~label.sk-toggleable__label {background-color: #d4ebff;}#sk-container-id-4 div.sk-label input.sk-toggleable__control:checked~label.sk-toggleable__label {background-color: #d4ebff;}#sk-container-id-4 input.sk-hidden--visually {border: 0;clip: rect(1px 1px 1px 1px);clip: rect(1px, 1px, 1px, 1px);height: 1px;margin: -1px;overflow: hidden;padding: 0;position: absolute;width: 1px;}#sk-container-id-4 div.sk-estimator {font-family: monospace;background-color: #f0f8ff;border: 1px dotted black;border-radius: 0.25em;box-sizing: border-box;margin-bottom: 0.5em;}#sk-container-id-4 div.sk-estimator:hover {background-color: #d4ebff;}#sk-container-id-4 div.sk-parallel-item::after {content: \"\";width: 100%;border-bottom: 1px solid gray;flex-grow: 1;}#sk-container-id-4 div.sk-label:hover label.sk-toggleable__label {background-color: #d4ebff;}#sk-container-id-4 div.sk-serial::before {content: \"\";position: absolute;border-left: 1px solid gray;box-sizing: border-box;top: 0;bottom: 0;left: 50%;z-index: 0;}#sk-container-id-4 div.sk-serial {display: flex;flex-direction: column;align-items: center;background-color: white;padding-right: 0.2em;padding-left: 0.2em;position: relative;}#sk-container-id-4 div.sk-item {position: relative;z-index: 1;}#sk-container-id-4 div.sk-parallel {display: flex;align-items: stretch;justify-content: center;background-color: white;position: relative;}#sk-container-id-4 div.sk-item::before, #sk-container-id-4 div.sk-parallel-item::before {content: \"\";position: absolute;border-left: 1px solid gray;box-sizing: border-box;top: 0;bottom: 0;left: 50%;z-index: -1;}#sk-container-id-4 div.sk-parallel-item {display: flex;flex-direction: column;z-index: 1;position: relative;background-color: white;}#sk-container-id-4 div.sk-parallel-item:first-child::after {align-self: flex-end;width: 50%;}#sk-container-id-4 div.sk-parallel-item:last-child::after {align-self: flex-start;width: 50%;}#sk-container-id-4 div.sk-parallel-item:only-child::after {width: 0;}#sk-container-id-4 div.sk-dashed-wrapped {border: 1px dashed gray;margin: 0 0.4em 0.5em 0.4em;box-sizing: border-box;padding-bottom: 0.4em;background-color: white;}#sk-container-id-4 div.sk-label label {font-family: monospace;font-weight: bold;display: inline-block;line-height: 1.2em;}#sk-container-id-4 div.sk-label-container {text-align: center;}#sk-container-id-4 div.sk-container {/* jupyter's `normalize.less` sets `[hidden] { display: none; }` but bootstrap.min.css set `[hidden] { display: none !important; }` so we also need the `!important` here to be able to override the default hidden behavior on the sphinx rendered scikit-learn.org. See: https://github.com/scikit-learn/scikit-learn/issues/21755 */display: inline-block !important;position: relative;}#sk-container-id-4 div.sk-text-repr-fallback {display: none;}</style><div id=\"sk-container-id-4\" class=\"sk-top-container\"><div class=\"sk-text-repr-fallback\"><pre>SequentialFeatureSelector(cv=3,\n",
       "                          estimator=HistGradientBoostingClassifier(class_weight=&#x27;balanced&#x27;,\n",
       "                                                                   early_stopping=True,\n",
       "                                                                   max_iter=500,\n",
       "                                                                   n_iter_no_change=100,\n",
       "                                                                   random_state=42,\n",
       "                                                                   validation_fraction=0.3),\n",
       "                          n_features_to_select=&#x27;auto&#x27;, n_jobs=-1,\n",
       "                          scoring=&#x27;f1_macro&#x27;, tol=0.001)</pre><b>In a Jupyter environment, please rerun this cell to show the HTML representation or trust the notebook. <br />On GitHub, the HTML representation is unable to render, please try loading this page with nbviewer.org.</b></div><div class=\"sk-container\" hidden><div class=\"sk-item sk-dashed-wrapped\"><div class=\"sk-label-container\"><div class=\"sk-label sk-toggleable\"><input class=\"sk-toggleable__control sk-hidden--visually\" id=\"sk-estimator-id-8\" type=\"checkbox\" ><label for=\"sk-estimator-id-8\" class=\"sk-toggleable__label sk-toggleable__label-arrow\">SequentialFeatureSelector</label><div class=\"sk-toggleable__content\"><pre>SequentialFeatureSelector(cv=3,\n",
       "                          estimator=HistGradientBoostingClassifier(class_weight=&#x27;balanced&#x27;,\n",
       "                                                                   early_stopping=True,\n",
       "                                                                   max_iter=500,\n",
       "                                                                   n_iter_no_change=100,\n",
       "                                                                   random_state=42,\n",
       "                                                                   validation_fraction=0.3),\n",
       "                          n_features_to_select=&#x27;auto&#x27;, n_jobs=-1,\n",
       "                          scoring=&#x27;f1_macro&#x27;, tol=0.001)</pre></div></div></div><div class=\"sk-parallel\"><div class=\"sk-parallel-item\"><div class=\"sk-item\"><div class=\"sk-label-container\"><div class=\"sk-label sk-toggleable\"><input class=\"sk-toggleable__control sk-hidden--visually\" id=\"sk-estimator-id-9\" type=\"checkbox\" ><label for=\"sk-estimator-id-9\" class=\"sk-toggleable__label sk-toggleable__label-arrow\">estimator: HistGradientBoostingClassifier</label><div class=\"sk-toggleable__content\"><pre>HistGradientBoostingClassifier(class_weight=&#x27;balanced&#x27;, early_stopping=True,\n",
       "                               max_iter=500, n_iter_no_change=100,\n",
       "                               random_state=42, validation_fraction=0.3)</pre></div></div></div><div class=\"sk-serial\"><div class=\"sk-item\"><div class=\"sk-estimator sk-toggleable\"><input class=\"sk-toggleable__control sk-hidden--visually\" id=\"sk-estimator-id-10\" type=\"checkbox\" ><label for=\"sk-estimator-id-10\" class=\"sk-toggleable__label sk-toggleable__label-arrow\">HistGradientBoostingClassifier</label><div class=\"sk-toggleable__content\"><pre>HistGradientBoostingClassifier(class_weight=&#x27;balanced&#x27;, early_stopping=True,\n",
       "                               max_iter=500, n_iter_no_change=100,\n",
       "                               random_state=42, validation_fraction=0.3)</pre></div></div></div></div></div></div></div></div></div></div>"
      ],
      "text/plain": [
       "SequentialFeatureSelector(cv=3,\n",
       "                          estimator=HistGradientBoostingClassifier(class_weight='balanced',\n",
       "                                                                   early_stopping=True,\n",
       "                                                                   max_iter=500,\n",
       "                                                                   n_iter_no_change=100,\n",
       "                                                                   random_state=42,\n",
       "                                                                   validation_fraction=0.3),\n",
       "                          n_features_to_select='auto', n_jobs=-1,\n",
       "                          scoring='f1_macro', tol=0.001)"
      ]
     },
     "execution_count": 117,
     "metadata": {},
     "output_type": "execute_result"
    }
   ],
   "source": [
    "from sklearn.feature_selection import SequentialFeatureSelector\n",
    "\n",
    "hist_model = HistGradientBoostingClassifier(random_state=42,\n",
    "    #categorical_features = [n_components-1],\n",
    "    #l2_regularization=.05,\n",
    "    #categorical_features=[15],\n",
    "    max_iter=500, \n",
    "    #learning_rate=0.5,\n",
    "    #max_leaf_nodes=None, \n",
    "    #min_samples_leaf=10,\n",
    "    #max_bins=255,\n",
    "    early_stopping=True,\n",
    "    class_weight='balanced',\n",
    "    validation_fraction=0.3,\n",
    "    n_iter_no_change=100)\n",
    "#X = MinMaxScaler().fit_transform(X)\n",
    "sfs = SequentialFeatureSelector(hist_model, n_features_to_select='auto', tol=0.001, scoring='f1_macro', cv=3, n_jobs=-1)\n",
    "sfs.fit(X, y)"
   ]
  },
  {
   "cell_type": "code",
   "execution_count": 118,
   "metadata": {},
   "outputs": [
    {
     "data": {
      "text/plain": [
       "array(['1_shifted_cases', '13_shifted_cases', '24_shifted_cases',\n",
       "       '8_shifted_surface_runoff_min'], dtype=object)"
      ]
     },
     "execution_count": 118,
     "metadata": {},
     "output_type": "execute_result"
    }
   ],
   "source": [
    "sfs.get_feature_names_out(\n",
    ")"
   ]
  },
  {
   "cell_type": "markdown",
   "metadata": {},
   "source": [
    "Test 4: non-contiguous time period\n",
    "Results: Inconclusive\n"
   ]
  },
  {
   "cell_type": "code",
   "execution_count": 146,
   "metadata": {},
   "outputs": [
    {
     "name": "stdout",
     "output_type": "stream",
     "text": [
      "              precision    recall  f1-score   support\n",
      "\n",
      "         0.0       0.89      0.72      0.80     80361\n",
      "         1.0       0.37      0.61      0.46     18474\n",
      "         2.0       0.56      0.62      0.59     24629\n",
      "\n",
      "    accuracy                           0.69    123464\n",
      "   macro avg       0.61      0.65      0.61    123464\n",
      "weighted avg       0.74      0.69      0.71    123464\n",
      "\n"
     ]
    },
    {
     "data": {
      "text/plain": [
       "<sklearn.metrics._plot.confusion_matrix.ConfusionMatrixDisplay at 0x7f7af7241690>"
      ]
     },
     "execution_count": 146,
     "metadata": {},
     "output_type": "execute_result"
    },
    {
     "data": {
      "image/png": "[encoded data removed]",
      "text/plain": [
       "<Figure size 640x480 with 2 Axes>"
      ]
     },
     "metadata": {},
     "output_type": "display_data"
    }
   ],
   "source": [
    "predictions = train_models(train_args = {\n",
    "            'start_date': TRAIN_START,\n",
    "            'end_date': TRAIN_END,\n",
    "            'all_data': ALL_DATA,\n",
    "            'env_list': [\n",
    "                'temporal_sdm_aegypti',\n",
    "                'temporal_sdm_albopictus',\n",
    "                #'soil_temperature_level_1'\n",
    "                #'temporal_sdm_both'\n",
    "                ],\n",
    "            'return_dict': False,\n",
    "            'specific_cases': [1,2,3,12,13, 24,25],\n",
    "            'specific_env': [0,1,2, 11, 23],\n",
    "            'additional_features': [\n",
    "                'density',\n",
    "                #'pop'\n",
    "            ]\n",
    "        },\n",
    "        test_args = {\n",
    "            'start_date': TEST_START,\n",
    "            'end_date': TEST_END,\n",
    "            'all_data': ALL_DATA,\n",
    "            'env_list': [\n",
    "                'temporal_sdm_aegypti',\n",
    "                'temporal_sdm_albopictus',\n",
    "                #'soil_temperature_level_1'\n",
    "                #'temporal_sdm_both'\n",
    "                ],\n",
    "            'return_dict': False,\n",
    "            'specific_cases': [1,2,3,12,13, 24,25],\n",
    "            'specific_env': [0,1,2, 11, 23],\n",
    "            'additional_features': [\n",
    "                'density',\n",
    "                #'pop'\n",
    "            ]\n",
    "        },\n",
    "        cat_vars = [\n",
    "            'month', \n",
    "            'SIGLA'\n",
    "            ],\n",
    "        cat_fn=make_relative_ternary\n",
    ")\n",
    "print(classification_report(predictions.select('ground_truth').to_series(),predictions.select('predictions').to_series()))\n",
    "ConfusionMatrixDisplay.from_predictions(predictions.select('ground_truth').to_series(),predictions.select('predictions').to_series())"
   ]
  },
  {
   "cell_type": "code",
   "execution_count": 145,
   "metadata": {},
   "outputs": [
    {
     "name": "stdout",
     "output_type": "stream",
     "text": [
      "              precision    recall  f1-score   support\n",
      "\n",
      "         0.0       0.89      0.72      0.80     80361\n",
      "         1.0       0.37      0.61      0.46     18474\n",
      "         2.0       0.56      0.62      0.59     24629\n",
      "\n",
      "    accuracy                           0.69    123464\n",
      "   macro avg       0.61      0.65      0.61    123464\n",
      "weighted avg       0.74      0.69      0.71    123464\n",
      "\n"
     ]
    }
   ],
   "source": [
    "print(classification_report(predictions.select('ground_truth').to_series(),predictions.select('predictions').to_series()))"
   ]
  },
  {
   "cell_type": "code",
   "execution_count": 142,
   "metadata": {},
   "outputs": [
    {
     "data": {
      "text/plain": [
       "<sklearn.metrics._plot.confusion_matrix.ConfusionMatrixDisplay at 0x7f7af6f35010>"
      ]
     },
     "execution_count": 142,
     "metadata": {},
     "output_type": "execute_result"
    },
    {
     "data": {
      "image/png": "[encoded data removed]",
      "text/plain": [
       "<Figure size 640x480 with 2 Axes>"
      ]
     },
     "metadata": {},
     "output_type": "display_data"
    }
   ],
   "source": [
    "ConfusionMatrixDisplay.from_predictions(predictions.select('ground_truth').to_series(),predictions.select('predictions').to_series())"
   ]
  },
  {
   "cell_type": "markdown",
   "metadata": {},
   "source": [
    "5: Setting up timeseries kfold validation for tests:"
   ]
  },
  {
   "cell_type": "code",
   "execution_count": 7,
   "metadata": {},
   "outputs": [],
   "source": [
    "from sklearn.model_selection import TimeSeriesSplit, cross_validate\n",
    "\n",
    "splitter = TimeSeriesSplit()\n",
    "global_data = create_data_dict('2001-01-01', '2020-11-01', ALL_DATA, env_list=[\n",
    "], specific_cases= [1,12, 24],\n",
    "additional_features= [\n",
    "                'month',\n",
    "                'density',\n",
    "                'pop'\n",
    "            ],\n",
    "            return_dict=False)\n",
    "global_data = (\n",
    "    global_data\n",
    "    .with_columns(pl.col('target').sum().over('muni_id').alias('muni_sum'))\n",
    ")\n",
    "\n",
    "skip_munis = global_data.filter(pl.col('muni_sum') == 0).select('muni_id').unique().to_series()\n",
    "global_data = global_data.filter(pl.col('muni_sum')!=0).select(pl.exclude('muni_sum'))\n",
    "train_data = get_features_for_muni(global_data, make_relative_ternary, check_zeros=False)\n"
   ]
  },
  {
   "cell_type": "code",
   "execution_count": 48,
   "metadata": {},
   "outputs": [
    {
     "data": {
      "text/plain": [
       "{'fit_time': array([ 15.50523829,  43.7184689 ,  96.18016195, 132.16300011,\n",
       "        202.23592615]),\n",
       " 'score_time': array([ 8.52636933, 12.9847343 , 16.86812782, 17.50940824, 21.44417691]),\n",
       " 'test_f1_macro': array([0.48046069, 0.5139142 , 0.52390569, 0.53248819, 0.54602781]),\n",
       " 'test_f1_weighted': array([0.7146158 , 0.69987148, 0.67997332, 0.68817676, 0.71265366]),\n",
       " 'test_balanced_accuracy': array([0.5554468 , 0.58649792, 0.59785814, 0.61006448, 0.61592058])}"
      ]
     },
     "execution_count": 48,
     "metadata": {},
     "output_type": "execute_result"
    }
   ],
   "source": [
    "from sklearn.compose import make_column_transformer, make_column_selector\n",
    "from sklearn.pipeline import make_pipeline\n",
    "from sklearn.ensemble import RandomForestClassifier, VotingClassifier\n",
    "\n",
    "cat_columns = ['month']\n",
    "\n",
    "scaler = make_column_transformer(\n",
    "    (RobustScaler(), make_column_selector(dtype_exclude='uint32')), remainder=\"passthrough\", verbose_feature_names_out=False,\n",
    ")\n",
    "\n",
    "\n",
    "hist_model = HistGradientBoostingClassifier(\n",
    "    random_state=42,\n",
    "    early_stopping=True,\n",
    "    class_weight='balanced',\n",
    "    categorical_features=cat_columns,\n",
    "    l2_regularization=0.8,\n",
    "    learning_rate=0.02,\n",
    "    max_leaf_nodes=16,\n",
    "    min_samples_leaf=50,\n",
    "    max_iter=4000\n",
    "    )\n",
    "rf_model = RandomForestClassifier(\n",
    "    random_state=42,\n",
    "    n_estimators=50,\n",
    "    criterion='entropy'\n",
    ")\n",
    "hist_pipeline = make_pipeline(scaler, hist_model).set_output(transform='pandas')\n",
    "rf_pipeline = make_pipeline(scaler, rf_model).set_output(transform='pandas')\n",
    "vote_pipeline = make_pipeline(scaler, VotingClassifier([('hist', hist_model), ('rf', rf_model)])).set_output(transform='pandas')\n",
    "#voter = VotingClassifier([hist_pipeline, rf_pipeline])\n",
    "\n",
    "cross_validate(hist_pipeline, train_data['X'], train_data['y'], scoring=['f1_macro', 'f1_weighted', 'balanced_accuracy'], cv=TimeSeriesSplit(), n_jobs=-1)\n"
   ]
  },
  {
   "cell_type": "markdown",
   "metadata": {},
   "source": [
    "TODO: Halvinggridsearch - .02 learning rate best on first try\n",
    "      Fix categorical variables and try state/cluster membership\n",
    "      Features seaaaarch better"
   ]
  },
  {
   "cell_type": "code",
   "execution_count": 45,
   "metadata": {},
   "outputs": [
    {
     "name": "stdout",
     "output_type": "stream",
     "text": [
      "n_iterations: 6\n",
      "n_required_iterations: 6\n",
      "n_possible_iterations: 6\n",
      "min_resources_: 100\n",
      "max_resources_: 5000\n",
      "aggressive_elimination: False\n",
      "factor: 2\n",
      "----------\n",
      "iter: 0\n",
      "n_candidates: 50\n",
      "n_resources: 100\n",
      "Fitting 4 folds for each of 50 candidates, totalling 200 fits\n",
      "----------\n",
      "iter: 1\n",
      "n_candidates: 25\n",
      "n_resources: 200\n",
      "Fitting 4 folds for each of 25 candidates, totalling 100 fits\n",
      "----------\n",
      "iter: 2\n",
      "n_candidates: 13\n",
      "n_resources: 400\n",
      "Fitting 4 folds for each of 13 candidates, totalling 52 fits\n",
      "----------\n",
      "iter: 3\n",
      "n_candidates: 7\n",
      "n_resources: 800\n",
      "Fitting 4 folds for each of 7 candidates, totalling 28 fits\n",
      "----------\n",
      "iter: 4\n",
      "n_candidates: 4\n",
      "n_resources: 1600\n",
      "Fitting 4 folds for each of 4 candidates, totalling 16 fits\n",
      "----------\n",
      "iter: 5\n",
      "n_candidates: 2\n",
      "n_resources: 3200\n",
      "Fitting 4 folds for each of 2 candidates, totalling 8 fits\n"
     ]
    }
   ],
   "source": [
    "from sklearn.experimental import enable_halving_search_cv  # noqa\n",
    "from sklearn.model_selection import GridSearchCV, HalvingGridSearchCV, HalvingRandomSearchCV\n",
    "import scipy.stats as stats\n",
    "\n",
    "param_grid = {\n",
    "    #'histgradientboostingclassifier__learning_rate': stats.loguniform(.0001, .1 ),\n",
    "    #'histgradientboostingclassifier__l2_regularization': stats.uniform(0,2),\n",
    "    #'histgradientboostingclassifier__max_leaf_nodes': stats.randint(1, 100),\n",
    "    'histgradientboostingclassifier__min_samples_leaf': stats.randint(50, 250)\n",
    "}\n",
    "\n",
    "clf = HistGradientBoostingClassifier(\n",
    "    random_state=42,\n",
    "    early_stopping=True,\n",
    "    class_weight='balanced',\n",
    "    categorical_features=cat_columns,\n",
    "    l2_regularization=0.8,\n",
    "    learning_rate=0.02,\n",
    "    max_leaf_nodes=16,\n",
    "    min_samples_leaf=50\n",
    "    )\n",
    "\n",
    "grid_pipeline = make_pipeline(scaler, clf).set_output(transform='pandas')\n",
    "\n",
    "\n",
    "gsh = HalvingRandomSearchCV(\n",
    "    estimator=grid_pipeline, param_distributions=param_grid, factor=2, random_state=42, cv=TimeSeriesSplit(n_splits=4), scoring='balanced_accuracy', verbose=1,\n",
    "    min_resources=100, max_resources=5000, resource='histgradientboostingclassifier__max_iter',\n",
    ")\n",
    "\n",
    "search = gsh.fit(train_data['X'], train_data['y'])\n",
    "#grid_pipeline.named_steps\n"
   ]
  },
  {
   "cell_type": "code",
   "execution_count": 43,
   "metadata": {},
   "outputs": [
    {
     "data": {
      "text/plain": [
       "{'histgradientboostingclassifier__l2_regularization': 0.7976488848891061,\n",
       " 'histgradientboostingclassifier__learning_rate': 0.02813815513117022,\n",
       " 'histgradientboostingclassifier__max_leaf_nodes': 16,\n",
       " 'histgradientboostingclassifier__min_samples_leaf': 97,\n",
       " 'histgradientboostingclassifier__max_iter': 3200}"
      ]
     },
     "execution_count": 43,
     "metadata": {},
     "output_type": "execute_result"
    }
   ],
   "source": [
    "search.best_params_"
   ]
  },
  {
   "cell_type": "code",
   "execution_count": 47,
   "metadata": {},
   "outputs": [
    {
     "data": {
      "text/plain": [
       "{'histgradientboostingclassifier__min_samples_leaf': 51,\n",
       " 'histgradientboostingclassifier__max_iter': 3200}"
      ]
     },
     "execution_count": 47,
     "metadata": {},
     "output_type": "execute_result"
    }
   ],
   "source": [
    "search.best_params_\n"
   ]
  },
  {
   "cell_type": "markdown",
   "metadata": {},
   "source": [
    "Weekly Cases? This is dumb?\n",
    "Two options: Concat weekly data to bottom of monthly data as additional training data -- This doesn't work\n",
    "OR: Better option? Weekly case rates as additional features"
   ]
  },
  {
   "cell_type": "code",
   "execution_count": 29,
   "metadata": {},
   "outputs": [],
   "source": [
    "weekly  = create_data_dict('2005-01-01', '2018-01-01', weekly_cases, additional_features=['month'], return_dict=False)\n",
    "monthly = create_data_dict('2005-01-01', '2018-01-01', ALL_DATA, additional_features=['month'], return_dict=False)\n",
    "\n",
    "monthly = (\n",
    "    monthly\n",
    "    .with_columns(pl.col('target').sum().over('muni_id').alias('muni_sum'))\n",
    ")\n",
    "\n",
    "skip_munis = monthly.filter(pl.col('muni_sum') == 0).select('muni_id').unique().to_series()\n",
    "monthly = monthly.filter(pl.col('muni_sum')!=0).select(pl.exclude('muni_sum'))\n",
    "weekly = weekly.filter(~pl.col('muni_id').is_in(skip_munis))\n",
    "\n",
    "\n",
    "monthly_features = get_features_for_muni(monthly, make_relative_ternary, check_zeros=False)\n",
    "weekly_features = get_features_for_muni(weekly, make_relative_ternary, check_zeros=False)"
   ]
  },
  {
   "cell_type": "code",
   "execution_count": 30,
   "metadata": {},
   "outputs": [],
   "source": [
    "import pandas as pd\n",
    "mt = make_column_transformer(\n",
    "            (Normalizer(), make_column_selector(dtype_exclude='uint32')),\n",
    "        remainder='passthrough', verbose_feature_names_out=False).set_output(transform='pandas')\n",
    "\n",
    "wt = make_column_transformer(\n",
    "            (Normalizer(), make_column_selector(dtype_exclude='uint32')),\n",
    "        remainder='passthrough', verbose_feature_names_out=False).set_output(transform='pandas')\n",
    "\n",
    "\n",
    "combined_X = pd.concat([mt.fit_transform(monthly_features['X']), wt.fit_transform(weekly_features['X'])])\n",
    "combined_y = np.concatenate([monthly_features['y'], weekly_features['y']])\n",
    "\n",
    "test = create_data_dict('2018-01-01', '2020-01-01' , ALL_DATA, additional_features=['month'], return_dict=False)\n",
    "test = test.filter(~pl.col('muni_id').is_in(skip_munis))\n",
    "\n",
    "test_features = get_features_for_muni(test, partial(make_relative_ternary, expectations = monthly_features['expectations']), check_zeros=False)\n"
   ]
  },
  {
   "cell_type": "code",
   "execution_count": 28,
   "metadata": {},
   "outputs": [
    {
     "data": {
      "text/plain": [
       "(array([0., 1., 2.]), array([90657,  7933, 30242]))"
      ]
     },
     "execution_count": 28,
     "metadata": {},
     "output_type": "execute_result"
    }
   ],
   "source": [
    "np.unique(test_features['y'], return_counts=True)"
   ]
  },
  {
   "cell_type": "code",
   "execution_count": 31,
   "metadata": {},
   "outputs": [],
   "source": [
    "clf = HistGradientBoostingClassifier(\n",
    "    random_state=42,\n",
    "    early_stopping=True,\n",
    "    class_weight='balanced',\n",
    "    categorical_features=['month'],\n",
    "    l2_regularization=0.8,\n",
    "    learning_rate=0.02,\n",
    "    max_leaf_nodes=16,\n",
    "    min_samples_leaf=50,\n",
    "    max_iter=5000\n",
    "    )\n",
    "\n",
    "clf = clf.fit(combined_X, combined_y)"
   ]
  },
  {
   "cell_type": "code",
   "execution_count": 32,
   "metadata": {},
   "outputs": [
    {
     "name": "stdout",
     "output_type": "stream",
     "text": [
      "              precision    recall  f1-score   support\n",
      "\n",
      "         0.0       0.93      0.55      0.69     90657\n",
      "         1.0       0.13      0.67      0.21      7933\n",
      "         2.0       0.51      0.55      0.53     30242\n",
      "\n",
      "    accuracy                           0.56    128832\n",
      "   macro avg       0.52      0.59      0.48    128832\n",
      "weighted avg       0.78      0.56      0.63    128832\n",
      "\n"
     ]
    },
    {
     "data": {
      "text/plain": [
       "<sklearn.metrics._plot.confusion_matrix.ConfusionMatrixDisplay at 0x7f2cd17f1b10>"
      ]
     },
     "execution_count": 32,
     "metadata": {},
     "output_type": "execute_result"
    },
    {
     "data": {
      "image/png": "[encoded data removed]",
      "text/plain": [
       "<Figure size 640x480 with 2 Axes>"
      ]
     },
     "metadata": {},
     "output_type": "display_data"
    }
   ],
   "source": [
    "predictions = clf.predict(mt.transform(test_features['X']))\n",
    "print(classification_report(test_features['y'],predictions))\n",
    "ConfusionMatrixDisplay.from_predictions(test_features['y'],predictions)"
   ]
  },
  {
   "cell_type": "markdown",
   "metadata": {},
   "source": [
    "#Weekly cases as additional features"
   ]
  },
  {
   "cell_type": "code",
   "execution_count": 106,
   "metadata": {},
   "outputs": [
    {
     "name": "stdout",
     "output_type": "stream",
     "text": [
      "temporal_sdm_both\n",
      "              precision    recall  f1-score   support\n",
      "\n",
      "         0.0       0.90      0.71      0.80     90657\n",
      "         1.0       0.15      0.57      0.24      7933\n",
      "         2.0       0.61      0.57      0.59     30242\n",
      "\n",
      "    accuracy                           0.67    128832\n",
      "   macro avg       0.56      0.62      0.54    128832\n",
      "weighted avg       0.79      0.67      0.71    128832\n",
      "\n",
      "temporal_sdm_albopictus\n",
      "              precision    recall  f1-score   support\n",
      "\n",
      "         0.0       0.90      0.71      0.80     90657\n",
      "         1.0       0.16      0.57      0.24      7933\n",
      "         2.0       0.61      0.56      0.59     30242\n",
      "\n",
      "    accuracy                           0.67    128832\n",
      "   macro avg       0.56      0.62      0.54    128832\n",
      "weighted avg       0.79      0.67      0.71    128832\n",
      "\n"
     ]
    },
    {
     "data": {
      "image/png": "[encoded data removed]",
      "text/plain": [
       "<Figure size 640x480 with 2 Axes>"
      ]
     },
     "metadata": {},
     "output_type": "display_data"
    },
    {
     "data": {
      "image/png": "[encoded data removed]",
      "text/plain": [
       "<Figure size 640x480 with 2 Axes>"
      ]
     },
     "metadata": {},
     "output_type": "display_data"
    }
   ],
   "source": [
    "env_feats = [\n",
    "'temporal_sdm_both',\n",
    " 'temporal_sdm_albopictus',\n",
    " 'temporal_sdm_aegypti',\n",
    " 'EVI',\n",
    " 'total_evaporation_sum',\n",
    " 'total_precipitation_sum',\n",
    " 'evaporation_from_open_water_surfaces_excluding_oceans_min',\n",
    " 'soil_temperature_level_1',\n",
    " 'runoff_sum',\n",
    " 'surface_runoff_min',\n",
    " 'volumetric_soil_water_layer_1',\n",
    " 'dewpoint_temperature_2m',\n",
    " 'temperature_2m',\n",
    " 'total_precipitation_min',\n",
    "]\n",
    "results = []\n",
    "for e_v in env_feats:\n",
    "    num_weeks = 0\n",
    "    time_lookback = 24\n",
    "    #spec_cases = [11]\n",
    "    adtl_feat = [\n",
    "        'density', \n",
    "        #'pop'\n",
    "    ]\n",
    "    cat_feat = [\n",
    "        'month', \n",
    "    #'SIGLA'\n",
    "    ]\n",
    "    weak_feat = [f'week_{i}' for i in range(0, num_weeks)]\n",
    "    env_feat = [\n",
    "        e_v\n",
    "    ]\n",
    "    specific_env = [0,1]\n",
    "\n",
    "    mod_month = ALL_DATA.with_columns((\n",
    "        pl.col('start_date').dt.offset_by('-1mo').dt.month().alias('join_month'),\n",
    "        pl.col('start_date').dt.offset_by('-1mo').dt.year().alias('join_year')\n",
    "    )\n",
    "    )\n",
    "    if num_weeks > 0:\n",
    "        mod_weekly = (weekly_cases.with_columns(pl.col('start_date').dt.offset_by('1w').alias('end_date'))\n",
    "                    .with_columns((\n",
    "                        pl.col('end_date').dt.month().alias('join_month'),\n",
    "                        pl.col('end_date').dt.year().alias('join_year')\n",
    "                    )\n",
    "        )\n",
    "            .group_by(['muni_id', 'join_year', 'join_month'])\n",
    "            .agg(pl.col('cases_per_100k').tail(num_weeks))\n",
    "            .filter(pl.col('cases_per_100k').list.len() == num_weeks)\n",
    "            .with_columns(pl.col('cases_per_100k').list.to_struct())\n",
    "            .unnest('cases_per_100k')\n",
    "        )\n",
    "\n",
    "    month_week_df = mod_month.join(mod_weekly, on=['muni_id', 'join_year', 'join_month'], how='inner').rename({\n",
    "        f'field_{i}': f'week_{i}' for i in range(0, num_weeks)}) if num_weeks>0 else ALL_DATA\n",
    "\n",
    "    month_week_df.columns\n",
    "    month_week_train = create_data_dict(TRAIN_START, \n",
    "                                        TRAIN_END, \n",
    "                                        month_week_df, \n",
    "                                        #env_list=['temporal_sdm_both'], \n",
    "                                        #env_lookback=24, \n",
    "                                        case_lookback=time_lookback, \n",
    "                                        env_list=env_feat,\n",
    "                                        specific_env=specific_env,\n",
    "                                        #specific_cases=spec_cases,\n",
    "                                        additional_features=adtl_feat + cat_feat + weak_feat\n",
    "                                        # + \n",
    "                                        #[f'week_{i}' for i in range(0, num_weeks)]\n",
    "                                        )\n",
    "    month_week_test = create_data_dict(TEST_START, \n",
    "                                        TEST_END, \n",
    "                                        month_week_df, \n",
    "                                        case_lookback=time_lookback,\n",
    "                                        env_list=env_feat,\n",
    "                                        specific_env=specific_env,\n",
    "                                        #specific_cases=spec_cases,\n",
    "                                        #env_list=['temporal_sdm_both'], \n",
    "                                        #env_lookback=24, \n",
    "                                        additional_features=adtl_feat + cat_feat + weak_feat\n",
    "                                        )\n",
    "    month_week_train = (\n",
    "        month_week_train\n",
    "        .with_columns(pl.col('target').sum().over('muni_id').alias('muni_sum'))\n",
    "    )\n",
    "\n",
    "    skip_munis = month_week_train.filter(\n",
    "        pl.col('muni_sum') == 0).select('muni_id').unique().to_series()\n",
    "    month_week_train = month_week_train.filter(\n",
    "        pl.col('muni_sum') != 0).select(pl.exclude('muni_sum'))\n",
    "\n",
    "    month_week_test = month_week_test.filter(~pl.col('muni_id').is_in(skip_munis))\n",
    "\n",
    "    all_features_train = get_features_for_muni(\n",
    "        month_week_train, make_relative_ternary, check_zeros=False, cat_vars=cat_feat)\n",
    "    all_features_test = get_features_for_muni(month_week_test, partial(\n",
    "        make_relative_ternary, expectations=all_features_train['expectations']), check_zeros=False, cat_vars=cat_feat)\n",
    "\n",
    "    ct = make_column_transformer(\n",
    "                (OrdinalEncoder(), make_column_selector(dtype_include='category')),\n",
    "                (RobustScaler(), make_column_selector(dtype_exclude='category')),\n",
    "                #(PCA(n_components=16), make_column_selector(dtype_exclude='category')),\n",
    "            remainder='passthrough', \n",
    "            verbose_feature_names_out=False)\n",
    "\n",
    "    clf = HistGradientBoostingClassifier(\n",
    "        random_state=42,\n",
    "        early_stopping=True,\n",
    "        #scoring='balanced_accuracy',\n",
    "        class_weight='balanced',\n",
    "        categorical_features=cat_feat,\n",
    "        # l2_regularization=0.8,\n",
    "        # learning_rate=0.02,\n",
    "        # max_leaf_nodes=16,\n",
    "        # min_samples_leaf=50,\n",
    "        max_iter=5000\n",
    "        )\n",
    "\n",
    "    month_week_pipeline = make_pipeline(ct, clf).set_output(transform='pandas')\n",
    "    month_week_pipeline.fit(all_features_train['X'], all_features_train['y'])\n",
    "    predictions = month_week_pipeline.predict(all_features_test['X'])\n",
    "    results.append(classification_report(all_features_test['y'],predictions))\n",
    "    print(e_v)\n",
    "    print(classification_report(all_features_test['y'],predictions))\n",
    "    ConfusionMatrixDisplay.from_predictions(all_features_test['y'],predictions)"
   ]
  },
  {
   "cell_type": "code",
   "execution_count": 107,
   "metadata": {},
   "outputs": [
    {
     "data": {
      "text/html": [
       "<div><style>\n",
       ".dataframe > thead > tr > th,\n",
       ".dataframe > tbody > tr > td {\n",
       "  text-align: right;\n",
       "  white-space: pre-wrap;\n",
       "}\n",
       "</style>\n",
       "<small>shape: (837_408, 30)</small><table border=\"1\" class=\"dataframe\"><thead><tr><th>muni_id</th><th>start_date</th><th>target</th><th>density</th><th>month</th><th>1_shifted_cases</th><th>2_shifted_cases</th><th>3_shifted_cases</th><th>4_shifted_cases</th><th>5_shifted_cases</th><th>6_shifted_cases</th><th>7_shifted_cases</th><th>8_shifted_cases</th><th>9_shifted_cases</th><th>10_shifted_cases</th><th>11_shifted_cases</th><th>12_shifted_cases</th><th>13_shifted_cases</th><th>14_shifted_cases</th><th>15_shifted_cases</th><th>16_shifted_cases</th><th>17_shifted_cases</th><th>18_shifted_cases</th><th>19_shifted_cases</th><th>20_shifted_cases</th><th>21_shifted_cases</th><th>22_shifted_cases</th><th>23_shifted_cases</th><th>24_shifted_cases</th><th>0_shifted_temporal_sdm_albopictus</th></tr><tr><td>i64</td><td>date</td><td>f64</td><td>f64</td><td>u32</td><td>f64</td><td>f64</td><td>f64</td><td>f64</td><td>f64</td><td>f64</td><td>f64</td><td>f64</td><td>f64</td><td>f64</td><td>f64</td><td>f64</td><td>f64</td><td>f64</td><td>f64</td><td>f64</td><td>f64</td><td>f64</td><td>f64</td><td>f64</td><td>f64</td><td>f64</td><td>f64</td><td>f64</td><td>f64</td></tr></thead><tbody><tr><td>261090</td><td>2005-01-01</td><td>8.653064</td><td>58.909587</td><td>2</td><td>34.618847</td><td>3.461885</td><td>1.730942</td><td>3.461885</td><td>8.654712</td><td>8.654712</td><td>3.461885</td><td>6.923769</td><td>13.847539</td><td>32.887904</td><td>39.811673</td><td>17.309423</td><td>25.973576</td><td>0.0</td><td>10.38943</td><td>15.584146</td><td>67.531298</td><td>121.210022</td><td>199.130751</td><td>618.171114</td><td>841.543869</td><td>410.382504</td><td>96.968018</td><td>1.731572</td><td>0.156078</td></tr><tr><td>261160</td><td>2005-01-01</td><td>6.595568</td><td>6858.834872</td><td>2</td><td>8.474183</td><td>7.263585</td><td>6.725542</td><td>7.532607</td><td>11.836954</td><td>8.272417</td><td>5.851222</td><td>4.169836</td><td>5.514944</td><td>7.465352</td><td>7.801629</td><td>3.900814</td><td>4.105877</td><td>2.942545</td><td>3.626858</td><td>4.037446</td><td>4.721758</td><td>7.664304</td><td>7.595872</td><td>14.439</td><td>39.00583</td><td>23.061342</td><td>13.686256</td><td>10.401555</td><td>0.017817</td></tr><tr><td>330250</td><td>2005-01-01</td><td>2.583412</td><td>594.334336</td><td>2</td><td>3.516994</td><td>5.715115</td><td>1.758497</td><td>0.879248</td><td>0.0</td><td>0.0</td><td>0.439624</td><td>0.439624</td><td>2.198121</td><td>3.077369</td><td>3.077369</td><td>7.033987</td><td>9.596885</td><td>4.569945</td><td>5.483934</td><td>0.913989</td><td>0.0</td><td>2.741967</td><td>3.198962</td><td>8.682896</td><td>16.451803</td><td>14.623825</td><td>23.306721</td><td>7.311912</td><td>0.574829</td></tr><tr><td>312770</td><td>2005-01-01</td><td>8.542528</td><td>109.948449</td><td>2</td><td>5.867374</td><td>6.258532</td><td>3.520424</td><td>1.173475</td><td>0.391158</td><td>2.738108</td><td>7.040849</td><td>21.513704</td><td>183.062065</td><td>592.99592</td><td>268.725724</td><td>111.088945</td><td>29.732762</td><td>9.514484</td><td>5.550116</td><td>2.775058</td><td>1.18931</td><td>2.378621</td><td>11.100231</td><td>14.668163</td><td>24.579083</td><td>32.111383</td><td>37.661498</td><td>24.97552</td><td>0.024992</td></tr><tr><td>171610</td><td>2005-01-01</td><td>14.50116</td><td>32.018151</td><td>2</td><td>12.545163</td><td>27.599358</td><td>5.018065</td><td>0.0</td><td>5.018065</td><td>5.018065</td><td>25.090325</td><td>17.563228</td><td>30.10839</td><td>35.126455</td><td>97.852268</td><td>65.234845</td><td>80.082666</td><td>41.332989</td><td>18.083183</td><td>7.749935</td><td>7.749935</td><td>7.749935</td><td>25.833118</td><td>59.416172</td><td>72.332731</td><td>116.249031</td><td>33.583053</td><td>2.583312</td><td>0.064147</td></tr><tr><td>170210</td><td>2005-01-01</td><td>254.859984</td><td>31.843264</td><td>2</td><td>108.631326</td><td>89.174969</td><td>47.830211</td><td>20.267038</td><td>28.373854</td><td>38.102032</td><td>51.072937</td><td>99.713829</td><td>147.54404</td><td>130.519728</td><td>118.359505</td><td>102.956556</td><td>66.548543</td><td>48.247694</td><td>37.433555</td><td>7.486711</td><td>21.628276</td><td>29.114988</td><td>29.946844</td><td>84.017536</td><td>75.698968</td><td>109.805096</td><td>161.380217</td><td>127.274088</td><td>0.042159</td></tr><tr><td>354890</td><td>2005-01-01</td><td>4.655797</td><td>188.921345</td><td>2</td><td>0.948582</td><td>1.897164</td><td>2.845746</td><td>2.371455</td><td>0.948582</td><td>0.474291</td><td>0.474291</td><td>2.371455</td><td>2.845746</td><td>4.268619</td><td>7.114366</td><td>5.217202</td><td>2.454458</td><td>1.963566</td><td>3.436241</td><td>0.981783</td><td>2.945349</td><td>3.927132</td><td>3.436241</td><td>4.908915</td><td>9.81783</td><td>9.326939</td><td>15.708528</td><td>9.326939</td><td>0.936672</td></tr><tr><td>350320</td><td>2005-01-01</td><td>1.522541</td><td>196.327313</td><td>2</td><td>3.600805</td><td>1.028801</td><td>1.543202</td><td>0.0</td><td>3.086404</td><td>3.600805</td><td>0.514401</td><td>1.028801</td><td>2.057603</td><td>4.629606</td><td>4.115205</td><td>2.572003</td><td>2.109326</td><td>1.581995</td><td>1.581995</td><td>1.581995</td><td>1.054663</td><td>0.0</td><td>1.054663</td><td>4.745984</td><td>4.745984</td><td>8.964637</td><td>8.964637</td><td>4.745984</td><td>0.870379</td></tr><tr><td>350280</td><td>2005-01-01</td><td>8.902886</td><td>153.982518</td><td>2</td><td>7.872997</td><td>6.185926</td><td>5.061213</td><td>3.936499</td><td>5.061213</td><td>5.061213</td><td>7.872997</td><td>11.809496</td><td>24.743706</td><td>19.120136</td><td>15.183638</td><td>16.870709</td><td>12.614751</td><td>9.747762</td><td>6.307376</td><td>4.587182</td><td>18.922127</td><td>32.683674</td><td>67.660938</td><td>230.505909</td><td>285.552096</td><td>969.042254</td><td>489.681707</td><td>120.986932</td><td>0.114143</td></tr><tr><td>230550</td><td>2005-01-01</td><td>17.417999</td><td>92.580386</td><td>2</td><td>0.0</td><td>4.408782</td><td>0.0</td><td>0.0</td><td>3.306587</td><td>4.408782</td><td>20.941716</td><td>20.941716</td><td>40.781236</td><td>110.219557</td><td>124.5481</td><td>104.708579</td><td>153.351751</td><td>225.51728</td><td>57.506906</td><td>50.741388</td><td>25.934487</td><td>93.589671</td><td>87.951739</td><td>48.486215</td><td>45.103456</td><td>19.168969</td><td>30.444833</td><td>5.637932</td><td>0.097581</td></tr><tr><td>530010</td><td>2005-01-01</td><td>2.785983</td><td>404.998347</td><td>2</td><td>1.226968</td><td>1.051686</td><td>1.095507</td><td>1.139327</td><td>1.095507</td><td>1.402249</td><td>2.366295</td><td>4.162926</td><td>4.688769</td><td>12.795518</td><td>6.835962</td><td>4.644948</td><td>5.525647</td><td>2.054993</td><td>1.552661</td><td>1.506995</td><td>2.374658</td><td>4.931982</td><td>5.251648</td><td>8.676635</td><td>13.425951</td><td>19.499596</td><td>23.244249</td><td>14.247948</td><td>0.884184</td></tr><tr><td>240810</td><td>2005-01-01</td><td>8.225798</td><td>4647.761961</td><td>2</td><td>5.090845</td><td>2.741224</td><td>1.17481</td><td>4.568707</td><td>11.61757</td><td>14.358795</td><td>12.400777</td><td>16.186278</td><td>16.055743</td><td>20.232847</td><td>18.27483</td><td>13.575588</td><td>7.250327</td><td>9.532837</td><td>9.398572</td><td>11.278286</td><td>21.48245</td><td>85.392739</td><td>360.233836</td><td>471.00272</td><td>286.656445</td><td>139.904457</td><td>129.834558</td><td>72.369004</td><td>0.340339</td></tr><tr><td>&hellip;</td><td>&hellip;</td><td>&hellip;</td><td>&hellip;</td><td>&hellip;</td><td>&hellip;</td><td>&hellip;</td><td>&hellip;</td><td>&hellip;</td><td>&hellip;</td><td>&hellip;</td><td>&hellip;</td><td>&hellip;</td><td>&hellip;</td><td>&hellip;</td><td>&hellip;</td><td>&hellip;</td><td>&hellip;</td><td>&hellip;</td><td>&hellip;</td><td>&hellip;</td><td>&hellip;</td><td>&hellip;</td><td>&hellip;</td><td>&hellip;</td><td>&hellip;</td><td>&hellip;</td><td>&hellip;</td><td>&hellip;</td><td>&hellip;</td></tr><tr><td>293300</td><td>2017-12-01</td><td>0.0</td><td>72.789755</td><td>1</td><td>0.0</td><td>0.0</td><td>3.479108</td><td>0.0</td><td>0.0</td><td>0.0</td><td>13.916432</td><td>20.874648</td><td>0.0</td><td>10.437324</td><td>0.0</td><td>0.0</td><td>3.517906</td><td>7.035812</td><td>3.517906</td><td>7.035812</td><td>7.035812</td><td>0.0</td><td>0.0</td><td>14.071625</td><td>56.286498</td><td>28.143249</td><td>17.589531</td><td>28.66767</td><td>0.048399</td></tr><tr><td>292210</td><td>2017-12-01</td><td>0.0</td><td>18.340606</td><td>1</td><td>0.0</td><td>7.308873</td><td>0.0</td><td>0.0</td><td>0.0</td><td>0.0</td><td>14.617746</td><td>10.963309</td><td>164.449642</td><td>25.581055</td><td>3.654436</td><td>0.0</td><td>0.0</td><td>0.0</td><td>0.0</td><td>0.0</td><td>0.0</td><td>0.0</td><td>0.0</td><td>25.768452</td><td>147.248297</td><td>40.493282</td><td>7.362415</td><td>0.0</td><td>0.843551</td></tr><tr><td>221140</td><td>2017-12-01</td><td>0.0</td><td>18.291161</td><td>1</td><td>0.0</td><td>0.0</td><td>0.0</td><td>0.0</td><td>0.0</td><td>0.0</td><td>69.364162</td><td>0.0</td><td>0.0</td><td>23.121387</td><td>0.0</td><td>0.0</td><td>0.0</td><td>0.0</td><td>0.0</td><td>23.100023</td><td>0.0</td><td>0.0</td><td>0.0</td><td>0.0</td><td>0.0</td><td>0.0</td><td>0.0</td><td>0.0</td><td>0.070245</td></tr><tr><td>430367</td><td>2017-12-01</td><td>0.0</td><td>6.332784</td><td>1</td><td>0.0</td><td>0.0</td><td>0.0</td><td>0.0</td><td>0.0</td><td>0.0</td><td>0.0</td><td>0.0</td><td>0.0</td><td>0.0</td><td>0.0</td><td>0.0</td><td>0.0</td><td>0.0</td><td>0.0</td><td>0.0</td><td>0.0</td><td>0.0</td><td>0.0</td><td>0.0</td><td>0.0</td><td>0.0</td><td>0.0</td><td>0.0</td><td>0.285484</td></tr><tr><td>317060</td><td>2017-12-01</td><td>0.0</td><td>5.389277</td><td>1</td><td>0.0</td><td>0.0</td><td>0.0</td><td>0.0</td><td>0.0</td><td>0.0</td><td>0.0</td><td>0.0</td><td>0.0</td><td>0.0</td><td>0.0</td><td>0.0</td><td>0.0</td><td>0.0</td><td>0.0</td><td>0.0</td><td>0.0</td><td>0.0</td><td>0.0</td><td>45.228403</td><td>45.228403</td><td>0.0</td><td>0.0</td><td>0.0</td><td>0.650975</td></tr><tr><td>240400</td><td>2017-12-01</td><td>0.0</td><td>66.05667</td><td>1</td><td>0.0</td><td>0.0</td><td>0.0</td><td>0.0</td><td>0.0</td><td>0.0</td><td>0.0</td><td>0.0</td><td>0.0</td><td>0.0</td><td>0.0</td><td>0.0</td><td>0.0</td><td>0.0</td><td>0.0</td><td>0.0</td><td>0.0</td><td>0.0</td><td>23.78687</td><td>380.589914</td><td>999.048525</td><td>0.0</td><td>0.0</td><td>0.0</td><td>0.099307</td></tr><tr><td>430905</td><td>2017-12-01</td><td>0.0</td><td>23.626738</td><td>1</td><td>0.0</td><td>0.0</td><td>0.0</td><td>0.0</td><td>0.0</td><td>0.0</td><td>0.0</td><td>0.0</td><td>0.0</td><td>0.0</td><td>0.0</td><td>0.0</td><td>0.0</td><td>0.0</td><td>0.0</td><td>0.0</td><td>0.0</td><td>0.0</td><td>0.0</td><td>0.0</td><td>0.0</td><td>13.178703</td><td>0.0</td><td>0.0</td><td>0.52797</td></tr><tr><td>230280</td><td>2017-12-01</td><td>0.0</td><td>25.562015</td><td>1</td><td>0.0</td><td>0.0</td><td>0.0</td><td>2.580179</td><td>2.580179</td><td>11.610806</td><td>24.511701</td><td>58.054029</td><td>36.122507</td><td>38.702686</td><td>3.870269</td><td>2.588628</td><td>15.531769</td><td>14.237455</td><td>9.060199</td><td>23.297653</td><td>77.658845</td><td>363.702256</td><td>89.307671</td><td>34.94648</td><td>36.240794</td><td>66.010018</td><td>6.47157</td><td>1.298735</td><td>0.032617</td></tr><tr><td>260950</td><td>2017-12-01</td><td>0.0</td><td>247.219925</td><td>1</td><td>3.097893</td><td>0.0</td><td>0.0</td><td>0.0</td><td>0.0</td><td>0.0</td><td>6.195787</td><td>0.0</td><td>6.195787</td><td>0.0</td><td>0.0</td><td>0.0</td><td>0.0</td><td>0.0</td><td>0.0</td><td>0.0</td><td>3.1081</td><td>0.0</td><td>0.0</td><td>9.324299</td><td>46.621496</td><td>158.513085</td><td>456.890657</td><td>907.55988</td><td>0.340339</td></tr><tr><td>251360</td><td>2017-12-01</td><td>0.0</td><td>19.431012</td><td>1</td><td>0.0</td><td>0.0</td><td>0.0</td><td>0.0</td><td>0.0</td><td>0.0</td><td>0.0</td><td>0.0</td><td>0.0</td><td>0.0</td><td>0.0</td><td>0.0</td><td>0.0</td><td>0.0</td><td>0.0</td><td>0.0</td><td>0.0</td><td>0.0</td><td>0.0</td><td>14.150276</td><td>127.352483</td><td>70.75138</td><td>0.0</td><td>0.0</td><td>0.080753</td></tr><tr><td>311810</td><td>2017-12-01</td><td>0.0</td><td>12.655576</td><td>1</td><td>0.0</td><td>0.0</td><td>0.0</td><td>0.0</td><td>0.0</td><td>0.0</td><td>0.0</td><td>0.0</td><td>0.0</td><td>0.0</td><td>0.0</td><td>0.0</td><td>0.0</td><td>0.0</td><td>0.0</td><td>0.0</td><td>0.0</td><td>0.0</td><td>19.50078</td><td>19.50078</td><td>0.0</td><td>19.50078</td><td>0.0</td><td>0.0</td><td>0.077319</td></tr><tr><td>312930</td><td>2017-12-01</td><td>0.0</td><td>32.147193</td><td>1</td><td>0.0</td><td>0.0</td><td>0.0</td><td>0.0</td><td>0.0</td><td>0.0</td><td>0.0</td><td>0.0</td><td>0.0</td><td>0.0</td><td>0.0</td><td>0.0</td><td>0.0</td><td>0.0</td><td>0.0</td><td>0.0</td><td>0.0</td><td>0.0</td><td>0.0</td><td>0.0</td><td>18.320051</td><td>100.760282</td><td>18.320051</td><td>0.0</td><td>0.17041</td></tr></tbody></table></div>"
      ],
      "text/plain": [
       "shape: (837_408, 30)\n",
       "┌─────────┬────────────┬──────────┬────────────┬───┬───────────┬───────────┬───────────┬───────────┐\n",
       "│ muni_id ┆ start_date ┆ target   ┆ density    ┆ … ┆ 22_shifte ┆ 23_shifte ┆ 24_shifte ┆ 0_shifted │\n",
       "│ ---     ┆ ---        ┆ ---      ┆ ---        ┆   ┆ d_cases   ┆ d_cases   ┆ d_cases   ┆ _temporal │\n",
       "│ i64     ┆ date       ┆ f64      ┆ f64        ┆   ┆ ---       ┆ ---       ┆ ---       ┆ _sdm_albo │\n",
       "│         ┆            ┆          ┆            ┆   ┆ f64       ┆ f64       ┆ f64       ┆ pictu…    │\n",
       "│         ┆            ┆          ┆            ┆   ┆           ┆           ┆           ┆ ---       │\n",
       "│         ┆            ┆          ┆            ┆   ┆           ┆           ┆           ┆ f64       │\n",
       "╞═════════╪════════════╪══════════╪════════════╪═══╪═══════════╪═══════════╪═══════════╪═══════════╡\n",
       "│ 261090  ┆ 2005-01-01 ┆ 8.653064 ┆ 58.909587  ┆ … ┆ 410.38250 ┆ 96.968018 ┆ 1.731572  ┆ 0.156078  │\n",
       "│         ┆            ┆          ┆            ┆   ┆ 4         ┆           ┆           ┆           │\n",
       "│ 261160  ┆ 2005-01-01 ┆ 6.595568 ┆ 6858.83487 ┆ … ┆ 23.061342 ┆ 13.686256 ┆ 10.401555 ┆ 0.017817  │\n",
       "│         ┆            ┆          ┆ 2          ┆   ┆           ┆           ┆           ┆           │\n",
       "│ 330250  ┆ 2005-01-01 ┆ 2.583412 ┆ 594.334336 ┆ … ┆ 14.623825 ┆ 23.306721 ┆ 7.311912  ┆ 0.574829  │\n",
       "│ 312770  ┆ 2005-01-01 ┆ 8.542528 ┆ 109.948449 ┆ … ┆ 32.111383 ┆ 37.661498 ┆ 24.97552  ┆ 0.024992  │\n",
       "│ …       ┆ …          ┆ …        ┆ …          ┆ … ┆ …         ┆ …         ┆ …         ┆ …         │\n",
       "│ 260950  ┆ 2017-12-01 ┆ 0.0      ┆ 247.219925 ┆ … ┆ 158.51308 ┆ 456.89065 ┆ 907.55988 ┆ 0.340339  │\n",
       "│         ┆            ┆          ┆            ┆   ┆ 5         ┆ 7         ┆           ┆           │\n",
       "│ 251360  ┆ 2017-12-01 ┆ 0.0      ┆ 19.431012  ┆ … ┆ 70.75138  ┆ 0.0       ┆ 0.0       ┆ 0.080753  │\n",
       "│ 311810  ┆ 2017-12-01 ┆ 0.0      ┆ 12.655576  ┆ … ┆ 19.50078  ┆ 0.0       ┆ 0.0       ┆ 0.077319  │\n",
       "│ 312930  ┆ 2017-12-01 ┆ 0.0      ┆ 32.147193  ┆ … ┆ 100.76028 ┆ 18.320051 ┆ 0.0       ┆ 0.17041   │\n",
       "│         ┆            ┆          ┆            ┆   ┆ 2         ┆           ┆           ┆           │\n",
       "└─────────┴────────────┴──────────┴────────────┴───┴───────────┴───────────┴───────────┴───────────┘"
      ]
     },
     "execution_count": 107,
     "metadata": {},
     "output_type": "execute_result"
    }
   ],
   "source": [
    "\n",
    "month_week_train"
   ]
  },
  {
   "cell_type": "code",
   "execution_count": 73,
   "metadata": {},
   "outputs": [
    {
     "data": {
      "text/html": [
       "<div><style>\n",
       ".dataframe > thead > tr > th,\n",
       ".dataframe > tbody > tr > td {\n",
       "  text-align: right;\n",
       "  white-space: pre-wrap;\n",
       "}\n",
       "</style>\n",
       "<small>shape: (1_331_230, 1)</small><table border=\"1\" class=\"dataframe\"><thead><tr><th>muni_id</th></tr><tr><td>i64</td></tr></thead><tbody><tr><td>261090</td></tr><tr><td>261160</td></tr><tr><td>221140</td></tr><tr><td>330250</td></tr><tr><td>312770</td></tr><tr><td>313580</td></tr><tr><td>171610</td></tr><tr><td>170210</td></tr><tr><td>170755</td></tr><tr><td>354890</td></tr><tr><td>350320</td></tr><tr><td>350280</td></tr><tr><td>&hellip;</td></tr><tr><td>160055</td></tr><tr><td>292210</td></tr><tr><td>221140</td></tr><tr><td>430367</td></tr><tr><td>220240</td></tr><tr><td>317060</td></tr><tr><td>240400</td></tr><tr><td>211080</td></tr><tr><td>430905</td></tr><tr><td>251360</td></tr><tr><td>311810</td></tr><tr><td>312930</td></tr></tbody></table></div>"
      ],
      "text/plain": [
       "shape: (1_331_230, 1)\n",
       "┌─────────┐\n",
       "│ muni_id │\n",
       "│ ---     │\n",
       "│ i64     │\n",
       "╞═════════╡\n",
       "│ 261090  │\n",
       "│ 261160  │\n",
       "│ 221140  │\n",
       "│ 330250  │\n",
       "│ …       │\n",
       "│ 430905  │\n",
       "│ 251360  │\n",
       "│ 311810  │\n",
       "│ 312930  │\n",
       "└─────────┘"
      ]
     },
     "execution_count": 73,
     "metadata": {},
     "output_type": "execute_result"
    }
   ],
   "source": [
    "ALL_DATA.select('muni_id')"
   ]
  },
  {
   "cell_type": "code",
   "execution_count": 86,
   "metadata": {},
   "outputs": [
    {
     "data": {
      "image/png": "[encoded data removed]",
      "text/plain": [
       "<Figure size 640x480 with 1 Axes>"
      ]
     },
     "execution_count": 86,
     "metadata": {},
     "output_type": "execute_result"
    },
    {
     "data": {
      "image/png": "[encoded data removed]",
      "text/plain": [
       "<Figure size 640x480 with 1 Axes>"
      ]
     },
     "metadata": {},
     "output_type": "display_data"
    }
   ],
   "source": [
    "from statsmodels.graphics.tsaplots import plot_acf\n",
    "\n",
    "to_plot = ALL_DATA.filter(pl.col('muni_id')==170210).select('cases_per_100k')\n",
    "\n",
    "plot_acf(to_plot)"
   ]
  },
  {
   "cell_type": "code",
   "execution_count": 105,
   "metadata": {},
   "outputs": [
    {
     "data": {
      "text/plain": [
       "['muni_id',\n",
       " 'temporal_sdm_both',\n",
       " 'start_date',\n",
       " 'end_date',\n",
       " 'temporal_sdm_albopictus',\n",
       " 'start_date_temporal_sdm_albopictus',\n",
       " 'temporal_sdm_aegypti',\n",
       " 'start_date_temporal_sdm_aegypti',\n",
       " 'EVI',\n",
       " 'start_date_EVI',\n",
       " 'total_evaporation_sum',\n",
       " 'start_date_total_evaporation_sum',\n",
       " 'total_precipitation_sum',\n",
       " 'start_date_total_precipitation_sum',\n",
       " 'evaporation_from_open_water_surfaces_excluding_oceans_min',\n",
       " 'start_date_evaporation_from_open_water_surfaces_excluding_oceans_min',\n",
       " 'soil_temperature_level_1',\n",
       " 'start_date_soil_temperature_level_1',\n",
       " 'runoff_sum',\n",
       " 'start_date_runoff_sum',\n",
       " 'surface_runoff_min',\n",
       " 'start_date_surface_runoff_min',\n",
       " 'volumetric_soil_water_layer_1',\n",
       " 'start_date_volumetric_soil_water_layer_1',\n",
       " 'dewpoint_temperature_2m',\n",
       " 'start_date_dewpoint_temperature_2m',\n",
       " 'temperature_2m',\n",
       " 'start_date_temperature_2m',\n",
       " 'total_precipitation_min',\n",
       " 'start_date_total_precipitation_min']"
      ]
     },
     "execution_count": 105,
     "metadata": {},
     "output_type": "execute_result"
    }
   ],
   "source": [
    "monthly_params.columns"
   ]
  }
 ],
 "metadata": {
  "kernelspec": {
   "display_name": "new_dengue",
   "language": "python",
   "name": "python3"
  },
  "language_info": {
   "codemirror_mode": {
    "name": "ipython",
    "version": 3
   },
   "file_extension": ".py",
   "mimetype": "text/x-python",
   "name": "python",
   "nbconvert_exporter": "python",
   "pygments_lexer": "ipython3",
   "version": "3.11.5"
  }
 },
 "nbformat": 4,
 "nbformat_minor": 2
}
