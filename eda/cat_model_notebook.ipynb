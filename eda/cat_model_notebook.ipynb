{
 "cells": [
  {
   "cell_type": "code",
   "execution_count": 30,
   "metadata": {},
   "outputs": [],
   "source": [
    "import polars as pl\n",
    "from sklearn.ensemble import HistGradientBoostingClassifier\n",
    "from sklearn.preprocessing import MinMaxScaler, OneHotEncoder\n",
    "from datetime import datetime\n",
    "import numpy as np\n",
    "from dateutil.relativedelta import relativedelta\n",
    "from tqdm import tqdm\n",
    "from sklearn.decomposition import PCA\n",
    "import dill as pickle\n",
    "import os\n",
    "from sklearn.compose import ColumnTransformer\n",
    "from sklearn.pipeline import Pipeline\n",
    "from sklearn.preprocessing import MinMaxScaler, StandardScaler, RobustScaler, SplineTransformer, KernelCenterer, PolynomialFeatures, PowerTransformer, QuantileTransformer, Normalizer\n",
    "from itertools import chain\n",
    "import math\n",
    "from functools import partial\n",
    "from sklearn.metrics import classification_report, confusion_matrix\n",
    "from sklearn.metrics import ConfusionMatrixDisplay"
   ]
  },
  {
   "cell_type": "code",
   "execution_count": 65,
   "metadata": {},
   "outputs": [],
   "source": [
    "monthly_cases = pl.read_parquet('/home/tony/dengue/dengue_models/data/cases/agged/dengue_per_month.parquet')\n",
    "monthly_params = pl.read_parquet('/home/tony/dengue/dengue_models/data/gee_exports/all_parameters_2001-01-01_2021-01-01_months.parquet')\n",
    "\n",
    "monthly_params = monthly_params.with_columns((pl.col('start_date').str.to_date('%Y-%m-%d'),pl.col('end_date').str.to_date('%Y-%m-%d')))\n",
    "monthly_cases = monthly_cases.with_columns(pl.col('ID_MUNICIP').str.slice(offset=0,length=6).cast(pl.Int64)).sort('DT_NOTIFIC').rename({\n",
    "'DT_NOTIFIC': 'start_date',\n",
    "'ID_MUNICIP': 'muni_id'\n",
    "})\n",
    "\n",
    "ALL_DATA = monthly_cases.join(monthly_params, how='left', on=['muni_id', 'start_date']).with_columns(pl.col('end_date').alias('month').dt.month())\n",
    "TRAIN_START = '2005-01-01'\n",
    "TRAIN_END = '2018-01-01'\n",
    "\n",
    "TEST_START = '2018-01-01'\n",
    "TEST_END = '2020-01-01'\n",
    "\n",
    "EL = 12\n",
    "LC = 24\n",
    "binary_error = [np.array([-999.0, -999.0])]\n",
    "ternary_error = [np.array([-999.0, -999.0, -999.0])]\n",
    "SAVE_DIR = '/home/tony/dengue/dengue_models/results/'\n",
    "SAVE_PREFIX = 'relative_binary_global'\n",
    "CAT_STYLE = 'relative_binary_global'\n",
    "CAT_FN = make_relative_ternary\n",
    "ERROR_ARR = binary_error"
   ]
  },
  {
   "cell_type": "code",
   "execution_count": 5,
   "metadata": {},
   "outputs": [],
   "source": [
    "\n",
    "def create_data_dict(start_date, \n",
    "                    end_date, \n",
    "                    all_data: pl.DataFrame, \n",
    "                    target_var = 'cases_per_100k',\n",
    "                    case_lookback=24,\n",
    "                    case_lag=1,\n",
    "                    env_lag=0, \n",
    "                    env_lookback = 12,\n",
    "                    env_list = [\n",
    "                    'total_precipitation_sum', \n",
    "                    'temperature_2m', \n",
    "                    ],\n",
    "                    additional_features = ['month', 'pop'],\n",
    "                    return_dict = True\n",
    "                    ):\n",
    "    to_return = (\n",
    "        all_data\n",
    "        #.with_columns(pl.col('muni_id').alias('muni_cat'))\n",
    "        .select(['muni_id', 'start_date', target_var] + env_list + additional_features)\n",
    "        .filter((pl.col('start_date')>=datetime.fromisoformat(start_date)-relativedelta(years=math.ceil(case_lookback/12))) & (pl.col('start_date')<datetime.fromisoformat(end_date)))\n",
    "        .with_columns(\n",
    "            list(\n",
    "                chain.from_iterable(\n",
    "                    [\n",
    "                        [pl.col(target_var).shift(i).over('muni_id').alias(f'{i}_shifted_cases')] for i in range(case_lag,case_lookback+case_lag)\n",
    "                    ]\n",
    "                    +\n",
    "                    \n",
    "                    [\n",
    "                        [pl.col(e_var).shift(i).over('muni_id').alias(f'{i}_shifted_{e_var}') for i in range(env_lag,env_lookback+env_lag)] \n",
    "                            for e_var in env_list\n",
    "                    ]\n",
    "                    )\n",
    "                )\n",
    "        )\n",
    "        .drop_nulls()\n",
    "        .select(pl.exclude(env_list))\n",
    "        .rename({target_var: 'target'})\n",
    "    )\n",
    "\n",
    "    return to_return if not return_dict else to_return.partition_by('muni_id', as_dict=True)"
   ]
  },
  {
   "cell_type": "code",
   "execution_count": 6,
   "metadata": {},
   "outputs": [],
   "source": [
    "def get_features_for_muni(df, cat_fn=None, check_zeros=False):\n",
    "    if check_zeros:\n",
    "        if df.select(pl.col('target')).to_series().sum() == 0:\n",
    "            return None\n",
    "    selected = df if cat_fn is None else cat_fn(df)\n",
    "    expectations = None\n",
    "    #Some cat_fns return a tuple including expectations for category breaks based on historical data. If so, we want to pass these from training to testing data.\n",
    "    if isinstance(selected, tuple):\n",
    "        selected, expectations = selected\n",
    "    target_key = 'target' if cat_fn is None else 'cat_target'\n",
    "    target = selected.select(pl.col(target_key)).to_series().to_numpy().astype(float) \n",
    "\n",
    "    features = selected.select(pl.exclude(['muni_id', 'start_date', 'target', 'count', 'cat_target'])).to_numpy()\n",
    "    dates = selected.select(pl.col('start_date')).to_series()\n",
    "    muni_id = selected.select(pl.col('muni_id').first()).item()\n",
    "\n",
    "    return {'X': features,\n",
    "            'y': target,\n",
    "            'dates': dates,\n",
    "            'muni_id': muni_id,\n",
    "            'expectations': expectations}"
   ]
  },
  {
   "cell_type": "code",
   "execution_count": 7,
   "metadata": {},
   "outputs": [],
   "source": [
    "def handle_zero_case(muni_id):\n",
    "    return pl.DataFrame({\n",
    "        'predictions': [-999.0],\n",
    "        'ground_truth': [-999.0],\n",
    "        'date': [datetime.fromisoformat('1900-01-01')],\n",
    "        'muni_id': [muni_id],\n",
    "        'cat_style': ['NA'],\n",
    "        'error': ['Only zeros in training data'],\n",
    "        'probabilities': ERROR_ARR\n",
    "    }).cast({'date':pl.Date})"
   ]
  },
  {
   "cell_type": "code",
   "execution_count": 9,
   "metadata": {},
   "outputs": [],
   "source": [
    "\n",
    "def write_results(df: pl.DataFrame, save_dir, save_prefix, muni_id):\n",
    "    #muni_id = df.select('muni_id').head(n=1).item()\n",
    "    df.write_csv(os.path.join(save_dir, f'{muni_id}_{save_prefix}.csv'))"
   ]
  },
  {
   "cell_type": "code",
   "execution_count": 10,
   "metadata": {},
   "outputs": [],
   "source": [
    "def make_simple_binary(df:pl.DataFrame):\n",
    "    return df.with_columns(pl.col('target').cut([300], labels=['0','1']).alias('cat_target'))"
   ]
  },
  {
   "cell_type": "code",
   "execution_count": 11,
   "metadata": {},
   "outputs": [],
   "source": [
    "\n",
    "def make_simple_ternary(df:pl.DataFrame):\n",
    "    return df.with_columns(pl.col('target').cut([100,300], labels=['0','1', '2']).alias('cat_target'))"
   ]
  },
  {
   "cell_type": "code",
   "execution_count": 12,
   "metadata": {},
   "outputs": [],
   "source": [
    "\n",
    "def make_relative_binary(df:pl.DataFrame, expectations=None):\n",
    "    if expectations is None:\n",
    "        #We can do this all as one statement with polars ofc but want to save training expectations so they can be applied to test data\n",
    "        expectations = df.with_columns(pl.col('target').mean().over(['muni_id','month']).alias('expected')).group_by(['muni_id', 'month']).agg(pl.col('expected').first()).sort('month')\n",
    "\n",
    "    return (\n",
    "            (\n",
    "                df\n",
    "                .join(expectations, on=['muni_id', 'month'])\n",
    "                .with_columns(\n",
    "                    pl.when(pl.col('target')>pl.col('expected'))\n",
    "                    .then(pl.lit('1'))\n",
    "                    .otherwise(pl.lit('0'))\n",
    "                    .alias('cat_target')\n",
    "                    )\n",
    "                .select(pl.exclude('expected'))\n",
    "            ),\n",
    "            expectations\n",
    "    )"
   ]
  },
  {
   "cell_type": "code",
   "execution_count": 13,
   "metadata": {},
   "outputs": [],
   "source": [
    "\n",
    "\n",
    "def make_relative_ternary(df:pl.DataFrame, expectations=None):\n",
    "    if expectations is None:\n",
    "        #We can do this all as one statement with polars ofc but want to save training expectations so they can be applied to test data\n",
    "        expectations = df.with_columns(pl.col('target').mean().over(['muni_id', 'month']).alias('expected')).group_by(['muni_id', 'month']).agg(pl.col('expected').first()).sort('month')\n",
    "\n",
    "    return (\n",
    "            (\n",
    "                df\n",
    "                .join(expectations, on=['muni_id', 'month'])\n",
    "                .with_columns(\n",
    "                    pl.when(pl.col('target')<=pl.col('expected')*.5)\n",
    "                    .then(pl.lit('0'))\n",
    "                    .when((pl.col('target')>pl.col('expected')*.5)&(pl.col('target')<=pl.col('expected')))\n",
    "                    .then(pl.lit('1'))\n",
    "                    .otherwise(pl.lit('2'))\n",
    "                    .alias('cat_target')\n",
    "                    )\n",
    "                .select(pl.exclude('expected'))\n",
    "            ),\n",
    "            expectations\n",
    "    )\n"
   ]
  },
  {
   "cell_type": "code",
   "execution_count": 83,
   "metadata": {},
   "outputs": [],
   "source": [
    "\n",
    "def train_global(train, cat_style='', train_transform=None, target_transform=None):\n",
    "\n",
    "    #n_components = 15\n",
    "    n_components = train['X'].shape[1]\n",
    "    \n",
    "    reg = HistGradientBoostingClassifier(\n",
    "    random_state=42,\n",
    "    categorical_features = [n_components-1],\n",
    "    #l2_regularization=.05,\n",
    "    #categorical_features=[15],\n",
    "    max_iter=15000, \n",
    "    #learning_rate=0.5,\n",
    "    #max_leaf_nodes=None, \n",
    "    #min_samples_leaf=10,\n",
    "    #max_bins=255,\n",
    "    early_stopping=True,\n",
    "    class_weight='balanced',\n",
    "    #validation_fraction=None\n",
    "    )\n",
    "\n",
    "    ct = ColumnTransformer([\n",
    "        #('min_max', MinMaxScaler(), list(range(0, n_components-1))),\n",
    "        ('min_max', RobustScaler(), list(range(1, n_components))),\n",
    "    ],\n",
    "    remainder='passthrough')\n",
    "\n",
    "    train_x = ct.fit_transform(train['X'])\n",
    "    if train_transform is not None:\n",
    "        train_x = train_transform(train_x)\n",
    "    #test_x = ct.transform(test['X'])\n",
    "\n",
    "    train_y = train['y']\n",
    "    if target_transform is not None:\n",
    "        train_y = target_transform(train_y)\n",
    "\n",
    "    #sample_weight = compute_sample_weight('balanced', train['y'])\n",
    "    reg.fit(train_x, train_y, \n",
    "            #sample_weight=sample_weight\n",
    "            )\n",
    "    \n",
    "    return reg, ct"
   ]
  },
  {
   "cell_type": "code",
   "execution_count": 15,
   "metadata": {},
   "outputs": [],
   "source": [
    "def test_global(model, transformer, test, cat_style):\n",
    "    test_x = transformer.transform(test['X'])\n",
    "\n",
    "    z = model.predict(test_x)\n",
    "    p_hat = model.predict_proba(test_x)\n",
    "    return pl.DataFrame({\n",
    "        'predictions': z,\n",
    "        'ground_truth': test['y'],\n",
    "        'date': test['dates'],\n",
    "        'muni_id': [test['muni_id']]*len(z),\n",
    "        'cat_style': [cat_style]*len(z),\n",
    "        'error': ['NONE'] * len(z),\n",
    "        'probabilities': p_hat\n",
    "    })"
   ]
  },
  {
   "cell_type": "code",
   "execution_count": 82,
   "metadata": {},
   "outputs": [],
   "source": [
    "def train_models(train_transform = None, target_transform = None):\n",
    "\n",
    "    global_data = create_data_dict(TRAIN_START, TRAIN_END, ALL_DATA, env_list=[], return_dict=False)\n",
    "    global_data = (\n",
    "        global_data\n",
    "        .with_columns(pl.col('target').sum().over('muni_id').alias('muni_sum'))\n",
    "        #.filter(pl.col('muni_sum')!=0)\n",
    "        #.select(pl.exclude('muni_sum'))\n",
    "    )\n",
    "\n",
    "    skip_munis = global_data.filter(pl.col('muni_sum') == 0).select('muni_id').unique().to_series()\n",
    "    global_data = global_data.filter(pl.col('muni_sum')!=0).select(pl.exclude('muni_sum'))\n",
    "\n",
    "    test_data= create_data_dict(TEST_START, TEST_END, ALL_DATA, env_list=[], return_dict=False)\n",
    "\n",
    "    train_data = get_features_for_muni(global_data, CAT_FN, check_zeros=False)\n",
    "    expectations = train_data['expectations']\n",
    "    global_model, col_transformer = train_global(train_data,cat_style=CAT_STYLE, train_transform=train_transform, target_transform=target_transform)\n",
    "\n",
    "\n",
    "    new_cat_fn = partial(CAT_FN, expectations = expectations)\n",
    "    test_data = get_features_for_muni(test_data, new_cat_fn, check_zeros=False)\n",
    "\n",
    "\n",
    "\n",
    "    results = test_global(global_model, col_transformer, test_data, CAT_STYLE)\n",
    "\n",
    "    return results"
   ]
  },
  {
   "cell_type": "code",
   "execution_count": 92,
   "metadata": {},
   "outputs": [],
   "source": [
    "predictions = train_models()"
   ]
  },
  {
   "cell_type": "code",
   "execution_count": 93,
   "metadata": {},
   "outputs": [
    {
     "name": "stdout",
     "output_type": "stream",
     "text": [
      "              precision    recall  f1-score   support\n",
      "\n",
      "         0.0       0.90      0.71      0.80     90657\n",
      "         1.0       0.16      0.58      0.25      7933\n",
      "         2.0       0.61      0.57      0.59     30242\n",
      "\n",
      "    accuracy                           0.67    128832\n",
      "   macro avg       0.56      0.62      0.54    128832\n",
      "weighted avg       0.79      0.67      0.71    128832\n",
      "\n"
     ]
    }
   ],
   "source": [
    "print(classification_report(predictions.select('ground_truth').to_series(),predictions.select('predictions').to_series()))"
   ]
  },
  {
   "cell_type": "code",
   "execution_count": 94,
   "metadata": {},
   "outputs": [
    {
     "data": {
      "text/plain": [
       "<sklearn.metrics._plot.confusion_matrix.ConfusionMatrixDisplay at 0x7fe6f0833a90>"
      ]
     },
     "execution_count": 94,
     "metadata": {},
     "output_type": "execute_result"
    },
    {
     "data": {
      "image/png": "[encoded data removed]",
      "text/plain": [
       "<Figure size 640x480 with 2 Axes>"
      ]
     },
     "metadata": {},
     "output_type": "display_data"
    }
   ],
   "source": [
    "ConfusionMatrixDisplay.from_predictions(predictions.select('ground_truth').to_series(),predictions.select('predictions').to_series())"
   ]
  },
  {
   "cell_type": "markdown",
   "metadata": {},
   "source": [
    "##Test 1: Random null training features\n",
    "Results: Seems to increase accuracy on 1.0 category. Seems to indicate data has a ton of noise if 85% of training data can be x'ed out and still works"
   ]
  },
  {
   "cell_type": "code",
   "execution_count": 73,
   "metadata": {},
   "outputs": [],
   "source": [
    "import numpy as np\n",
    "\n",
    "def random_null(inp: np.array, p=0.25):\n",
    "    rng = np.random.default_rng(12345)\n",
    "    samples = rng.uniform(size=inp.shape)\n",
    "\n",
    "    inp[samples<=p] = np.nan\n",
    "    return inp\n"
   ]
  },
  {
   "cell_type": "code",
   "execution_count": 74,
   "metadata": {},
   "outputs": [],
   "source": [
    "predictions = train_models(random_null)"
   ]
  },
  {
   "cell_type": "code",
   "execution_count": 75,
   "metadata": {},
   "outputs": [
    {
     "name": "stdout",
     "output_type": "stream",
     "text": [
      "              precision    recall  f1-score   support\n",
      "\n",
      "         0.0       0.90      0.71      0.80     90657\n",
      "         1.0       0.16      0.57      0.25      7933\n",
      "         2.0       0.61      0.57      0.59     30242\n",
      "\n",
      "    accuracy                           0.67    128832\n",
      "   macro avg       0.56      0.62      0.54    128832\n",
      "weighted avg       0.79      0.67      0.71    128832\n",
      "\n"
     ]
    }
   ],
   "source": [
    "print(classification_report(predictions.select('ground_truth').to_series(),predictions.select('predictions').to_series()))"
   ]
  },
  {
   "cell_type": "code",
   "execution_count": 76,
   "metadata": {},
   "outputs": [
    {
     "data": {
      "text/plain": [
       "<sklearn.metrics._plot.confusion_matrix.ConfusionMatrixDisplay at 0x7fe6f2b59450>"
      ]
     },
     "execution_count": 76,
     "metadata": {},
     "output_type": "execute_result"
    },
    {
     "data": {
      "image/png": "[encoded data removed]",
      "text/plain": [
       "<Figure size 640x480 with 2 Axes>"
      ]
     },
     "metadata": {},
     "output_type": "display_data"
    }
   ],
   "source": [
    "ConfusionMatrixDisplay.from_predictions(predictions.select('ground_truth').to_series(),predictions.select('predictions').to_series())"
   ]
  },
  {
   "cell_type": "markdown",
   "metadata": {},
   "source": [
    "##Test 1: Additional random null training features"
   ]
  },
  {
   "cell_type": "code",
   "execution_count": 99,
   "metadata": {},
   "outputs": [],
   "source": [
    "import numpy as np\n",
    "\n",
    "def random_null_add(inp: np.array, p=0.25):\n",
    "    rng = np.random.default_rng(12345)\n",
    "    samples = rng.uniform(size=inp.shape)\n",
    "    copied = np.copy(inp)\n",
    "    copied[samples<=p] = np.nan\n",
    "    return np.concatenate((inp, copied))\n",
    "\n",
    "def training_double(inp: np.array):\n",
    "    return np.concatenate((inp, inp))\n"
   ]
  },
  {
   "cell_type": "code",
   "execution_count": 100,
   "metadata": {},
   "outputs": [],
   "source": [
    "predictions = train_models(train_transform=random_null_add, target_transform=training_double)"
   ]
  },
  {
   "cell_type": "code",
   "execution_count": 101,
   "metadata": {},
   "outputs": [
    {
     "name": "stdout",
     "output_type": "stream",
     "text": [
      "              precision    recall  f1-score   support\n",
      "\n",
      "         0.0       0.90      0.75      0.81     90657\n",
      "         1.0       0.16      0.46      0.24      7933\n",
      "         2.0       0.59      0.60      0.60     30242\n",
      "\n",
      "    accuracy                           0.70    128832\n",
      "   macro avg       0.55      0.60      0.55    128832\n",
      "weighted avg       0.78      0.70      0.73    128832\n",
      "\n"
     ]
    }
   ],
   "source": [
    "print(classification_report(predictions.select('ground_truth').to_series(),predictions.select('predictions').to_series()))"
   ]
  },
  {
   "cell_type": "code",
   "execution_count": 102,
   "metadata": {},
   "outputs": [
    {
     "data": {
      "text/plain": [
       "<sklearn.metrics._plot.confusion_matrix.ConfusionMatrixDisplay at 0x7fe6f2773710>"
      ]
     },
     "execution_count": 102,
     "metadata": {},
     "output_type": "execute_result"
    },
    {
     "data": {
      "image/png": "[encoded data removed]",
      "text/plain": [
       "<Figure size 640x480 with 2 Axes>"
      ]
     },
     "metadata": {},
     "output_type": "display_data"
    }
   ],
   "source": [
    "ConfusionMatrixDisplay.from_predictions(predictions.select('ground_truth').to_series(),predictions.select('predictions').to_series())"
   ]
  }
 ],
 "metadata": {
  "kernelspec": {
   "display_name": "new_dengue",
   "language": "python",
   "name": "python3"
  },
  "language_info": {
   "codemirror_mode": {
    "name": "ipython",
    "version": 3
   },
   "file_extension": ".py",
   "mimetype": "text/x-python",
   "name": "python",
   "nbconvert_exporter": "python",
   "pygments_lexer": "ipython3",
   "version": "3.11.5"
  }
 },
 "nbformat": 4,
 "nbformat_minor": 2
}
