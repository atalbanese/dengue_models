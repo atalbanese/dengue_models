{
 "cells": [
  {
   "cell_type": "code",
   "execution_count": 1,
   "metadata": {},
   "outputs": [],
   "source": [
    "import polars as pl\n",
    "from sklearn.ensemble import HistGradientBoostingClassifier\n",
    "from sklearn.preprocessing import MinMaxScaler, OneHotEncoder\n",
    "from datetime import datetime\n",
    "import numpy as np\n",
    "import geopandas as gpd\n",
    "from dateutil.relativedelta import relativedelta\n",
    "from tqdm import tqdm\n",
    "from sklearn.decomposition import PCA\n",
    "import dill as pickle\n",
    "import os\n",
    "from sklearn.compose import ColumnTransformer\n",
    "from sklearn.pipeline import Pipeline\n",
    "from sklearn.preprocessing import MinMaxScaler, StandardScaler, RobustScaler, SplineTransformer, KernelCenterer, PolynomialFeatures, PowerTransformer, QuantileTransformer, Normalizer\n",
    "from itertools import chain\n",
    "import math\n",
    "from functools import partial\n",
    "from sklearn.metrics import classification_report, confusion_matrix\n",
    "from sklearn.metrics import ConfusionMatrixDisplay"
   ]
  },
  {
   "cell_type": "code",
   "execution_count": 2,
   "metadata": {},
   "outputs": [],
   "source": [
    "\n",
    "\n",
    "def make_relative_ternary(df:pl.DataFrame, expectations=None):\n",
    "    if expectations is None:\n",
    "        #We can do this all as one statement with polars ofc but want to save training expectations so they can be applied to test data\n",
    "        expectations = df.with_columns(pl.col('target').mean().over(['muni_id', 'month']).alias('expected')).group_by(['muni_id', 'month']).agg(pl.col('expected').first()).sort('month')\n",
    "\n",
    "    return (\n",
    "            (\n",
    "                df\n",
    "                .join(expectations, on=['muni_id', 'month'])\n",
    "                .with_columns(\n",
    "                    pl.when(pl.col('target')<=pl.col('expected')*.5)\n",
    "                    .then(pl.lit('0'))\n",
    "                    .when((pl.col('target')>pl.col('expected')*.5)&(pl.col('target')<=pl.col('expected')))\n",
    "                    .then(pl.lit('1'))\n",
    "                    .otherwise(pl.lit('2'))\n",
    "                    .alias('cat_target')\n",
    "                    )\n",
    "                .select(pl.exclude('expected'))\n",
    "            ),\n",
    "            expectations\n",
    "    )\n"
   ]
  },
  {
   "cell_type": "code",
   "execution_count": 3,
   "metadata": {},
   "outputs": [],
   "source": [
    "monthly_cases = pl.read_parquet('../data/cases/agged/dengue_per_month.parquet').with_columns(pl.col('DT_NOTIFIC').dt.offset_by('1mo').alias('end_date')).with_columns(pl.col('ID_MUNICIP').str.slice(offset=0,length=6).cast(pl.Int64)).sort('DT_NOTIFIC').rename({\n",
    "'DT_NOTIFIC': 'start_date',\n",
    "'ID_MUNICIP': 'muni_id'\n",
    "})\n",
    "\n",
    "monthly_params = pl.read_parquet('../data/gee_exports_test/all_parameters_2001-01-01_2021-01-01_months.parquet')\n",
    "\n",
    "ALL_DATA = monthly_cases.join(monthly_params, how='inner', on=['muni_id', 'end_date']).with_columns(pl.col('end_date').alias('month').dt.month())\n",
    "TRAIN_START = '2005-01-01'\n",
    "TRAIN_END = '2018-01-01'\n",
    "\n",
    "TEST_START = '2018-01-01'\n",
    "TEST_END = '2020-01-01'\n",
    "\n",
    "EL = 12\n",
    "LC = 24\n",
    "binary_error = [np.array([-999.0, -999.0])]\n",
    "ternary_error = [np.array([-999.0, -999.0, -999.0])]\n",
    "SAVE_DIR = '/home/tony/dengue/dengue_models/results/'\n",
    "SAVE_PREFIX = 'relative_binary_global'\n",
    "CAT_STYLE = 'relative_binary_global'\n",
    "CAT_FN = make_relative_ternary\n",
    "ERROR_ARR = binary_error\n",
    "munis = gpd.read_file('../data/brazil/munis/munis_simple.shp').astype({'CD_MUN': 'string'})\n",
    "munis['CD_MUN'] = munis['CD_MUN'].str.slice(stop=-1).astype(int)\n",
    "ALL_DATA = ALL_DATA.join(pl.DataFrame(munis.drop(columns='geometry')), how='left', left_on='muni_id', right_on='CD_MUN').select(pl.exclude(['NM_MUN', \n",
    "                                                                                          'geometry'])).with_columns((pl.col('pop')/pl.col('AREA_KM2')).alias('density'))"
   ]
  },
  {
   "cell_type": "code",
   "execution_count": 195,
   "metadata": {},
   "outputs": [
    {
     "data": {
      "text/plain": [
       "['muni_id',\n",
       " 'start_date',\n",
       " 'count',\n",
       " 'x_centroid',\n",
       " 'y_centroid',\n",
       " 'pop',\n",
       " 'year',\n",
       " 'cases_per_100k',\n",
       " 'end_date',\n",
       " 'temporal_sdm_both',\n",
       " 'start_date_right',\n",
       " 'temporal_sdm_albopictus',\n",
       " 'start_date_temporal_sdm_albopictus',\n",
       " 'temporal_sdm_aegypti',\n",
       " 'start_date_temporal_sdm_aegypti',\n",
       " 'EVI',\n",
       " 'start_date_EVI',\n",
       " 'total_evaporation_sum',\n",
       " 'start_date_total_evaporation_sum',\n",
       " 'total_precipitation_sum',\n",
       " 'start_date_total_precipitation_sum',\n",
       " 'evaporation_from_open_water_surfaces_excluding_oceans_min',\n",
       " 'start_date_evaporation_from_open_water_surfaces_excluding_oceans_min',\n",
       " 'soil_temperature_level_1',\n",
       " 'start_date_soil_temperature_level_1',\n",
       " 'runoff_sum',\n",
       " 'start_date_runoff_sum',\n",
       " 'surface_runoff_min',\n",
       " 'start_date_surface_runoff_min',\n",
       " 'volumetric_soil_water_layer_1',\n",
       " 'start_date_volumetric_soil_water_layer_1',\n",
       " 'dewpoint_temperature_2m',\n",
       " 'start_date_dewpoint_temperature_2m',\n",
       " 'temperature_2m',\n",
       " 'start_date_temperature_2m',\n",
       " 'total_precipitation_min',\n",
       " 'start_date_total_precipitation_min',\n",
       " 'month',\n",
       " 'NM_MUN_right',\n",
       " 'SIGLA',\n",
       " 'AREA_KM2',\n",
       " 'density']"
      ]
     },
     "execution_count": 195,
     "metadata": {},
     "output_type": "execute_result"
    }
   ],
   "source": [
    "ALL_DATA.columns"
   ]
  },
  {
   "cell_type": "code",
   "execution_count": 4,
   "metadata": {},
   "outputs": [],
   "source": [
    "\n",
    "def create_data_dict(start_date, \n",
    "                    end_date, \n",
    "                    all_data: pl.DataFrame, \n",
    "                    target_var = 'cases_per_100k',\n",
    "                    case_lookback=24,\n",
    "                    case_lag=1,\n",
    "                    env_lag=0, \n",
    "                    env_lookback = 12,\n",
    "                    env_list = [\n",
    "                    # 'total_precipitation_sum', \n",
    "                    # 'temperature_2m', \n",
    "                    ],\n",
    "                    additional_features = [\n",
    "                        'month', \n",
    "                        # 'pop', \n",
    "                        # 'density', \n",
    "                        # 'x_centroid', \n",
    "                        # 'y_centroid'\n",
    "                        ],\n",
    "                    categorical_features = [\n",
    "                        'month',\n",
    "                        'SIGLA'\n",
    "                    ],\n",
    "                    return_dict = True,\n",
    "                    specific_cases = None,\n",
    "                    specific_env = None\n",
    "                    ):\n",
    "    to_return = (\n",
    "        all_data\n",
    "        #.with_columns(pl.col('muni_id').alias('muni_cat'))\n",
    "        .select(['muni_id', 'start_date', target_var] + env_list + additional_features)\n",
    "        .filter((pl.col('start_date')>=datetime.fromisoformat(start_date)-relativedelta(years=math.ceil(case_lookback/12))) & (pl.col('start_date')<datetime.fromisoformat(end_date)))\n",
    "        .with_columns(\n",
    "            list(\n",
    "                chain.from_iterable(\n",
    "                    [\n",
    "                        [pl.col(target_var).shift(i).over('muni_id').alias(f'{i}_shifted_cases')] for i in (range(case_lag,case_lookback+case_lag) if specific_cases is None else specific_cases)\n",
    "                    ]\n",
    "                    +\n",
    "                    \n",
    "                    [\n",
    "                        [pl.col(e_var).shift(i).over('muni_id').alias(f'{i}_shifted_{e_var}') for i in (range(env_lag,env_lookback+env_lag) if specific_env is None else specific_env)] \n",
    "                            for e_var in env_list\n",
    "                    ]\n",
    "                    )\n",
    "                )\n",
    "        )\n",
    "        .drop_nulls()\n",
    "        .select(pl.exclude(env_list))\n",
    "        .rename({target_var: 'target'})\n",
    "    )\n",
    "\n",
    "    return to_return if not return_dict else to_return.partition_by('muni_id', as_dict=True)"
   ]
  },
  {
   "cell_type": "code",
   "execution_count": 5,
   "metadata": {},
   "outputs": [],
   "source": [
    "def get_features_for_muni(df, cat_fn=None, check_zeros=False):\n",
    "    df = df.sort('start_date')\n",
    "    if check_zeros:\n",
    "        if df.select(pl.col('target')).to_series().sum() == 0:\n",
    "            return None\n",
    "    selected = df if cat_fn is None else cat_fn(df)\n",
    "    expectations = None\n",
    "    #Some cat_fns return a tuple including expectations for category breaks based on historical data. If so, we want to pass these from training to testing data.\n",
    "    if isinstance(selected, tuple):\n",
    "        selected, expectations = selected\n",
    "    target_key = 'target' if cat_fn is None else 'cat_target'\n",
    "    target = selected.select(pl.col(target_key)).to_series().to_numpy().astype(float) \n",
    "    \n",
    "    #TODO: Fix how months are handled\n",
    "    features = selected.select(pl.exclude(['muni_id', 'start_date', 'target', 'count', 'cat_target'])).to_pandas()\n",
    "    dates = selected.select(pl.col('start_date')).to_series()\n",
    "    muni_id = selected.select(pl.col('muni_id').first()).item()\n",
    "\n",
    "    return {'X': features,\n",
    "            'y': target,\n",
    "            'dates': dates,\n",
    "            'muni_id': muni_id,\n",
    "            'expectations': expectations}"
   ]
  },
  {
   "cell_type": "code",
   "execution_count": 6,
   "metadata": {},
   "outputs": [],
   "source": [
    "def handle_zero_case(muni_id):\n",
    "    return pl.DataFrame({\n",
    "        'predictions': [-999.0],\n",
    "        'ground_truth': [-999.0],\n",
    "        'date': [datetime.fromisoformat('1900-01-01')],\n",
    "        'muni_id': [muni_id],\n",
    "        'cat_style': ['NA'],\n",
    "        'error': ['Only zeros in training data'],\n",
    "        'probabilities': ERROR_ARR\n",
    "    }).cast({'date':pl.Date})"
   ]
  },
  {
   "cell_type": "code",
   "execution_count": 7,
   "metadata": {},
   "outputs": [],
   "source": [
    "\n",
    "def write_results(df: pl.DataFrame, save_dir, save_prefix, muni_id):\n",
    "    #muni_id = df.select('muni_id').head(n=1).item()\n",
    "    df.write_csv(os.path.join(save_dir, f'{muni_id}_{save_prefix}.csv'))"
   ]
  },
  {
   "cell_type": "code",
   "execution_count": 8,
   "metadata": {},
   "outputs": [],
   "source": [
    "def make_simple_binary(df:pl.DataFrame):\n",
    "    return df.with_columns(pl.col('target').cut([300], labels=['0','1']).alias('cat_target'))"
   ]
  },
  {
   "cell_type": "code",
   "execution_count": 9,
   "metadata": {},
   "outputs": [],
   "source": [
    "\n",
    "def make_simple_ternary(df:pl.DataFrame):\n",
    "    return df.with_columns(pl.col('target').cut([100,300], labels=['0','1', '2']).alias('cat_target'))"
   ]
  },
  {
   "cell_type": "code",
   "execution_count": 10,
   "metadata": {},
   "outputs": [],
   "source": [
    "\n",
    "def make_relative_binary(df:pl.DataFrame, expectations=None):\n",
    "    if expectations is None:\n",
    "        #We can do this all as one statement with polars ofc but want to save training expectations so they can be applied to test data\n",
    "        expectations = df.with_columns(pl.col('target').mean().over(['muni_id','month']).alias('expected')).group_by(['muni_id', 'month']).agg(pl.col('expected').first()).sort('month')\n",
    "\n",
    "    return (\n",
    "            (\n",
    "                df\n",
    "                .join(expectations, on=['muni_id', 'month'])\n",
    "                .with_columns(\n",
    "                    pl.when(pl.col('target')>pl.col('expected'))\n",
    "                    .then(pl.lit('1'))\n",
    "                    .otherwise(pl.lit('0'))\n",
    "                    .alias('cat_target')\n",
    "                    )\n",
    "                .select(pl.exclude('expected'))\n",
    "            ),\n",
    "            expectations\n",
    "    )"
   ]
  },
  {
   "cell_type": "code",
   "execution_count": 275,
   "metadata": {},
   "outputs": [],
   "source": [
    "from sklearn.compose import make_column_selector\n",
    "def train_global(train, cat_style='', train_transform=None, target_transform=None, ct=None):\n",
    "\n",
    "    #n_components = 15\n",
    "    n_components = train['X'].shape[1]\n",
    "    print(n_components)\n",
    "    \n",
    "    reg = HistGradientBoostingClassifier(\n",
    "    random_state=42,\n",
    "    loss='log_loss',\n",
    "    categorical_features = [n_components-1],\n",
    "    #l2_regularization=10.0,\n",
    "    #categorical_features=[15],\n",
    "    max_iter=10000, \n",
    "    #learning_rate=0.5,\n",
    "    #max_leaf_nodes=63, \n",
    "    #min_samples_leaf=40,\n",
    "    #max_bins=150,\n",
    "    early_stopping=True,\n",
    "    class_weight='balanced',\n",
    "    validation_fraction=0.3,\n",
    "    n_iter_no_change=100,\n",
    "    scoring='f1_macro'\n",
    "    )\n",
    "\n",
    "    if ct is None:\n",
    "        ct = ColumnTransformer([\n",
    "            #('min_max', MinMaxScaler(), list(range(0, n_components-1))),\n",
    "            ('min_max', RobustScaler(), make_column_selector(dtype_exclude='uint32')),\n",
    "        ],\n",
    "        remainder='passthrough')\n",
    "\n",
    "    train_x = ct.fit_transform(train['X'])\n",
    "    print(train_x[:,-1])\n",
    "    if train_transform is not None:\n",
    "        train_x = train_transform(train_x)\n",
    "    #test_x = ct.transform(test['X'])\n",
    "\n",
    "    train_y = train['y']\n",
    "    if target_transform is not None:\n",
    "        train_y = target_transform(train_y)\n",
    "\n",
    "    #sample_weight = compute_sample_weight('balanced', train['y'])\n",
    "    reg.fit(train_x, train_y, \n",
    "            #sample_weight=sample_weight\n",
    "            )\n",
    "    \n",
    "    return reg, ct"
   ]
  },
  {
   "cell_type": "code",
   "execution_count": 13,
   "metadata": {},
   "outputs": [],
   "source": [
    "def test_global(model, transformer, test, cat_style):\n",
    "    test_x = transformer.transform(test['X'])\n",
    "\n",
    "    z = model.predict(test_x)\n",
    "    p_hat = model.predict_proba(test_x)\n",
    "    return pl.DataFrame({\n",
    "        'predictions': z,\n",
    "        'ground_truth': test['y'],\n",
    "        'date': test['dates'],\n",
    "        'muni_id': [test['muni_id']]*len(z),\n",
    "        'cat_style': [cat_style]*len(z),\n",
    "        'error': ['NONE'] * len(z),\n",
    "        'probabilities': p_hat\n",
    "    })"
   ]
  },
  {
   "cell_type": "code",
   "execution_count": 122,
   "metadata": {},
   "outputs": [],
   "source": [
    "def train_models(\n",
    "        train_transform = None, \n",
    "        target_transform = None, \n",
    "        ct = None, \n",
    "        train_args = {\n",
    "            'start_date': TRAIN_START,\n",
    "            'end_date': TRAIN_END,\n",
    "            'all_data': ALL_DATA,\n",
    "            'env_list': [],\n",
    "            'return_dict': False\n",
    "        },\n",
    "        test_args = {\n",
    "            'start_date': TEST_START,\n",
    "            'end_date': TEST_END,\n",
    "            'all_data': ALL_DATA,\n",
    "            'env_list': [],\n",
    "            'return_dict': False\n",
    "        }\n",
    "):\n",
    "\n",
    "    global_data = create_data_dict(**train_args)\n",
    "    global_data = (\n",
    "        global_data\n",
    "        .with_columns(pl.col('target').sum().over('muni_id').alias('muni_sum'))\n",
    "        #.filter(pl.col('muni_sum')!=0)\n",
    "        #.select(pl.exclude('muni_sum'))\n",
    "    )\n",
    "\n",
    "    skip_munis = global_data.filter(pl.col('muni_sum') == 0).select('muni_id').unique().to_series()\n",
    "    global_data = global_data.filter(pl.col('muni_sum')!=0).select(pl.exclude('muni_sum'))\n",
    "\n",
    "    test_data= create_data_dict(**test_args).filter(~pl.col('muni_id').is_in(skip_munis))\n",
    "\n",
    "    train_data = get_features_for_muni(global_data, CAT_FN, check_zeros=False)\n",
    "    expectations = train_data['expectations']\n",
    "    global_model, col_transformer = train_global(train_data,cat_style=CAT_STYLE, train_transform=train_transform, target_transform=target_transform, ct=ct)\n",
    "\n",
    "\n",
    "    new_cat_fn = partial(CAT_FN, expectations = expectations)\n",
    "    test_data = get_features_for_muni(test_data, new_cat_fn, check_zeros=False)\n",
    "\n",
    "\n",
    "\n",
    "    results = test_global(global_model, col_transformer, test_data, CAT_STYLE)\n",
    "\n",
    "    return results"
   ]
  },
  {
   "cell_type": "code",
   "execution_count": 123,
   "metadata": {},
   "outputs": [
    {
     "name": "stdout",
     "output_type": "stream",
     "text": [
      "29\n"
     ]
    }
   ],
   "source": [
    "predictions = train_models()"
   ]
  },
  {
   "cell_type": "code",
   "execution_count": 124,
   "metadata": {},
   "outputs": [
    {
     "name": "stdout",
     "output_type": "stream",
     "text": [
      "              precision    recall  f1-score   support\n",
      "\n",
      "         0.0       0.91      0.73      0.81     90657\n",
      "         1.0       0.17      0.55      0.26      7933\n",
      "         2.0       0.60      0.62      0.61     30242\n",
      "\n",
      "    accuracy                           0.69    128832\n",
      "   macro avg       0.56      0.63      0.56    128832\n",
      "weighted avg       0.79      0.69      0.73    128832\n",
      "\n"
     ]
    }
   ],
   "source": [
    "print(classification_report(predictions.select('ground_truth').to_series(),predictions.select('predictions').to_series()))"
   ]
  },
  {
   "cell_type": "code",
   "execution_count": 94,
   "metadata": {},
   "outputs": [
    {
     "data": {
      "text/plain": [
       "<sklearn.metrics._plot.confusion_matrix.ConfusionMatrixDisplay at 0x7fe6f0833a90>"
      ]
     },
     "execution_count": 94,
     "metadata": {},
     "output_type": "execute_result"
    },
    {
     "data": {
      "image/png": "[encoded data removed]",
      "text/plain": [
       "<Figure size 640x480 with 2 Axes>"
      ]
     },
     "metadata": {},
     "output_type": "display_data"
    }
   ],
   "source": [
    "ConfusionMatrixDisplay.from_predictions(predictions.select('ground_truth').to_series(),predictions.select('predictions').to_series())"
   ]
  },
  {
   "cell_type": "markdown",
   "metadata": {},
   "source": [
    "##Test 1: Random null training features\n",
    "Results: Doesn't seem to have a large impact on accuracy. Having up to 85% of values missing doesn't even make much of an impact. There is a lot of noise"
   ]
  },
  {
   "cell_type": "code",
   "execution_count": 73,
   "metadata": {},
   "outputs": [],
   "source": [
    "import numpy as np\n",
    "\n",
    "def random_null(inp: np.array, p=0.25):\n",
    "    rng = np.random.default_rng(12345)\n",
    "    samples = rng.uniform(size=inp.shape)\n",
    "\n",
    "    inp[samples<=p] = np.nan\n",
    "    return inp\n"
   ]
  },
  {
   "cell_type": "code",
   "execution_count": 106,
   "metadata": {},
   "outputs": [
    {
     "name": "stdout",
     "output_type": "stream",
     "text": [
      "26\n"
     ]
    }
   ],
   "source": [
    "predictions = train_models(random_null)"
   ]
  },
  {
   "cell_type": "code",
   "execution_count": 75,
   "metadata": {},
   "outputs": [
    {
     "name": "stdout",
     "output_type": "stream",
     "text": [
      "              precision    recall  f1-score   support\n",
      "\n",
      "         0.0       0.90      0.71      0.80     90657\n",
      "         1.0       0.16      0.57      0.25      7933\n",
      "         2.0       0.61      0.57      0.59     30242\n",
      "\n",
      "    accuracy                           0.67    128832\n",
      "   macro avg       0.56      0.62      0.54    128832\n",
      "weighted avg       0.79      0.67      0.71    128832\n",
      "\n"
     ]
    }
   ],
   "source": [
    "print(classification_report(predictions.select('ground_truth').to_series(),predictions.select('predictions').to_series()))"
   ]
  },
  {
   "cell_type": "code",
   "execution_count": 76,
   "metadata": {},
   "outputs": [
    {
     "data": {
      "text/plain": [
       "<sklearn.metrics._plot.confusion_matrix.ConfusionMatrixDisplay at 0x7fe6f2b59450>"
      ]
     },
     "execution_count": 76,
     "metadata": {},
     "output_type": "execute_result"
    },
    {
     "data": {
      "image/png": "[encoded data removed]",
      "text/plain": [
       "<Figure size 640x480 with 2 Axes>"
      ]
     },
     "metadata": {},
     "output_type": "display_data"
    }
   ],
   "source": [
    "ConfusionMatrixDisplay.from_predictions(predictions.select('ground_truth').to_series(),predictions.select('predictions').to_series())"
   ]
  },
  {
   "cell_type": "markdown",
   "metadata": {},
   "source": [
    "##Test 2: Additional random null training features\n",
    "Results: Slows things down a lot, does not significantly improve results"
   ]
  },
  {
   "cell_type": "code",
   "execution_count": 99,
   "metadata": {},
   "outputs": [],
   "source": [
    "import numpy as np\n",
    "\n",
    "def random_null_add(inp: np.array, p=0.25):\n",
    "    rng = np.random.default_rng(12345)\n",
    "    samples = rng.uniform(size=inp.shape)\n",
    "    copied = np.copy(inp)\n",
    "    copied[samples<=p] = np.nan\n",
    "    return np.concatenate((inp, copied))\n",
    "\n",
    "def training_double(inp: np.array):\n",
    "    return np.concatenate((inp, inp))\n"
   ]
  },
  {
   "cell_type": "code",
   "execution_count": 100,
   "metadata": {},
   "outputs": [],
   "source": [
    "predictions = train_models(train_transform=random_null_add, target_transform=training_double)"
   ]
  },
  {
   "cell_type": "code",
   "execution_count": 101,
   "metadata": {},
   "outputs": [
    {
     "name": "stdout",
     "output_type": "stream",
     "text": [
      "              precision    recall  f1-score   support\n",
      "\n",
      "         0.0       0.90      0.75      0.81     90657\n",
      "         1.0       0.16      0.46      0.24      7933\n",
      "         2.0       0.59      0.60      0.60     30242\n",
      "\n",
      "    accuracy                           0.70    128832\n",
      "   macro avg       0.55      0.60      0.55    128832\n",
      "weighted avg       0.78      0.70      0.73    128832\n",
      "\n"
     ]
    }
   ],
   "source": [
    "print(classification_report(predictions.select('ground_truth').to_series(),predictions.select('predictions').to_series()))"
   ]
  },
  {
   "cell_type": "code",
   "execution_count": 102,
   "metadata": {},
   "outputs": [
    {
     "data": {
      "text/plain": [
       "<sklearn.metrics._plot.confusion_matrix.ConfusionMatrixDisplay at 0x7fe6f2773710>"
      ]
     },
     "execution_count": 102,
     "metadata": {},
     "output_type": "execute_result"
    },
    {
     "data": {
      "image/png": "[encoded data removed]",
      "text/plain": [
       "<Figure size 640x480 with 2 Axes>"
      ]
     },
     "metadata": {},
     "output_type": "display_data"
    }
   ],
   "source": [
    "ConfusionMatrixDisplay.from_predictions(predictions.select('ground_truth').to_series(),predictions.select('predictions').to_series())"
   ]
  },
  {
   "cell_type": "markdown",
   "metadata": {},
   "source": [
    "##Test 3: Adding PCA \n",
    "Results: Improves things? need to test more"
   ]
  },
  {
   "cell_type": "code",
   "execution_count": 101,
   "metadata": {},
   "outputs": [],
   "source": [
    "pca_trans = ColumnTransformer([\n",
    "            ('min_max', RobustScaler(), list(range(1, 26))),\n",
    "            ('pca', PCA(n_components=10), list(range(1, 26)))\n",
    "        ],\n",
    "        remainder='passthrough')"
   ]
  },
  {
   "cell_type": "code",
   "execution_count": 102,
   "metadata": {},
   "outputs": [
    {
     "name": "stdout",
     "output_type": "stream",
     "text": [
      "27\n"
     ]
    },
    {
     "name": "stderr",
     "output_type": "stream",
     "text": [
      "/home/tony/mambaforge/envs/new_dengue/lib/python3.11/site-packages/sklearn/ensemble/_hist_gradient_boosting/gradient_boosting.py:1998: FutureWarning: The loss 'categorical_crossentropy' was deprecated in v1.1 and will be removed in version 1.3. Use 'log_loss' which is equivalent.\n",
      "  warnings.warn(\n"
     ]
    }
   ],
   "source": [
    "predictions = train_models(ct=pca_trans)"
   ]
  },
  {
   "cell_type": "code",
   "execution_count": 104,
   "metadata": {},
   "outputs": [
    {
     "name": "stdout",
     "output_type": "stream",
     "text": [
      "              precision    recall  f1-score   support\n",
      "\n",
      "         0.0       0.90      0.72      0.80     90657\n",
      "         1.0       0.16      0.54      0.25      7933\n",
      "         2.0       0.61      0.58      0.60     30242\n",
      "\n",
      "    accuracy                           0.68    128832\n",
      "   macro avg       0.56      0.62      0.55    128832\n",
      "weighted avg       0.79      0.68      0.72    128832\n",
      "\n"
     ]
    }
   ],
   "source": [
    "print(classification_report(predictions.select('ground_truth').to_series(),predictions.select('predictions').to_series()))"
   ]
  },
  {
   "cell_type": "code",
   "execution_count": 105,
   "metadata": {},
   "outputs": [
    {
     "data": {
      "text/plain": [
       "<sklearn.metrics._plot.confusion_matrix.ConfusionMatrixDisplay at 0x7f1790b45810>"
      ]
     },
     "execution_count": 105,
     "metadata": {},
     "output_type": "execute_result"
    },
    {
     "data": {
      "image/png": "[encoded data removed]",
      "text/plain": [
       "<Figure size 640x480 with 2 Axes>"
      ]
     },
     "metadata": {},
     "output_type": "display_data"
    }
   ],
   "source": [
    "ConfusionMatrixDisplay.from_predictions(predictions.select('ground_truth').to_series(),predictions.select('predictions').to_series())"
   ]
  },
  {
   "cell_type": "markdown",
   "metadata": {},
   "source": [
    "Test 3: Time Lag Search"
   ]
  },
  {
   "cell_type": "code",
   "execution_count": 231,
   "metadata": {},
   "outputs": [],
   "source": [
    "global_data = create_data_dict(TRAIN_START, TRAIN_END, ALL_DATA, env_list=[\n",
    "    'temporal_sdm_both',\n",
    "    # 'temporal_sdm_albopictus',\n",
    "    # 'temporal_sdm_aegypti',\n",
    "    # 'EVI',\n",
    "    # 'total_evaporation_sum',\n",
    "    # 'total_precipitation_sum',\n",
    "    # 'evaporation_from_open_water_surfaces_excluding_oceans_min',\n",
    "    # 'soil_temperature_level_1',\n",
    "    # 'runoff_sum',\n",
    "    # 'surface_runoff_min',\n",
    "    # 'volumetric_soil_water_layer_1',\n",
    "    # 'dewpoint_temperature_2m',\n",
    "    # 'temperature_2m',\n",
    "    # 'total_precipitation_min'\n",
    "], specific_cases= [1,12, 24],\n",
    "additional_features= [\n",
    "                'month',\n",
    "                'density',\n",
    "                'pop'\n",
    "            ],\n",
    "            return_dict=False)\n",
    "global_data = (\n",
    "    global_data\n",
    "    .with_columns(pl.col('target').sum().over('muni_id').alias('muni_sum'))\n",
    "    #.filter(pl.col('muni_sum')!=0)\n",
    "    #.select(pl.exclude('muni_sum'))\n",
    ")\n",
    "\n",
    "skip_munis = global_data.filter(pl.col('muni_sum') == 0).select('muni_id').unique().to_series()\n",
    "global_data = global_data.filter(pl.col('muni_sum')!=0).select(pl.exclude('muni_sum'))\n",
    "train_data = get_features_for_muni(global_data, CAT_FN, check_zeros=False)"
   ]
  },
  {
   "cell_type": "code",
   "execution_count": 251,
   "metadata": {},
   "outputs": [
    {
     "data": {
      "text/plain": [
       "array([[1.01949610e-03, 9.99999255e-01, 5.99117746e-04, ...,\n",
       "        9.89599141e-06, 1.23014259e-05, 2.00000000e+00],\n",
       "       [4.56943818e-03, 9.99989560e-01, 5.64560251e-06, ...,\n",
       "        2.23354917e-07, 4.42902702e-07, 2.00000000e+00],\n",
       "       [2.55900896e-03, 9.99996725e-01, 1.51430227e-05, ...,\n",
       "        2.01916999e-06, 2.11677073e-06, 2.00000000e+00],\n",
       "       ...,\n",
       "       [2.76636358e-03, 9.99996171e-01, 0.00000000e+00, ...,\n",
       "        6.67583997e-06, 3.71316942e-06, 1.00000000e+00],\n",
       "       [2.46504398e-03, 9.99996855e-01, 0.00000000e+00, ...,\n",
       "        1.43076320e-04, 1.52692525e-04, 1.00000000e+00],\n",
       "       [2.93259026e-03, 9.99995684e-01, 0.00000000e+00, ...,\n",
       "        1.06904122e-05, 1.64877864e-05, 1.00000000e+00]])"
      ]
     },
     "execution_count": 251,
     "metadata": {},
     "output_type": "execute_result"
    }
   ],
   "source": [
    "from sklearn.feature_selection import SelectKBest, chi2\n",
    "from sklearn.feature_selection import f_classif, mutual_info_classif\n",
    "X, y = train_data['X'], train_data['y']\n",
    "ct = ColumnTransformer([\n",
    "            #('min_max', MinMaxScaler(), list(range(0, n_components-1))),\n",
    "            ('min_max', Normalizer(), make_column_selector(dtype_exclude='uint32')),\n",
    "        ],\n",
    "        remainder='passthrough')\n",
    "ct.fit_transform(X)\n"
   ]
  },
  {
   "cell_type": "markdown",
   "metadata": {},
   "source": [
    "Months since last peak feature??? Or is this captured by historic\n",
    "\n",
    "Position within relative dengue season\n",
    "\n",
    "Change rates instead of hi/low/medium classfication\n",
    "changing rapidly up, down, medium\n",
    "\n",
    "fit some kind of periodic function per municipio based on standardized case rates -> model that takes periodic function fit to standardized data so that all municipios you can reapply results to own actual period function - look at peaks"
   ]
  },
  {
   "cell_type": "code",
   "execution_count": 117,
   "metadata": {},
   "outputs": [
    {
     "data": {
      "text/html": [
       "<style>#sk-container-id-4 {color: black;background-color: white;}#sk-container-id-4 pre{padding: 0;}#sk-container-id-4 div.sk-toggleable {background-color: white;}#sk-container-id-4 label.sk-toggleable__label {cursor: pointer;display: block;width: 100%;margin-bottom: 0;padding: 0.3em;box-sizing: border-box;text-align: center;}#sk-container-id-4 label.sk-toggleable__label-arrow:before {content: \"▸\";float: left;margin-right: 0.25em;color: #696969;}#sk-container-id-4 label.sk-toggleable__label-arrow:hover:before {color: black;}#sk-container-id-4 div.sk-estimator:hover label.sk-toggleable__label-arrow:before {color: black;}#sk-container-id-4 div.sk-toggleable__content {max-height: 0;max-width: 0;overflow: hidden;text-align: left;background-color: #f0f8ff;}#sk-container-id-4 div.sk-toggleable__content pre {margin: 0.2em;color: black;border-radius: 0.25em;background-color: #f0f8ff;}#sk-container-id-4 input.sk-toggleable__control:checked~div.sk-toggleable__content {max-height: 200px;max-width: 100%;overflow: auto;}#sk-container-id-4 input.sk-toggleable__control:checked~label.sk-toggleable__label-arrow:before {content: \"▾\";}#sk-container-id-4 div.sk-estimator input.sk-toggleable__control:checked~label.sk-toggleable__label {background-color: #d4ebff;}#sk-container-id-4 div.sk-label input.sk-toggleable__control:checked~label.sk-toggleable__label {background-color: #d4ebff;}#sk-container-id-4 input.sk-hidden--visually {border: 0;clip: rect(1px 1px 1px 1px);clip: rect(1px, 1px, 1px, 1px);height: 1px;margin: -1px;overflow: hidden;padding: 0;position: absolute;width: 1px;}#sk-container-id-4 div.sk-estimator {font-family: monospace;background-color: #f0f8ff;border: 1px dotted black;border-radius: 0.25em;box-sizing: border-box;margin-bottom: 0.5em;}#sk-container-id-4 div.sk-estimator:hover {background-color: #d4ebff;}#sk-container-id-4 div.sk-parallel-item::after {content: \"\";width: 100%;border-bottom: 1px solid gray;flex-grow: 1;}#sk-container-id-4 div.sk-label:hover label.sk-toggleable__label {background-color: #d4ebff;}#sk-container-id-4 div.sk-serial::before {content: \"\";position: absolute;border-left: 1px solid gray;box-sizing: border-box;top: 0;bottom: 0;left: 50%;z-index: 0;}#sk-container-id-4 div.sk-serial {display: flex;flex-direction: column;align-items: center;background-color: white;padding-right: 0.2em;padding-left: 0.2em;position: relative;}#sk-container-id-4 div.sk-item {position: relative;z-index: 1;}#sk-container-id-4 div.sk-parallel {display: flex;align-items: stretch;justify-content: center;background-color: white;position: relative;}#sk-container-id-4 div.sk-item::before, #sk-container-id-4 div.sk-parallel-item::before {content: \"\";position: absolute;border-left: 1px solid gray;box-sizing: border-box;top: 0;bottom: 0;left: 50%;z-index: -1;}#sk-container-id-4 div.sk-parallel-item {display: flex;flex-direction: column;z-index: 1;position: relative;background-color: white;}#sk-container-id-4 div.sk-parallel-item:first-child::after {align-self: flex-end;width: 50%;}#sk-container-id-4 div.sk-parallel-item:last-child::after {align-self: flex-start;width: 50%;}#sk-container-id-4 div.sk-parallel-item:only-child::after {width: 0;}#sk-container-id-4 div.sk-dashed-wrapped {border: 1px dashed gray;margin: 0 0.4em 0.5em 0.4em;box-sizing: border-box;padding-bottom: 0.4em;background-color: white;}#sk-container-id-4 div.sk-label label {font-family: monospace;font-weight: bold;display: inline-block;line-height: 1.2em;}#sk-container-id-4 div.sk-label-container {text-align: center;}#sk-container-id-4 div.sk-container {/* jupyter's `normalize.less` sets `[hidden] { display: none; }` but bootstrap.min.css set `[hidden] { display: none !important; }` so we also need the `!important` here to be able to override the default hidden behavior on the sphinx rendered scikit-learn.org. See: https://github.com/scikit-learn/scikit-learn/issues/21755 */display: inline-block !important;position: relative;}#sk-container-id-4 div.sk-text-repr-fallback {display: none;}</style><div id=\"sk-container-id-4\" class=\"sk-top-container\"><div class=\"sk-text-repr-fallback\"><pre>SequentialFeatureSelector(cv=3,\n",
       "                          estimator=HistGradientBoostingClassifier(class_weight=&#x27;balanced&#x27;,\n",
       "                                                                   early_stopping=True,\n",
       "                                                                   max_iter=500,\n",
       "                                                                   n_iter_no_change=100,\n",
       "                                                                   random_state=42,\n",
       "                                                                   validation_fraction=0.3),\n",
       "                          n_features_to_select=&#x27;auto&#x27;, n_jobs=-1,\n",
       "                          scoring=&#x27;f1_macro&#x27;, tol=0.001)</pre><b>In a Jupyter environment, please rerun this cell to show the HTML representation or trust the notebook. <br />On GitHub, the HTML representation is unable to render, please try loading this page with nbviewer.org.</b></div><div class=\"sk-container\" hidden><div class=\"sk-item sk-dashed-wrapped\"><div class=\"sk-label-container\"><div class=\"sk-label sk-toggleable\"><input class=\"sk-toggleable__control sk-hidden--visually\" id=\"sk-estimator-id-8\" type=\"checkbox\" ><label for=\"sk-estimator-id-8\" class=\"sk-toggleable__label sk-toggleable__label-arrow\">SequentialFeatureSelector</label><div class=\"sk-toggleable__content\"><pre>SequentialFeatureSelector(cv=3,\n",
       "                          estimator=HistGradientBoostingClassifier(class_weight=&#x27;balanced&#x27;,\n",
       "                                                                   early_stopping=True,\n",
       "                                                                   max_iter=500,\n",
       "                                                                   n_iter_no_change=100,\n",
       "                                                                   random_state=42,\n",
       "                                                                   validation_fraction=0.3),\n",
       "                          n_features_to_select=&#x27;auto&#x27;, n_jobs=-1,\n",
       "                          scoring=&#x27;f1_macro&#x27;, tol=0.001)</pre></div></div></div><div class=\"sk-parallel\"><div class=\"sk-parallel-item\"><div class=\"sk-item\"><div class=\"sk-label-container\"><div class=\"sk-label sk-toggleable\"><input class=\"sk-toggleable__control sk-hidden--visually\" id=\"sk-estimator-id-9\" type=\"checkbox\" ><label for=\"sk-estimator-id-9\" class=\"sk-toggleable__label sk-toggleable__label-arrow\">estimator: HistGradientBoostingClassifier</label><div class=\"sk-toggleable__content\"><pre>HistGradientBoostingClassifier(class_weight=&#x27;balanced&#x27;, early_stopping=True,\n",
       "                               max_iter=500, n_iter_no_change=100,\n",
       "                               random_state=42, validation_fraction=0.3)</pre></div></div></div><div class=\"sk-serial\"><div class=\"sk-item\"><div class=\"sk-estimator sk-toggleable\"><input class=\"sk-toggleable__control sk-hidden--visually\" id=\"sk-estimator-id-10\" type=\"checkbox\" ><label for=\"sk-estimator-id-10\" class=\"sk-toggleable__label sk-toggleable__label-arrow\">HistGradientBoostingClassifier</label><div class=\"sk-toggleable__content\"><pre>HistGradientBoostingClassifier(class_weight=&#x27;balanced&#x27;, early_stopping=True,\n",
       "                               max_iter=500, n_iter_no_change=100,\n",
       "                               random_state=42, validation_fraction=0.3)</pre></div></div></div></div></div></div></div></div></div></div>"
      ],
      "text/plain": [
       "SequentialFeatureSelector(cv=3,\n",
       "                          estimator=HistGradientBoostingClassifier(class_weight='balanced',\n",
       "                                                                   early_stopping=True,\n",
       "                                                                   max_iter=500,\n",
       "                                                                   n_iter_no_change=100,\n",
       "                                                                   random_state=42,\n",
       "                                                                   validation_fraction=0.3),\n",
       "                          n_features_to_select='auto', n_jobs=-1,\n",
       "                          scoring='f1_macro', tol=0.001)"
      ]
     },
     "execution_count": 117,
     "metadata": {},
     "output_type": "execute_result"
    }
   ],
   "source": [
    "from sklearn.feature_selection import SequentialFeatureSelector\n",
    "\n",
    "hist_model = HistGradientBoostingClassifier(random_state=42,\n",
    "    #categorical_features = [n_components-1],\n",
    "    #l2_regularization=.05,\n",
    "    #categorical_features=[15],\n",
    "    max_iter=500, \n",
    "    #learning_rate=0.5,\n",
    "    #max_leaf_nodes=None, \n",
    "    #min_samples_leaf=10,\n",
    "    #max_bins=255,\n",
    "    early_stopping=True,\n",
    "    class_weight='balanced',\n",
    "    validation_fraction=0.3,\n",
    "    n_iter_no_change=100)\n",
    "#X = MinMaxScaler().fit_transform(X)\n",
    "sfs = SequentialFeatureSelector(hist_model, n_features_to_select='auto', tol=0.001, scoring='f1_macro', cv=3, n_jobs=-1)\n",
    "sfs.fit(X, y)"
   ]
  },
  {
   "cell_type": "code",
   "execution_count": 118,
   "metadata": {},
   "outputs": [
    {
     "data": {
      "text/plain": [
       "array(['1_shifted_cases', '13_shifted_cases', '24_shifted_cases',\n",
       "       '8_shifted_surface_runoff_min'], dtype=object)"
      ]
     },
     "execution_count": 118,
     "metadata": {},
     "output_type": "execute_result"
    }
   ],
   "source": [
    "sfs.get_feature_names_out(\n",
    ")"
   ]
  },
  {
   "cell_type": "markdown",
   "metadata": {},
   "source": [
    "Test 4: non-contiguous time period\n",
    "Results: Inconclusive\n"
   ]
  },
  {
   "cell_type": "code",
   "execution_count": 276,
   "metadata": {},
   "outputs": [
    {
     "name": "stdout",
     "output_type": "stream",
     "text": [
      "17\n",
      "[2. 2. 2. ... 1. 1. 1.]\n"
     ]
    }
   ],
   "source": [
    "predictions = train_models(train_args = {\n",
    "            'start_date': TRAIN_START,\n",
    "            'end_date': TRAIN_END,\n",
    "            'all_data': ALL_DATA,\n",
    "            'env_list': [\n",
    "                'temporal_sdm_aegypti',\n",
    "                'temporal_sdm_albopictus',\n",
    "                #'temporal_sdm_both'\n",
    "                ],\n",
    "            'return_dict': False,\n",
    "            'specific_cases': [1,2,12, 24],\n",
    "            'specific_env': [0,1,2, 11, 23],\n",
    "            'additional_features': [\n",
    "                'month',\n",
    "                'density',\n",
    "                'pop'\n",
    "            ]\n",
    "        },\n",
    "        test_args = {\n",
    "            'start_date': TEST_START,\n",
    "            'end_date': TEST_END,\n",
    "            'all_data': ALL_DATA,\n",
    "            'env_list': [\n",
    "                'temporal_sdm_aegypti',\n",
    "                'temporal_sdm_albopictus',\n",
    "                #'temporal_sdm_both'\n",
    "                ],\n",
    "            'return_dict': False,\n",
    "            'specific_cases': [1,2, 12, 24],\n",
    "            'specific_env': [0,1,2, 11, 23],\n",
    "            'additional_features': [\n",
    "                'month',\n",
    "                'density',\n",
    "                'pop'\n",
    "            ]\n",
    "        }\n",
    ")"
   ]
  },
  {
   "cell_type": "code",
   "execution_count": 277,
   "metadata": {},
   "outputs": [
    {
     "name": "stdout",
     "output_type": "stream",
     "text": [
      "              precision    recall  f1-score   support\n",
      "\n",
      "         0.0       0.90      0.72      0.80     90657\n",
      "         1.0       0.16      0.55      0.25      7933\n",
      "         2.0       0.60      0.58      0.59     30242\n",
      "\n",
      "    accuracy                           0.68    128832\n",
      "   macro avg       0.55      0.62      0.55    128832\n",
      "weighted avg       0.79      0.68      0.72    128832\n",
      "\n"
     ]
    }
   ],
   "source": [
    "print(classification_report(predictions.select('ground_truth').to_series(),predictions.select('predictions').to_series()))"
   ]
  },
  {
   "cell_type": "code",
   "execution_count": 278,
   "metadata": {},
   "outputs": [
    {
     "data": {
      "text/plain": [
       "<sklearn.metrics._plot.confusion_matrix.ConfusionMatrixDisplay at 0x7f15457075d0>"
      ]
     },
     "execution_count": 278,
     "metadata": {},
     "output_type": "execute_result"
    },
    {
     "data": {
      "image/png": "[encoded data removed]",
      "text/plain": [
       "<Figure size 640x480 with 2 Axes>"
      ]
     },
     "metadata": {},
     "output_type": "display_data"
    }
   ],
   "source": [
    "ConfusionMatrixDisplay.from_predictions(predictions.select('ground_truth').to_series(),predictions.select('predictions').to_series())"
   ]
  },
  {
   "cell_type": "markdown",
   "metadata": {},
   "source": [
    "5: Setting up timeseries kfold validation for tests:"
   ]
  },
  {
   "cell_type": "code",
   "execution_count": 7,
   "metadata": {},
   "outputs": [],
   "source": [
    "from sklearn.model_selection import TimeSeriesSplit, cross_validate\n",
    "\n",
    "splitter = TimeSeriesSplit()\n",
    "global_data = create_data_dict('2001-01-01', '2020-11-01', ALL_DATA, env_list=[\n",
    "], specific_cases= [1,12, 24],\n",
    "additional_features= [\n",
    "                'month',\n",
    "                'density',\n",
    "                'pop'\n",
    "            ],\n",
    "            return_dict=False)\n",
    "global_data = (\n",
    "    global_data\n",
    "    .with_columns(pl.col('target').sum().over('muni_id').alias('muni_sum'))\n",
    ")\n",
    "\n",
    "skip_munis = global_data.filter(pl.col('muni_sum') == 0).select('muni_id').unique().to_series()\n",
    "global_data = global_data.filter(pl.col('muni_sum')!=0).select(pl.exclude('muni_sum'))\n",
    "train_data = get_features_for_muni(global_data, CAT_FN, check_zeros=False)\n"
   ]
  },
  {
   "cell_type": "code",
   "execution_count": 10,
   "metadata": {},
   "outputs": [
    {
     "data": {
      "text/plain": [
       "{'fit_time': array([ 24.73059845,  55.08689475,  94.37093258, 132.79846907,\n",
       "        169.16190624]),\n",
       " 'score_time': array([4.31449771, 5.07045603, 6.42933035, 6.69864535, 6.02812672]),\n",
       " 'test_f1_macro': array([0.46128858, 0.4893981 , 0.4986646 , 0.51690755, 0.53363737]),\n",
       " 'test_f1_weighted': array([0.78509446, 0.75279923, 0.72324714, 0.71819312, 0.74819443]),\n",
       " 'test_balanced_accuracy': array([0.43813946, 0.46399753, 0.47555158, 0.49815281, 0.51156919])}"
      ]
     },
     "execution_count": 10,
     "metadata": {},
     "output_type": "execute_result"
    }
   ],
   "source": [
    "from sklearn.compose import make_column_transformer, make_column_selector\n",
    "from sklearn.pipeline import make_pipeline\n",
    "from sklearn.ensemble import RandomForestClassifier, VotingClassifier\n",
    "\n",
    "cat_columns = ['month']\n",
    "\n",
    "scaler = make_column_transformer(\n",
    "    (RobustScaler(), make_column_selector(dtype_exclude='uint32')), remainder=\"passthrough\", verbose_feature_names_out=False,\n",
    ")\n",
    "\n",
    "\n",
    "hist_model = HistGradientBoostingClassifier(\n",
    "    random_state=42,\n",
    "    max_iter=250, \n",
    "    early_stopping=True,\n",
    "    class_weight='balanced',\n",
    "    categorical_features=cat_columns\n",
    "    )\n",
    "rf_model = RandomForestClassifier(\n",
    "    random_state=42,\n",
    "    n_estimators=50,\n",
    "    criterion='entropy'\n",
    ")\n",
    "hist_pipeline = make_pipeline(scaler, hist_model).set_output(transform='pandas')\n",
    "rf_pipeline = make_pipeline(scaler, rf_model).set_output(transform='pandas')\n",
    "vote_pipeline = make_pipeline(scaler, VotingClassifier([('hist', hist_model), ('rf', rf_model)])).set_output(transform='pandas')\n",
    "#voter = VotingClassifier([hist_pipeline, rf_pipeline])\n",
    "\n",
    "cross_validate(vote_pipeline, train_data['X'], train_data['y'], scoring=['f1_macro', 'f1_weighted', 'balanced_accuracy'], cv=TimeSeriesSplit(), n_jobs=-1)\n"
   ]
  },
  {
   "cell_type": "markdown",
   "metadata": {},
   "source": [
    "TODO: Halvinggridsearch - .02 learning rate best on first try\n",
    "      Fix categorical variables and try state/cluster membership\n",
    "      Features seaaaarch better"
   ]
  },
  {
   "cell_type": "code",
   "execution_count": 41,
   "metadata": {},
   "outputs": [
    {
     "name": "stdout",
     "output_type": "stream",
     "text": [
      "n_iterations: 5\n",
      "n_required_iterations: 5\n",
      "n_possible_iterations: 5\n",
      "min_resources_: 100\n",
      "max_resources_: 2500\n",
      "aggressive_elimination: False\n",
      "factor: 2\n",
      "----------\n",
      "iter: 0\n",
      "n_candidates: 25\n",
      "n_resources: 100\n",
      "Fitting 3 folds for each of 25 candidates, totalling 75 fits\n"
     ]
    },
    {
     "ename": "KeyboardInterrupt",
     "evalue": "",
     "output_type": "error",
     "traceback": [
      "\u001b[0;31m---------------------------------------------------------------------------\u001b[0m",
      "\u001b[0;31mKeyboardInterrupt\u001b[0m                         Traceback (most recent call last)",
      "\u001b[1;32m/home/tony/dengue/dengue_models/eda/cat_model_notebook.ipynb Cell 47\u001b[0m line \u001b[0;36m2\n\u001b[1;32m     <a href='vscode-notebook-cell://wsl%2Bubuntu/home/tony/dengue/dengue_models/eda/cat_model_notebook.ipynb#Y104sdnNjb2RlLXJlbW90ZQ%3D%3D?line=18'>19</a>\u001b[0m grid_pipeline \u001b[39m=\u001b[39m make_pipeline(scaler, clf)\u001b[39m.\u001b[39mset_output(transform\u001b[39m=\u001b[39m\u001b[39m'\u001b[39m\u001b[39mpandas\u001b[39m\u001b[39m'\u001b[39m)\n\u001b[1;32m     <a href='vscode-notebook-cell://wsl%2Bubuntu/home/tony/dengue/dengue_models/eda/cat_model_notebook.ipynb#Y104sdnNjb2RlLXJlbW90ZQ%3D%3D?line=21'>22</a>\u001b[0m gsh \u001b[39m=\u001b[39m HalvingRandomSearchCV(\n\u001b[1;32m     <a href='vscode-notebook-cell://wsl%2Bubuntu/home/tony/dengue/dengue_models/eda/cat_model_notebook.ipynb#Y104sdnNjb2RlLXJlbW90ZQ%3D%3D?line=22'>23</a>\u001b[0m     estimator\u001b[39m=\u001b[39mgrid_pipeline, param_distributions\u001b[39m=\u001b[39mparam_grid, factor\u001b[39m=\u001b[39m\u001b[39m2\u001b[39m, random_state\u001b[39m=\u001b[39m\u001b[39m42\u001b[39m, cv\u001b[39m=\u001b[39mTimeSeriesSplit(n_splits\u001b[39m=\u001b[39m\u001b[39m3\u001b[39m), scoring\u001b[39m=\u001b[39m\u001b[39m'\u001b[39m\u001b[39mbalanced_accuracy\u001b[39m\u001b[39m'\u001b[39m, verbose\u001b[39m=\u001b[39m\u001b[39m1\u001b[39m,\n\u001b[1;32m     <a href='vscode-notebook-cell://wsl%2Bubuntu/home/tony/dengue/dengue_models/eda/cat_model_notebook.ipynb#Y104sdnNjb2RlLXJlbW90ZQ%3D%3D?line=23'>24</a>\u001b[0m     min_resources\u001b[39m=\u001b[39m\u001b[39m100\u001b[39m, max_resources\u001b[39m=\u001b[39m\u001b[39m2500\u001b[39m, resource\u001b[39m=\u001b[39m\u001b[39m'\u001b[39m\u001b[39mhistgradientboostingclassifier__max_iter\u001b[39m\u001b[39m'\u001b[39m\n\u001b[1;32m     <a href='vscode-notebook-cell://wsl%2Bubuntu/home/tony/dengue/dengue_models/eda/cat_model_notebook.ipynb#Y104sdnNjb2RlLXJlbW90ZQ%3D%3D?line=24'>25</a>\u001b[0m )\n\u001b[0;32m---> <a href='vscode-notebook-cell://wsl%2Bubuntu/home/tony/dengue/dengue_models/eda/cat_model_notebook.ipynb#Y104sdnNjb2RlLXJlbW90ZQ%3D%3D?line=26'>27</a>\u001b[0m search \u001b[39m=\u001b[39m gsh\u001b[39m.\u001b[39;49mfit(train_data[\u001b[39m'\u001b[39;49m\u001b[39mX\u001b[39;49m\u001b[39m'\u001b[39;49m], train_data[\u001b[39m'\u001b[39;49m\u001b[39my\u001b[39;49m\u001b[39m'\u001b[39;49m])\n\u001b[1;32m     <a href='vscode-notebook-cell://wsl%2Bubuntu/home/tony/dengue/dengue_models/eda/cat_model_notebook.ipynb#Y104sdnNjb2RlLXJlbW90ZQ%3D%3D?line=27'>28</a>\u001b[0m \u001b[39m#grid_pipeline.named_steps\u001b[39;00m\n",
      "File \u001b[0;32m~/mambaforge/envs/new_dengue/lib/python3.11/site-packages/sklearn/model_selection/_search_successive_halving.py:273\u001b[0m, in \u001b[0;36mBaseSuccessiveHalving.fit\u001b[0;34m(self, X, y, groups, **fit_params)\u001b[0m\n\u001b[1;32m    265\u001b[0m \u001b[39mself\u001b[39m\u001b[39m.\u001b[39m_check_input_parameters(\n\u001b[1;32m    266\u001b[0m     X\u001b[39m=\u001b[39mX,\n\u001b[1;32m    267\u001b[0m     y\u001b[39m=\u001b[39my,\n\u001b[1;32m    268\u001b[0m     groups\u001b[39m=\u001b[39mgroups,\n\u001b[1;32m    269\u001b[0m )\n\u001b[1;32m    271\u001b[0m \u001b[39mself\u001b[39m\u001b[39m.\u001b[39m_n_samples_orig \u001b[39m=\u001b[39m _num_samples(X)\n\u001b[0;32m--> 273\u001b[0m \u001b[39msuper\u001b[39;49m()\u001b[39m.\u001b[39;49mfit(X, y\u001b[39m=\u001b[39;49my, groups\u001b[39m=\u001b[39;49mgroups, \u001b[39m*\u001b[39;49m\u001b[39m*\u001b[39;49mfit_params)\n\u001b[1;32m    275\u001b[0m \u001b[39m# Set best_score_: BaseSearchCV does not set it, as refit is a callable\u001b[39;00m\n\u001b[1;32m    276\u001b[0m \u001b[39mself\u001b[39m\u001b[39m.\u001b[39mbest_score_ \u001b[39m=\u001b[39m \u001b[39mself\u001b[39m\u001b[39m.\u001b[39mcv_results_[\u001b[39m\"\u001b[39m\u001b[39mmean_test_score\u001b[39m\u001b[39m\"\u001b[39m][\u001b[39mself\u001b[39m\u001b[39m.\u001b[39mbest_index_]\n",
      "File \u001b[0;32m~/mambaforge/envs/new_dengue/lib/python3.11/site-packages/sklearn/model_selection/_search.py:874\u001b[0m, in \u001b[0;36mBaseSearchCV.fit\u001b[0;34m(self, X, y, groups, **fit_params)\u001b[0m\n\u001b[1;32m    868\u001b[0m     results \u001b[39m=\u001b[39m \u001b[39mself\u001b[39m\u001b[39m.\u001b[39m_format_results(\n\u001b[1;32m    869\u001b[0m         all_candidate_params, n_splits, all_out, all_more_results\n\u001b[1;32m    870\u001b[0m     )\n\u001b[1;32m    872\u001b[0m     \u001b[39mreturn\u001b[39;00m results\n\u001b[0;32m--> 874\u001b[0m \u001b[39mself\u001b[39;49m\u001b[39m.\u001b[39;49m_run_search(evaluate_candidates)\n\u001b[1;32m    876\u001b[0m \u001b[39m# multimetric is determined here because in the case of a callable\u001b[39;00m\n\u001b[1;32m    877\u001b[0m \u001b[39m# self.scoring the return type is only known after calling\u001b[39;00m\n\u001b[1;32m    878\u001b[0m first_test_score \u001b[39m=\u001b[39m all_out[\u001b[39m0\u001b[39m][\u001b[39m\"\u001b[39m\u001b[39mtest_scores\u001b[39m\u001b[39m\"\u001b[39m]\n",
      "File \u001b[0;32m~/mambaforge/envs/new_dengue/lib/python3.11/site-packages/sklearn/model_selection/_search_successive_halving.py:378\u001b[0m, in \u001b[0;36mBaseSuccessiveHalving._run_search\u001b[0;34m(self, evaluate_candidates)\u001b[0m\n\u001b[1;32m    371\u001b[0m     cv \u001b[39m=\u001b[39m \u001b[39mself\u001b[39m\u001b[39m.\u001b[39m_checked_cv_orig\n\u001b[1;32m    373\u001b[0m more_results \u001b[39m=\u001b[39m {\n\u001b[1;32m    374\u001b[0m     \u001b[39m\"\u001b[39m\u001b[39miter\u001b[39m\u001b[39m\"\u001b[39m: [itr] \u001b[39m*\u001b[39m n_candidates,\n\u001b[1;32m    375\u001b[0m     \u001b[39m\"\u001b[39m\u001b[39mn_resources\u001b[39m\u001b[39m\"\u001b[39m: [n_resources] \u001b[39m*\u001b[39m n_candidates,\n\u001b[1;32m    376\u001b[0m }\n\u001b[0;32m--> 378\u001b[0m results \u001b[39m=\u001b[39m evaluate_candidates(\n\u001b[1;32m    379\u001b[0m     candidate_params, cv, more_results\u001b[39m=\u001b[39;49mmore_results\n\u001b[1;32m    380\u001b[0m )\n\u001b[1;32m    382\u001b[0m n_candidates_to_keep \u001b[39m=\u001b[39m ceil(n_candidates \u001b[39m/\u001b[39m \u001b[39mself\u001b[39m\u001b[39m.\u001b[39mfactor)\n\u001b[1;32m    383\u001b[0m candidate_params \u001b[39m=\u001b[39m _top_k(results, n_candidates_to_keep, itr)\n",
      "File \u001b[0;32m~/mambaforge/envs/new_dengue/lib/python3.11/site-packages/sklearn/model_selection/_search.py:821\u001b[0m, in \u001b[0;36mBaseSearchCV.fit.<locals>.evaluate_candidates\u001b[0;34m(candidate_params, cv, more_results)\u001b[0m\n\u001b[1;32m    813\u001b[0m \u001b[39mif\u001b[39;00m \u001b[39mself\u001b[39m\u001b[39m.\u001b[39mverbose \u001b[39m>\u001b[39m \u001b[39m0\u001b[39m:\n\u001b[1;32m    814\u001b[0m     \u001b[39mprint\u001b[39m(\n\u001b[1;32m    815\u001b[0m         \u001b[39m\"\u001b[39m\u001b[39mFitting \u001b[39m\u001b[39m{0}\u001b[39;00m\u001b[39m folds for each of \u001b[39m\u001b[39m{1}\u001b[39;00m\u001b[39m candidates,\u001b[39m\u001b[39m\"\u001b[39m\n\u001b[1;32m    816\u001b[0m         \u001b[39m\"\u001b[39m\u001b[39m totalling \u001b[39m\u001b[39m{2}\u001b[39;00m\u001b[39m fits\u001b[39m\u001b[39m\"\u001b[39m\u001b[39m.\u001b[39mformat(\n\u001b[1;32m    817\u001b[0m             n_splits, n_candidates, n_candidates \u001b[39m*\u001b[39m n_splits\n\u001b[1;32m    818\u001b[0m         )\n\u001b[1;32m    819\u001b[0m     )\n\u001b[0;32m--> 821\u001b[0m out \u001b[39m=\u001b[39m parallel(\n\u001b[1;32m    822\u001b[0m     delayed(_fit_and_score)(\n\u001b[1;32m    823\u001b[0m         clone(base_estimator),\n\u001b[1;32m    824\u001b[0m         X,\n\u001b[1;32m    825\u001b[0m         y,\n\u001b[1;32m    826\u001b[0m         train\u001b[39m=\u001b[39;49mtrain,\n\u001b[1;32m    827\u001b[0m         test\u001b[39m=\u001b[39;49mtest,\n\u001b[1;32m    828\u001b[0m         parameters\u001b[39m=\u001b[39;49mparameters,\n\u001b[1;32m    829\u001b[0m         split_progress\u001b[39m=\u001b[39;49m(split_idx, n_splits),\n\u001b[1;32m    830\u001b[0m         candidate_progress\u001b[39m=\u001b[39;49m(cand_idx, n_candidates),\n\u001b[1;32m    831\u001b[0m         \u001b[39m*\u001b[39;49m\u001b[39m*\u001b[39;49mfit_and_score_kwargs,\n\u001b[1;32m    832\u001b[0m     )\n\u001b[1;32m    833\u001b[0m     \u001b[39mfor\u001b[39;49;00m (cand_idx, parameters), (split_idx, (train, test)) \u001b[39min\u001b[39;49;00m product(\n\u001b[1;32m    834\u001b[0m         \u001b[39menumerate\u001b[39;49m(candidate_params), \u001b[39menumerate\u001b[39;49m(cv\u001b[39m.\u001b[39;49msplit(X, y, groups))\n\u001b[1;32m    835\u001b[0m     )\n\u001b[1;32m    836\u001b[0m )\n\u001b[1;32m    838\u001b[0m \u001b[39mif\u001b[39;00m \u001b[39mlen\u001b[39m(out) \u001b[39m<\u001b[39m \u001b[39m1\u001b[39m:\n\u001b[1;32m    839\u001b[0m     \u001b[39mraise\u001b[39;00m \u001b[39mValueError\u001b[39;00m(\n\u001b[1;32m    840\u001b[0m         \u001b[39m\"\u001b[39m\u001b[39mNo fits were performed. \u001b[39m\u001b[39m\"\u001b[39m\n\u001b[1;32m    841\u001b[0m         \u001b[39m\"\u001b[39m\u001b[39mWas the CV iterator empty? \u001b[39m\u001b[39m\"\u001b[39m\n\u001b[1;32m    842\u001b[0m         \u001b[39m\"\u001b[39m\u001b[39mWere there no candidates?\u001b[39m\u001b[39m\"\u001b[39m\n\u001b[1;32m    843\u001b[0m     )\n",
      "File \u001b[0;32m~/mambaforge/envs/new_dengue/lib/python3.11/site-packages/sklearn/utils/parallel.py:63\u001b[0m, in \u001b[0;36mParallel.__call__\u001b[0;34m(self, iterable)\u001b[0m\n\u001b[1;32m     58\u001b[0m config \u001b[39m=\u001b[39m get_config()\n\u001b[1;32m     59\u001b[0m iterable_with_config \u001b[39m=\u001b[39m (\n\u001b[1;32m     60\u001b[0m     (_with_config(delayed_func, config), args, kwargs)\n\u001b[1;32m     61\u001b[0m     \u001b[39mfor\u001b[39;00m delayed_func, args, kwargs \u001b[39min\u001b[39;00m iterable\n\u001b[1;32m     62\u001b[0m )\n\u001b[0;32m---> 63\u001b[0m \u001b[39mreturn\u001b[39;00m \u001b[39msuper\u001b[39;49m()\u001b[39m.\u001b[39;49m\u001b[39m__call__\u001b[39;49m(iterable_with_config)\n",
      "File \u001b[0;32m~/mambaforge/envs/new_dengue/lib/python3.11/site-packages/joblib/parallel.py:1863\u001b[0m, in \u001b[0;36mParallel.__call__\u001b[0;34m(self, iterable)\u001b[0m\n\u001b[1;32m   1861\u001b[0m     output \u001b[39m=\u001b[39m \u001b[39mself\u001b[39m\u001b[39m.\u001b[39m_get_sequential_output(iterable)\n\u001b[1;32m   1862\u001b[0m     \u001b[39mnext\u001b[39m(output)\n\u001b[0;32m-> 1863\u001b[0m     \u001b[39mreturn\u001b[39;00m output \u001b[39mif\u001b[39;00m \u001b[39mself\u001b[39m\u001b[39m.\u001b[39mreturn_generator \u001b[39melse\u001b[39;00m \u001b[39mlist\u001b[39m(output)\n\u001b[1;32m   1865\u001b[0m \u001b[39m# Let's create an ID that uniquely identifies the current call. If the\u001b[39;00m\n\u001b[1;32m   1866\u001b[0m \u001b[39m# call is interrupted early and that the same instance is immediately\u001b[39;00m\n\u001b[1;32m   1867\u001b[0m \u001b[39m# re-used, this id will be used to prevent workers that were\u001b[39;00m\n\u001b[1;32m   1868\u001b[0m \u001b[39m# concurrently finalizing a task from the previous call to run the\u001b[39;00m\n\u001b[1;32m   1869\u001b[0m \u001b[39m# callback.\u001b[39;00m\n\u001b[1;32m   1870\u001b[0m \u001b[39mwith\u001b[39;00m \u001b[39mself\u001b[39m\u001b[39m.\u001b[39m_lock:\n",
      "File \u001b[0;32m~/mambaforge/envs/new_dengue/lib/python3.11/site-packages/joblib/parallel.py:1792\u001b[0m, in \u001b[0;36mParallel._get_sequential_output\u001b[0;34m(self, iterable)\u001b[0m\n\u001b[1;32m   1790\u001b[0m \u001b[39mself\u001b[39m\u001b[39m.\u001b[39mn_dispatched_batches \u001b[39m+\u001b[39m\u001b[39m=\u001b[39m \u001b[39m1\u001b[39m\n\u001b[1;32m   1791\u001b[0m \u001b[39mself\u001b[39m\u001b[39m.\u001b[39mn_dispatched_tasks \u001b[39m+\u001b[39m\u001b[39m=\u001b[39m \u001b[39m1\u001b[39m\n\u001b[0;32m-> 1792\u001b[0m res \u001b[39m=\u001b[39m func(\u001b[39m*\u001b[39;49margs, \u001b[39m*\u001b[39;49m\u001b[39m*\u001b[39;49mkwargs)\n\u001b[1;32m   1793\u001b[0m \u001b[39mself\u001b[39m\u001b[39m.\u001b[39mn_completed_tasks \u001b[39m+\u001b[39m\u001b[39m=\u001b[39m \u001b[39m1\u001b[39m\n\u001b[1;32m   1794\u001b[0m \u001b[39mself\u001b[39m\u001b[39m.\u001b[39mprint_progress()\n",
      "File \u001b[0;32m~/mambaforge/envs/new_dengue/lib/python3.11/site-packages/sklearn/utils/parallel.py:123\u001b[0m, in \u001b[0;36m_FuncWrapper.__call__\u001b[0;34m(self, *args, **kwargs)\u001b[0m\n\u001b[1;32m    121\u001b[0m     config \u001b[39m=\u001b[39m {}\n\u001b[1;32m    122\u001b[0m \u001b[39mwith\u001b[39;00m config_context(\u001b[39m*\u001b[39m\u001b[39m*\u001b[39mconfig):\n\u001b[0;32m--> 123\u001b[0m     \u001b[39mreturn\u001b[39;00m \u001b[39mself\u001b[39;49m\u001b[39m.\u001b[39;49mfunction(\u001b[39m*\u001b[39;49margs, \u001b[39m*\u001b[39;49m\u001b[39m*\u001b[39;49mkwargs)\n",
      "File \u001b[0;32m~/mambaforge/envs/new_dengue/lib/python3.11/site-packages/sklearn/model_selection/_validation.py:686\u001b[0m, in \u001b[0;36m_fit_and_score\u001b[0;34m(estimator, X, y, scorer, train, test, verbose, parameters, fit_params, return_train_score, return_parameters, return_n_test_samples, return_times, return_estimator, split_progress, candidate_progress, error_score)\u001b[0m\n\u001b[1;32m    684\u001b[0m         estimator\u001b[39m.\u001b[39mfit(X_train, \u001b[39m*\u001b[39m\u001b[39m*\u001b[39mfit_params)\n\u001b[1;32m    685\u001b[0m     \u001b[39melse\u001b[39;00m:\n\u001b[0;32m--> 686\u001b[0m         estimator\u001b[39m.\u001b[39;49mfit(X_train, y_train, \u001b[39m*\u001b[39;49m\u001b[39m*\u001b[39;49mfit_params)\n\u001b[1;32m    688\u001b[0m \u001b[39mexcept\u001b[39;00m \u001b[39mException\u001b[39;00m:\n\u001b[1;32m    689\u001b[0m     \u001b[39m# Note fit time as time until error\u001b[39;00m\n\u001b[1;32m    690\u001b[0m     fit_time \u001b[39m=\u001b[39m time\u001b[39m.\u001b[39mtime() \u001b[39m-\u001b[39m start_time\n",
      "File \u001b[0;32m~/mambaforge/envs/new_dengue/lib/python3.11/site-packages/sklearn/pipeline.py:405\u001b[0m, in \u001b[0;36mPipeline.fit\u001b[0;34m(self, X, y, **fit_params)\u001b[0m\n\u001b[1;32m    403\u001b[0m     \u001b[39mif\u001b[39;00m \u001b[39mself\u001b[39m\u001b[39m.\u001b[39m_final_estimator \u001b[39m!=\u001b[39m \u001b[39m\"\u001b[39m\u001b[39mpassthrough\u001b[39m\u001b[39m\"\u001b[39m:\n\u001b[1;32m    404\u001b[0m         fit_params_last_step \u001b[39m=\u001b[39m fit_params_steps[\u001b[39mself\u001b[39m\u001b[39m.\u001b[39msteps[\u001b[39m-\u001b[39m\u001b[39m1\u001b[39m][\u001b[39m0\u001b[39m]]\n\u001b[0;32m--> 405\u001b[0m         \u001b[39mself\u001b[39;49m\u001b[39m.\u001b[39;49m_final_estimator\u001b[39m.\u001b[39;49mfit(Xt, y, \u001b[39m*\u001b[39;49m\u001b[39m*\u001b[39;49mfit_params_last_step)\n\u001b[1;32m    407\u001b[0m \u001b[39mreturn\u001b[39;00m \u001b[39mself\u001b[39m\n",
      "File \u001b[0;32m~/mambaforge/envs/new_dengue/lib/python3.11/site-packages/sklearn/ensemble/_hist_gradient_boosting/gradient_boosting.py:670\u001b[0m, in \u001b[0;36mBaseHistGradientBoosting.fit\u001b[0;34m(self, X, y, sample_weight)\u001b[0m\n\u001b[1;32m    668\u001b[0m \u001b[39m# Build `n_trees_per_iteration` trees.\u001b[39;00m\n\u001b[1;32m    669\u001b[0m \u001b[39mfor\u001b[39;00m k \u001b[39min\u001b[39;00m \u001b[39mrange\u001b[39m(\u001b[39mself\u001b[39m\u001b[39m.\u001b[39mn_trees_per_iteration_):\n\u001b[0;32m--> 670\u001b[0m     grower \u001b[39m=\u001b[39m TreeGrower(\n\u001b[1;32m    671\u001b[0m         X_binned\u001b[39m=\u001b[39;49mX_binned_train,\n\u001b[1;32m    672\u001b[0m         gradients\u001b[39m=\u001b[39;49mg_view[:, k],\n\u001b[1;32m    673\u001b[0m         hessians\u001b[39m=\u001b[39;49mh_view[:, k],\n\u001b[1;32m    674\u001b[0m         n_bins\u001b[39m=\u001b[39;49mn_bins,\n\u001b[1;32m    675\u001b[0m         n_bins_non_missing\u001b[39m=\u001b[39;49m\u001b[39mself\u001b[39;49m\u001b[39m.\u001b[39;49m_bin_mapper\u001b[39m.\u001b[39;49mn_bins_non_missing_,\n\u001b[1;32m    676\u001b[0m         has_missing_values\u001b[39m=\u001b[39;49mhas_missing_values,\n\u001b[1;32m    677\u001b[0m         is_categorical\u001b[39m=\u001b[39;49m\u001b[39mself\u001b[39;49m\u001b[39m.\u001b[39;49mis_categorical_,\n\u001b[1;32m    678\u001b[0m         monotonic_cst\u001b[39m=\u001b[39;49mmonotonic_cst,\n\u001b[1;32m    679\u001b[0m         interaction_cst\u001b[39m=\u001b[39;49minteraction_cst,\n\u001b[1;32m    680\u001b[0m         max_leaf_nodes\u001b[39m=\u001b[39;49m\u001b[39mself\u001b[39;49m\u001b[39m.\u001b[39;49mmax_leaf_nodes,\n\u001b[1;32m    681\u001b[0m         max_depth\u001b[39m=\u001b[39;49m\u001b[39mself\u001b[39;49m\u001b[39m.\u001b[39;49mmax_depth,\n\u001b[1;32m    682\u001b[0m         min_samples_leaf\u001b[39m=\u001b[39;49m\u001b[39mself\u001b[39;49m\u001b[39m.\u001b[39;49mmin_samples_leaf,\n\u001b[1;32m    683\u001b[0m         l2_regularization\u001b[39m=\u001b[39;49m\u001b[39mself\u001b[39;49m\u001b[39m.\u001b[39;49ml2_regularization,\n\u001b[1;32m    684\u001b[0m         shrinkage\u001b[39m=\u001b[39;49m\u001b[39mself\u001b[39;49m\u001b[39m.\u001b[39;49mlearning_rate,\n\u001b[1;32m    685\u001b[0m         n_threads\u001b[39m=\u001b[39;49mn_threads,\n\u001b[1;32m    686\u001b[0m     )\n\u001b[1;32m    687\u001b[0m     grower\u001b[39m.\u001b[39mgrow()\n\u001b[1;32m    689\u001b[0m     acc_apply_split_time \u001b[39m+\u001b[39m\u001b[39m=\u001b[39m grower\u001b[39m.\u001b[39mtotal_apply_split_time\n",
      "File \u001b[0;32m~/mambaforge/envs/new_dengue/lib/python3.11/site-packages/sklearn/ensemble/_hist_gradient_boosting/grower.py:332\u001b[0m, in \u001b[0;36mTreeGrower.__init__\u001b[0;34m(self, X_binned, gradients, hessians, max_leaf_nodes, max_depth, min_samples_leaf, min_gain_to_split, n_bins, n_bins_non_missing, has_missing_values, is_categorical, monotonic_cst, interaction_cst, l2_regularization, min_hessian_to_split, shrinkage, n_threads)\u001b[0m\n\u001b[1;32m    330\u001b[0m \u001b[39mself\u001b[39m\u001b[39m.\u001b[39mtotal_apply_split_time \u001b[39m=\u001b[39m \u001b[39m0.0\u001b[39m  \u001b[39m# time spent splitting nodes\u001b[39;00m\n\u001b[1;32m    331\u001b[0m \u001b[39mself\u001b[39m\u001b[39m.\u001b[39mn_categorical_splits \u001b[39m=\u001b[39m \u001b[39m0\u001b[39m\n\u001b[0;32m--> 332\u001b[0m \u001b[39mself\u001b[39;49m\u001b[39m.\u001b[39;49m_intilialize_root(gradients, hessians, hessians_are_constant)\n\u001b[1;32m    333\u001b[0m \u001b[39mself\u001b[39m\u001b[39m.\u001b[39mn_nodes \u001b[39m=\u001b[39m \u001b[39m1\u001b[39m\n",
      "File \u001b[0;32m~/mambaforge/envs/new_dengue/lib/python3.11/site-packages/sklearn/ensemble/_hist_gradient_boosting/grower.py:422\u001b[0m, in \u001b[0;36mTreeGrower._intilialize_root\u001b[0;34m(self, gradients, hessians, hessians_are_constant)\u001b[0m\n\u001b[1;32m    419\u001b[0m \u001b[39mself\u001b[39m\u001b[39m.\u001b[39mtotal_compute_hist_time \u001b[39m+\u001b[39m\u001b[39m=\u001b[39m time() \u001b[39m-\u001b[39m tic\n\u001b[1;32m    421\u001b[0m tic \u001b[39m=\u001b[39m time()\n\u001b[0;32m--> 422\u001b[0m \u001b[39mself\u001b[39;49m\u001b[39m.\u001b[39;49m_compute_best_split_and_push(\u001b[39mself\u001b[39;49m\u001b[39m.\u001b[39;49mroot)\n\u001b[1;32m    423\u001b[0m \u001b[39mself\u001b[39m\u001b[39m.\u001b[39mtotal_find_split_time \u001b[39m+\u001b[39m\u001b[39m=\u001b[39m time() \u001b[39m-\u001b[39m tic\n",
      "File \u001b[0;32m~/mambaforge/envs/new_dengue/lib/python3.11/site-packages/sklearn/ensemble/_hist_gradient_boosting/grower.py:434\u001b[0m, in \u001b[0;36mTreeGrower._compute_best_split_and_push\u001b[0;34m(self, node)\u001b[0m\n\u001b[1;32m    425\u001b[0m \u001b[39mdef\u001b[39;00m \u001b[39m_compute_best_split_and_push\u001b[39m(\u001b[39mself\u001b[39m, node):\n\u001b[1;32m    426\u001b[0m \u001b[39m    \u001b[39m\u001b[39m\"\"\"Compute the best possible split (SplitInfo) of a given node.\u001b[39;00m\n\u001b[1;32m    427\u001b[0m \n\u001b[1;32m    428\u001b[0m \u001b[39m    Also push it in the heap of splittable nodes if gain isn't zero.\u001b[39;00m\n\u001b[0;32m   (...)\u001b[0m\n\u001b[1;32m    431\u001b[0m \u001b[39m    (min_hessians_to_split, min_gain_to_split, min_samples_leaf)\u001b[39;00m\n\u001b[1;32m    432\u001b[0m \u001b[39m    \"\"\"\u001b[39;00m\n\u001b[0;32m--> 434\u001b[0m     node\u001b[39m.\u001b[39msplit_info \u001b[39m=\u001b[39m \u001b[39mself\u001b[39;49m\u001b[39m.\u001b[39;49msplitter\u001b[39m.\u001b[39;49mfind_node_split(\n\u001b[1;32m    435\u001b[0m         n_samples\u001b[39m=\u001b[39;49mnode\u001b[39m.\u001b[39;49mn_samples,\n\u001b[1;32m    436\u001b[0m         histograms\u001b[39m=\u001b[39;49mnode\u001b[39m.\u001b[39;49mhistograms,\n\u001b[1;32m    437\u001b[0m         sum_gradients\u001b[39m=\u001b[39;49mnode\u001b[39m.\u001b[39;49msum_gradients,\n\u001b[1;32m    438\u001b[0m         sum_hessians\u001b[39m=\u001b[39;49mnode\u001b[39m.\u001b[39;49msum_hessians,\n\u001b[1;32m    439\u001b[0m         value\u001b[39m=\u001b[39;49mnode\u001b[39m.\u001b[39;49mvalue,\n\u001b[1;32m    440\u001b[0m         lower_bound\u001b[39m=\u001b[39;49mnode\u001b[39m.\u001b[39;49mchildren_lower_bound,\n\u001b[1;32m    441\u001b[0m         upper_bound\u001b[39m=\u001b[39;49mnode\u001b[39m.\u001b[39;49mchildren_upper_bound,\n\u001b[1;32m    442\u001b[0m         allowed_features\u001b[39m=\u001b[39;49mnode\u001b[39m.\u001b[39;49mallowed_features,\n\u001b[1;32m    443\u001b[0m     )\n\u001b[1;32m    445\u001b[0m     \u001b[39mif\u001b[39;00m node\u001b[39m.\u001b[39msplit_info\u001b[39m.\u001b[39mgain \u001b[39m<\u001b[39m\u001b[39m=\u001b[39m \u001b[39m0\u001b[39m:  \u001b[39m# no valid split\u001b[39;00m\n\u001b[1;32m    446\u001b[0m         \u001b[39mself\u001b[39m\u001b[39m.\u001b[39m_finalize_leaf(node)\n",
      "\u001b[0;31mKeyboardInterrupt\u001b[0m: "
     ]
    }
   ],
   "source": [
    "from sklearn.experimental import enable_halving_search_cv  # noqa\n",
    "from sklearn.model_selection import GridSearchCV, HalvingGridSearchCV, HalvingRandomSearchCV\n",
    "import scipy.stats as stats\n",
    "\n",
    "param_grid = {\n",
    "    'histgradientboostingclassifier__learning_rate': stats.loguniform(.0001, .1 ),\n",
    "    'histgradientboostingclassifier__l2_regularization': stats.uniform(0,2),\n",
    "    'histgradientboostingclassifier__max_leaf_nodes': stats.randint(1, 100),\n",
    "    'histgradientboostingclassifier__min_samples_leaf': stats.randint(1, 100)\n",
    "}\n",
    "\n",
    "clf = HistGradientBoostingClassifier(\n",
    "    random_state=42,\n",
    "    early_stopping=True,\n",
    "    class_weight='balanced',\n",
    "    categorical_features=cat_columns\n",
    "    )\n",
    "\n",
    "grid_pipeline = make_pipeline(scaler, clf).set_output(transform='pandas')\n",
    "\n",
    "\n",
    "gsh = HalvingRandomSearchCV(\n",
    "    estimator=grid_pipeline, param_distributions=param_grid, factor=2, random_state=42, cv=TimeSeriesSplit(n_splits=4), scoring='balanced_accuracy', verbose=1,\n",
    "    min_resources=100, max_resources=5000, resource='histgradientboostingclassifier__max_iter'\n",
    ")\n",
    "\n",
    "search = gsh.fit(train_data['X'], train_data['y'])\n",
    "#grid_pipeline.named_steps\n"
   ]
  },
  {
   "cell_type": "code",
   "execution_count": 38,
   "metadata": {},
   "outputs": [
    {
     "data": {
      "text/plain": [
       "{'iter': array([0, 0, 0, 0, 0, 0, 0, 0, 0, 0, 0, 0, 0, 0, 0, 0, 0, 0, 0, 0, 0, 0,\n",
       "        0, 0, 0, 1, 1, 1, 1, 1, 1, 1, 1, 1, 2, 2, 2]),\n",
       " 'n_resources': array([100, 100, 100, 100, 100, 100, 100, 100, 100, 100, 100, 100, 100,\n",
       "        100, 100, 100, 100, 100, 100, 100, 100, 100, 100, 100, 100, 300,\n",
       "        300, 300, 300, 300, 300, 300, 300, 300, 900, 900, 900]),\n",
       " 'mean_fit_time': array([ 2.26094635,  1.02120288,  1.20614481,  1.53369697,  4.92304571,\n",
       "         4.20645634,  5.63758508,  1.08440145,  1.67618783,  1.27316435,\n",
       "        11.04394094,  1.14466421,  3.38010144,  7.06872161,  4.56787761,\n",
       "         3.87214144,  4.33379992,  1.59729226,  1.67089248,  3.0994002 ,\n",
       "         1.36377263,  4.92918619,  2.25477068,  2.23482688,  1.52217642,\n",
       "         2.29978267,  3.48955154,  4.16823681,  4.40659873,  4.8437771 ,\n",
       "         5.022686  ,  4.25602436, 19.26879851, 13.54186273,  5.36666417,\n",
       "        15.23695294, 28.63119125]),\n",
       " 'std_fit_time': array([ 0.98610204,  0.32496149,  0.4523071 ,  0.80031861,  2.18757421,\n",
       "         1.80569234,  1.92172206,  0.37055729,  0.5265854 ,  0.51184772,\n",
       "         5.368957  ,  0.56052222,  1.82508294,  5.03368943,  2.01966844,\n",
       "         2.16566698,  3.81087559,  0.76560274,  0.79222458,  1.425849  ,\n",
       "         0.52896078,  1.72043975,  0.85273018,  1.06254215,  0.53280165,\n",
       "         0.89583311,  1.45618989,  1.74452244,  1.72220301,  2.70810231,\n",
       "         2.26934148,  2.46315627,  9.79866097,  8.9370396 ,  3.88659985,\n",
       "         9.06549021, 17.40861687]),\n",
       " 'mean_score_time': array([0.47019951, 0.32652068, 0.34390044, 0.38953853, 0.7569116 ,\n",
       "        0.73096792, 0.9765288 , 0.31199137, 0.36795664, 0.33531133,\n",
       "        1.04952558, 0.30242674, 0.34435391, 1.22792649, 0.70944397,\n",
       "        0.64746769, 0.47841612, 0.37194761, 0.38591067, 0.5673941 ,\n",
       "        0.34578649, 0.85906998, 0.46518048, 0.47619263, 0.36871298,\n",
       "        0.47428274, 0.64426176, 0.68956161, 0.89166101, 0.77317413,\n",
       "        0.85259612, 0.67948588, 2.50490793, 2.01883753, 0.7014304 ,\n",
       "        1.85074782, 3.88107141]),\n",
       " 'std_score_time': array([0.02764371, 0.01870807, 0.02418567, 0.04067349, 0.06824484,\n",
       "        0.06772517, 0.01844799, 0.00850616, 0.02278617, 0.02978999,\n",
       "        0.01297411, 0.01324344, 0.01923974, 0.77621069, 0.07275735,\n",
       "        0.16084623, 0.02334337, 0.03539565, 0.02410377, 0.03274865,\n",
       "        0.0242853 , 0.05948175, 0.00730019, 0.05308257, 0.02185021,\n",
       "        0.03311203, 0.06687764, 0.07377024, 0.2149018 , 0.160716  ,\n",
       "        0.11251404, 0.18330635, 0.1041241 , 0.72746467, 0.17325975,\n",
       "        0.39846438, 1.13313698]),\n",
       " 'param_histgradientboostingclassifier__learning_rate': masked_array(data=[0.3745401188473625, 0.9507143064099162,\n",
       "                    0.7319939418114051, 0.5986584841970366,\n",
       "                    0.15601864044243652, 0.15599452033620265,\n",
       "                    0.05808361216819946, 0.8661761457749352,\n",
       "                    0.6011150117432088, 0.7080725777960455,\n",
       "                    0.020584494295802447, 0.9699098521619943,\n",
       "                    0.8324426408004217, 0.21233911067827616,\n",
       "                    0.18182496720710062, 0.18340450985343382,\n",
       "                    0.3042422429595377, 0.5247564316322378,\n",
       "                    0.43194501864211576, 0.2912291401980419,\n",
       "                    0.6118528947223795, 0.13949386065204183,\n",
       "                    0.29214464853521815, 0.3663618432936917,\n",
       "                    0.45606998421703593, 0.29214464853521815,\n",
       "                    0.21233911067827616, 0.18182496720710062,\n",
       "                    0.15601864044243652, 0.15599452033620265,\n",
       "                    0.13949386065204183, 0.18340450985343382,\n",
       "                    0.020584494295802447, 0.05808361216819946,\n",
       "                    0.18340450985343382, 0.05808361216819946,\n",
       "                    0.020584494295802447],\n",
       "              mask=[False, False, False, False, False, False, False, False,\n",
       "                    False, False, False, False, False, False, False, False,\n",
       "                    False, False, False, False, False, False, False, False,\n",
       "                    False, False, False, False, False, False, False, False,\n",
       "                    False, False, False, False, False],\n",
       "        fill_value='?',\n",
       "             dtype=object),\n",
       " 'param_histgradientboostingclassifier__max_iter': masked_array(data=[100, 100, 100, 100, 100, 100, 100, 100, 100, 100, 100,\n",
       "                    100, 100, 100, 100, 100, 100, 100, 100, 100, 100, 100,\n",
       "                    100, 100, 100, 300, 300, 300, 300, 300, 300, 300, 300,\n",
       "                    300, 900, 900, 900],\n",
       "              mask=[False, False, False, False, False, False, False, False,\n",
       "                    False, False, False, False, False, False, False, False,\n",
       "                    False, False, False, False, False, False, False, False,\n",
       "                    False, False, False, False, False, False, False, False,\n",
       "                    False, False, False, False, False],\n",
       "        fill_value='?',\n",
       "             dtype=object),\n",
       " 'params': [{'histgradientboostingclassifier__learning_rate': 0.3745401188473625,\n",
       "   'histgradientboostingclassifier__max_iter': 100},\n",
       "  {'histgradientboostingclassifier__learning_rate': 0.9507143064099162,\n",
       "   'histgradientboostingclassifier__max_iter': 100},\n",
       "  {'histgradientboostingclassifier__learning_rate': 0.7319939418114051,\n",
       "   'histgradientboostingclassifier__max_iter': 100},\n",
       "  {'histgradientboostingclassifier__learning_rate': 0.5986584841970366,\n",
       "   'histgradientboostingclassifier__max_iter': 100},\n",
       "  {'histgradientboostingclassifier__learning_rate': 0.15601864044243652,\n",
       "   'histgradientboostingclassifier__max_iter': 100},\n",
       "  {'histgradientboostingclassifier__learning_rate': 0.15599452033620265,\n",
       "   'histgradientboostingclassifier__max_iter': 100},\n",
       "  {'histgradientboostingclassifier__learning_rate': 0.05808361216819946,\n",
       "   'histgradientboostingclassifier__max_iter': 100},\n",
       "  {'histgradientboostingclassifier__learning_rate': 0.8661761457749352,\n",
       "   'histgradientboostingclassifier__max_iter': 100},\n",
       "  {'histgradientboostingclassifier__learning_rate': 0.6011150117432088,\n",
       "   'histgradientboostingclassifier__max_iter': 100},\n",
       "  {'histgradientboostingclassifier__learning_rate': 0.7080725777960455,\n",
       "   'histgradientboostingclassifier__max_iter': 100},\n",
       "  {'histgradientboostingclassifier__learning_rate': 0.020584494295802447,\n",
       "   'histgradientboostingclassifier__max_iter': 100},\n",
       "  {'histgradientboostingclassifier__learning_rate': 0.9699098521619943,\n",
       "   'histgradientboostingclassifier__max_iter': 100},\n",
       "  {'histgradientboostingclassifier__learning_rate': 0.8324426408004217,\n",
       "   'histgradientboostingclassifier__max_iter': 100},\n",
       "  {'histgradientboostingclassifier__learning_rate': 0.21233911067827616,\n",
       "   'histgradientboostingclassifier__max_iter': 100},\n",
       "  {'histgradientboostingclassifier__learning_rate': 0.18182496720710062,\n",
       "   'histgradientboostingclassifier__max_iter': 100},\n",
       "  {'histgradientboostingclassifier__learning_rate': 0.18340450985343382,\n",
       "   'histgradientboostingclassifier__max_iter': 100},\n",
       "  {'histgradientboostingclassifier__learning_rate': 0.3042422429595377,\n",
       "   'histgradientboostingclassifier__max_iter': 100},\n",
       "  {'histgradientboostingclassifier__learning_rate': 0.5247564316322378,\n",
       "   'histgradientboostingclassifier__max_iter': 100},\n",
       "  {'histgradientboostingclassifier__learning_rate': 0.43194501864211576,\n",
       "   'histgradientboostingclassifier__max_iter': 100},\n",
       "  {'histgradientboostingclassifier__learning_rate': 0.2912291401980419,\n",
       "   'histgradientboostingclassifier__max_iter': 100},\n",
       "  {'histgradientboostingclassifier__learning_rate': 0.6118528947223795,\n",
       "   'histgradientboostingclassifier__max_iter': 100},\n",
       "  {'histgradientboostingclassifier__learning_rate': 0.13949386065204183,\n",
       "   'histgradientboostingclassifier__max_iter': 100},\n",
       "  {'histgradientboostingclassifier__learning_rate': 0.29214464853521815,\n",
       "   'histgradientboostingclassifier__max_iter': 100},\n",
       "  {'histgradientboostingclassifier__learning_rate': 0.3663618432936917,\n",
       "   'histgradientboostingclassifier__max_iter': 100},\n",
       "  {'histgradientboostingclassifier__learning_rate': 0.45606998421703593,\n",
       "   'histgradientboostingclassifier__max_iter': 100},\n",
       "  {'histgradientboostingclassifier__learning_rate': 0.29214464853521815,\n",
       "   'histgradientboostingclassifier__max_iter': 300},\n",
       "  {'histgradientboostingclassifier__learning_rate': 0.21233911067827616,\n",
       "   'histgradientboostingclassifier__max_iter': 300},\n",
       "  {'histgradientboostingclassifier__learning_rate': 0.18182496720710062,\n",
       "   'histgradientboostingclassifier__max_iter': 300},\n",
       "  {'histgradientboostingclassifier__learning_rate': 0.15601864044243652,\n",
       "   'histgradientboostingclassifier__max_iter': 300},\n",
       "  {'histgradientboostingclassifier__learning_rate': 0.15599452033620265,\n",
       "   'histgradientboostingclassifier__max_iter': 300},\n",
       "  {'histgradientboostingclassifier__learning_rate': 0.13949386065204183,\n",
       "   'histgradientboostingclassifier__max_iter': 300},\n",
       "  {'histgradientboostingclassifier__learning_rate': 0.18340450985343382,\n",
       "   'histgradientboostingclassifier__max_iter': 300},\n",
       "  {'histgradientboostingclassifier__learning_rate': 0.020584494295802447,\n",
       "   'histgradientboostingclassifier__max_iter': 300},\n",
       "  {'histgradientboostingclassifier__learning_rate': 0.05808361216819946,\n",
       "   'histgradientboostingclassifier__max_iter': 300},\n",
       "  {'histgradientboostingclassifier__learning_rate': 0.18340450985343382,\n",
       "   'histgradientboostingclassifier__max_iter': 900},\n",
       "  {'histgradientboostingclassifier__learning_rate': 0.05808361216819946,\n",
       "   'histgradientboostingclassifier__max_iter': 900},\n",
       "  {'histgradientboostingclassifier__learning_rate': 0.020584494295802447,\n",
       "   'histgradientboostingclassifier__max_iter': 900}],\n",
       " 'split0_test_score': array([0.5645947 , 0.55453718, 0.5565961 , 0.55997259, 0.56768389,\n",
       "        0.56774195, 0.57321697, 0.55431451, 0.55827954, 0.55819028,\n",
       "        0.57475251, 0.54157245, 0.55071764, 0.56805256, 0.56839249,\n",
       "        0.57215335, 0.56700487, 0.56269779, 0.5637633 , 0.56662665,\n",
       "        0.56198558, 0.57074092, 0.56651129, 0.56672497, 0.56320851,\n",
       "        0.56651129, 0.56805256, 0.56839249, 0.56768389, 0.56774195,\n",
       "        0.57074092, 0.57215335, 0.57420705, 0.57303518, 0.57215335,\n",
       "        0.57303518, 0.57318625]),\n",
       " 'split1_test_score': array([0.5970132 , 0.58799765, 0.59069296, 0.5936823 , 0.60207744,\n",
       "        0.60298431, 0.60581297, 0.59189844, 0.59373438, 0.59097011,\n",
       "        0.60384713, 0.5605869 , 0.5920361 , 0.59963842, 0.60109318,\n",
       "        0.60230184, 0.59960495, 0.59367075, 0.59972212, 0.59980233,\n",
       "        0.58969669, 0.60178048, 0.60016805, 0.59757805, 0.59680837,\n",
       "        0.60016805, 0.59963842, 0.60109318, 0.60207744, 0.60298431,\n",
       "        0.60181919, 0.60230184, 0.6057758 , 0.60322139, 0.60230184,\n",
       "        0.60322139, 0.60541835]),\n",
       " 'split2_test_score': array([0.60366916, 0.59724517, 0.60189911, 0.59769642, 0.60758333,\n",
       "        0.60746105, 0.60969594, 0.59889355, 0.59964507, 0.60099049,\n",
       "        0.60749648, 0.59381947, 0.59880455, 0.60706568, 0.60717451,\n",
       "        0.60735578, 0.60545727, 0.6023355 , 0.60498314, 0.60575553,\n",
       "        0.60231129, 0.60796262, 0.60648924, 0.60377676, 0.60513438,\n",
       "        0.60648924, 0.60706568, 0.60717451, 0.60752786, 0.60741238,\n",
       "        0.60752249, 0.60689502, 0.60901545, 0.60856152, 0.60689502,\n",
       "        0.60815099, 0.60879234]),\n",
       " 'mean_test_score': array([0.58842569, 0.57992667, 0.58306272, 0.58378377, 0.59244822,\n",
       "        0.59272911, 0.59624196, 0.58170217, 0.58388633, 0.58338362,\n",
       "        0.59536537, 0.56532627, 0.58051943, 0.59158555, 0.59222006,\n",
       "        0.59393699, 0.59068903, 0.58623468, 0.58948952, 0.59072817,\n",
       "        0.58466452, 0.59349468, 0.59105619, 0.58935993, 0.58838375,\n",
       "        0.59105619, 0.59158555, 0.59222006, 0.59242973, 0.59271288,\n",
       "        0.59336087, 0.5937834 , 0.59633277, 0.59493936, 0.5937834 ,\n",
       "        0.59480252, 0.59579898]),\n",
       " 'std_test_score': array([0.01706873, 0.01834573, 0.01926579, 0.01691661, 0.0176547 ,\n",
       "        0.01776286, 0.01635812, 0.01957542, 0.01826681, 0.01827805,\n",
       "        0.01465144, 0.02159142, 0.02125344, 0.01691434, 0.01703057,\n",
       "        0.01554093, 0.01691679, 0.01701487, 0.01831754, 0.01721477,\n",
       "        0.01684305, 0.01628608, 0.01754667, 0.01620416, 0.01812319,\n",
       "        0.01754667, 0.01691434, 0.01703057, 0.01763886, 0.01774941,\n",
       "        0.0161633 , 0.01540928, 0.01570105, 0.01564127, 0.01540928,\n",
       "        0.01552284, 0.01604883]),\n",
       " 'rank_test_score': array([26, 36, 33, 31, 14, 12,  2, 34, 30, 32,  4, 37, 35, 18, 16,  7, 23,\n",
       "        28, 24, 22, 29, 10, 20, 25, 27, 20, 18, 16, 15, 13, 11,  8,  1,  5,\n",
       "         8,  6,  3], dtype=int32),\n",
       " 'split0_train_score': array([0.6210804 , 0.58281116, 0.60702218, 0.60954276, 0.63208498,\n",
       "        0.62766056, 0.6069804 , 0.59652105, 0.61440572, 0.60348186,\n",
       "        0.58538308, 0.55753905, 0.60901847, 0.63060978, 0.6284281 ,\n",
       "        0.6064036 , 0.61027071, 0.60808623, 0.61555464, 0.61262856,\n",
       "        0.60626673, 0.62268539, 0.61886371, 0.61516353, 0.60870929,\n",
       "        0.61886371, 0.63060978, 0.6284281 , 0.63208498, 0.62766056,\n",
       "        0.62268539, 0.6064036 , 0.6074726 , 0.61022868, 0.6064036 ,\n",
       "        0.61022868, 0.61255631]),\n",
       " 'split1_train_score': array([0.61049486, 0.57796455, 0.6006779 , 0.60242631, 0.61261229,\n",
       "        0.60904854, 0.59748149, 0.58563179, 0.60115022, 0.59868062,\n",
       "        0.5879895 , 0.55808074, 0.58807465, 0.6129162 , 0.61052072,\n",
       "        0.61199256, 0.60583546, 0.6032202 , 0.5993875 , 0.61128427,\n",
       "        0.60800943, 0.61266358, 0.60687766, 0.61052037, 0.60526711,\n",
       "        0.60687766, 0.6129162 , 0.61052072, 0.61261229, 0.60904854,\n",
       "        0.61293838, 0.61199256, 0.59810552, 0.61488915, 0.61199256,\n",
       "        0.61488915, 0.60430409]),\n",
       " 'split2_train_score': array([0.61797519, 0.59418208, 0.60507318, 0.61312904, 0.61804453,\n",
       "        0.61757626, 0.60669859, 0.59920116, 0.61390998, 0.60548084,\n",
       "        0.6001953 , 0.58346475, 0.60077974, 0.6183424 , 0.61944008,\n",
       "        0.62066226, 0.61457626, 0.61414612, 0.61236063, 0.6183767 ,\n",
       "        0.6072404 , 0.616475  , 0.61323263, 0.6190386 , 0.6094123 ,\n",
       "        0.61323263, 0.6183424 , 0.61944008, 0.61828919, 0.6237506 ,\n",
       "        0.61962246, 0.62173919, 0.6072785 , 0.62002839, 0.62173919,\n",
       "        0.6230084 , 0.61976639]),\n",
       " 'mean_train_score': array([0.61651681, 0.58498593, 0.60425776, 0.60836603, 0.62091393,\n",
       "        0.61809512, 0.60372016, 0.59378467, 0.60982197, 0.60254777,\n",
       "        0.59118929, 0.56636151, 0.59929096, 0.62062279, 0.61946297,\n",
       "        0.61301947, 0.61022748, 0.60848418, 0.60910092, 0.61409651,\n",
       "        0.60717218, 0.61727466, 0.61299133, 0.6149075 , 0.60779623,\n",
       "        0.61299133, 0.62062279, 0.61946297, 0.62099549, 0.62015323,\n",
       "        0.61841541, 0.61337845, 0.60428554, 0.61504874, 0.61337845,\n",
       "        0.61604208, 0.61220893]),\n",
       " 'std_train_score': array([0.00444286, 0.00679702, 0.00265345, 0.00444789, 0.00820453,\n",
       "        0.00760718, 0.0044129 , 0.00586787, 0.00613519, 0.00285367,\n",
       "        0.00645649, 0.01209583, 0.00861484, 0.00740117, 0.00731068,\n",
       "        0.00586619, 0.00356855, 0.00446935, 0.00699111, 0.0030759 ,\n",
       "        0.00071308, 0.00413028, 0.00489626, 0.00348226, 0.00181124,\n",
       "        0.00489626, 0.00740117, 0.00731068, 0.00817677, 0.00801281,\n",
       "        0.00406971, 0.00633696, 0.00437065, 0.0040023 , 0.00633696,\n",
       "        0.00528061, 0.00631723])}"
      ]
     },
     "execution_count": 38,
     "metadata": {},
     "output_type": "execute_result"
    }
   ],
   "source": [
    "search.cv_results_"
   ]
  }
 ],
 "metadata": {
  "kernelspec": {
   "display_name": "new_dengue",
   "language": "python",
   "name": "python3"
  },
  "language_info": {
   "codemirror_mode": {
    "name": "ipython",
    "version": 3
   },
   "file_extension": ".py",
   "mimetype": "text/x-python",
   "name": "python",
   "nbconvert_exporter": "python",
   "pygments_lexer": "ipython3",
   "version": "3.11.5"
  }
 },
 "nbformat": 4,
 "nbformat_minor": 2
}
