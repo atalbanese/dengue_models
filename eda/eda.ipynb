{
 "cells": [
  {
   "cell_type": "code",
   "execution_count": 33,
   "metadata": {},
   "outputs": [],
   "source": [
    "import polars as pl\n",
    "import geopandas as gpd\n",
    "from sklearn import linear_model\n",
    "from sklearn.model_selection import TimeSeriesSplit\n",
    "from sklearn.ensemble import HistGradientBoostingRegressor\n",
    "from sklearn.preprocessing import MinMaxScaler, OneHotEncoder\n",
    "from datetime import datetime\n",
    "import numpy as np\n",
    "from sklearn.neighbors import NearestNeighbors\n",
    "import matplotlib.pyplot as plt\n",
    "from sklearn.metrics import mean_squared_error"
   ]
  },
  {
   "cell_type": "code",
   "execution_count": 4,
   "metadata": {},
   "outputs": [
    {
     "data": {
      "text/html": [
       "<div><style>\n",
       ".dataframe > thead > tr > th,\n",
       ".dataframe > tbody > tr > td {\n",
       "  text-align: right;\n",
       "  white-space: pre-wrap;\n",
       "}\n",
       "</style>\n",
       "<small>shape: (1_331_230, 30)</small><table border=\"1\" class=\"dataframe\"><thead><tr><th>muni_id</th><th>temporal_sdm_both</th><th>start_date</th><th>end_date</th><th>temporal_sdm_albopictus</th><th>start_date_temporal_sdm_albopictus</th><th>temporal_sdm_aegypti</th><th>start_date_temporal_sdm_aegypti</th><th>EVI</th><th>start_date_EVI</th><th>total_evaporation_sum</th><th>start_date_total_evaporation_sum</th><th>total_precipitation_sum</th><th>start_date_total_precipitation_sum</th><th>evaporation_from_open_water_surfaces_excluding_oceans_min</th><th>start_date_evaporation_from_open_water_surfaces_excluding_oceans_min</th><th>soil_temperature_level_1</th><th>start_date_soil_temperature_level_1</th><th>runoff_sum</th><th>start_date_runoff_sum</th><th>surface_runoff_min</th><th>start_date_surface_runoff_min</th><th>volumetric_soil_water_layer_1</th><th>start_date_volumetric_soil_water_layer_1</th><th>dewpoint_temperature_2m</th><th>start_date_dewpoint_temperature_2m</th><th>temperature_2m</th><th>start_date_temperature_2m</th><th>total_precipitation_min</th><th>start_date_total_precipitation_min</th></tr><tr><td>i64</td><td>f64</td><td>date</td><td>date</td><td>f64</td><td>date</td><td>f64</td><td>date</td><td>f64</td><td>date</td><td>f64</td><td>date</td><td>f64</td><td>date</td><td>f64</td><td>date</td><td>f64</td><td>date</td><td>f64</td><td>date</td><td>f64</td><td>date</td><td>f64</td><td>date</td><td>f64</td><td>date</td><td>f64</td><td>date</td><td>f64</td><td>date</td></tr></thead><tbody><tr><td>110001</td><td>0.293792</td><td>2000-12-03</td><td>2001-02-01</td><td>0.17041</td><td>2000-12-03</td><td>0.294167</td><td>2000-12-03</td><td>0.300041</td><td>2001-01-01</td><td>-0.004177</td><td>2001-01-01</td><td>0.007591</td><td>2001-01-01</td><td>-0.00079</td><td>2001-01-01</td><td>298.132139</td><td>2001-01-01</td><td>0.000449</td><td>2001-01-01</td><td>0.000167</td><td>2001-01-01</td><td>0.478415</td><td>2001-01-01</td><td>295.102645</td><td>2001-01-01</td><td>297.135084</td><td>2001-01-01</td><td>0.007591</td><td>2001-01-01</td></tr><tr><td>110001</td><td>0.393609</td><td>2000-12-31</td><td>2001-03-01</td><td>0.260786</td><td>2000-12-31</td><td>0.385464</td><td>2000-12-31</td><td>0.336085</td><td>2001-02-01</td><td>-0.004181</td><td>2001-02-01</td><td>0.009793</td><td>2001-02-01</td><td>-0.000811</td><td>2001-02-01</td><td>298.299736</td><td>2001-02-01</td><td>0.002602</td><td>2001-02-01</td><td>0.00036</td><td>2001-02-01</td><td>0.479531</td><td>2001-02-01</td><td>295.341811</td><td>2001-02-01</td><td>297.264219</td><td>2001-02-01</td><td>0.009793</td><td>2001-02-01</td></tr><tr><td>110001</td><td>0.332852</td><td>2001-01-31</td><td>2001-04-01</td><td>0.202635</td><td>2001-01-31</td><td>0.331847</td><td>2001-01-31</td><td>0.301703</td><td>2001-03-01</td><td>-0.003997</td><td>2001-03-01</td><td>0.007077</td><td>2001-03-01</td><td>-0.000798</td><td>2001-03-01</td><td>298.32963</td><td>2001-03-01</td><td>0.004117</td><td>2001-03-01</td><td>0.00015</td><td>2001-03-01</td><td>0.479764</td><td>2001-03-01</td><td>295.4766</td><td>2001-03-01</td><td>297.509918</td><td>2001-03-01</td><td>0.007077</td><td>2001-03-01</td></tr><tr><td>110001</td><td>0.256582</td><td>2001-03-02</td><td>2001-05-01</td><td>0.142846</td><td>2001-03-02</td><td>0.256261</td><td>2001-03-02</td><td>0.39373</td><td>2001-04-01</td><td>-0.003821</td><td>2001-04-01</td><td>0.002642</td><td>2001-04-01</td><td>-0.000904</td><td>2001-04-01</td><td>298.387863</td><td>2001-04-01</td><td>0.002353</td><td>2001-04-01</td><td>0.000046</td><td>2001-04-01</td><td>0.47642</td><td>2001-04-01</td><td>295.545143</td><td>2001-04-01</td><td>297.733732</td><td>2001-04-01</td><td>0.002642</td><td>2001-04-01</td></tr><tr><td>110001</td><td>0.256582</td><td>2001-04-02</td><td>2001-06-01</td><td>0.142846</td><td>2001-04-02</td><td>0.256261</td><td>2001-04-02</td><td>0.382668</td><td>2001-05-01</td><td>-0.003252</td><td>2001-05-01</td><td>0.000687</td><td>2001-05-01</td><td>-0.000877</td><td>2001-05-01</td><td>298.147065</td><td>2001-05-01</td><td>0.000994</td><td>2001-05-01</td><td>0.000007</td><td>2001-05-01</td><td>0.381285</td><td>2001-05-01</td><td>294.932081</td><td>2001-05-01</td><td>297.622845</td><td>2001-05-01</td><td>0.000687</td><td>2001-05-01</td></tr><tr><td>110001</td><td>0.474205</td><td>2001-05-02</td><td>2001-07-01</td><td>0.787871</td><td>2001-05-02</td><td>0.702886</td><td>2001-05-02</td><td>0.441932</td><td>2001-06-01</td><td>-0.002447</td><td>2001-06-01</td><td>0.000001</td><td>2001-06-01</td><td>-0.000614</td><td>2001-06-01</td><td>297.575228</td><td>2001-06-01</td><td>0.000483</td><td>2001-06-01</td><td>1.4901e-8</td><td>2001-06-01</td><td>0.277699</td><td>2001-06-01</td><td>291.352684</td><td>2001-06-01</td><td>296.949426</td><td>2001-06-01</td><td>0.000001</td><td>2001-06-01</td></tr><tr><td>110001</td><td>0.468541</td><td>2001-06-02</td><td>2001-08-01</td><td>0.677835</td><td>2001-06-02</td><td>0.62149</td><td>2001-06-02</td><td>0.333522</td><td>2001-07-01</td><td>-0.002343</td><td>2001-07-01</td><td>0.000169</td><td>2001-07-01</td><td>-0.000648</td><td>2001-07-01</td><td>298.693043</td><td>2001-07-01</td><td>0.000244</td><td>2001-07-01</td><td>0.000001</td><td>2001-07-01</td><td>0.267049</td><td>2001-07-01</td><td>292.982041</td><td>2001-07-01</td><td>298.212372</td><td>2001-07-01</td><td>0.000169</td><td>2001-07-01</td></tr><tr><td>110001</td><td>0.263398</td><td>2001-07-03</td><td>2001-09-01</td><td>0.331272</td><td>2001-07-03</td><td>0.356801</td><td>2001-07-03</td><td>0.291128</td><td>2001-08-01</td><td>-0.00168</td><td>2001-08-01</td><td>4.4184e-7</td><td>2001-08-01</td><td>-0.000056</td><td>2001-08-01</td><td>301.010445</td><td>2001-08-01</td><td>0.000119</td><td>2001-08-01</td><td>0.0</td><td>2001-08-01</td><td>0.20538</td><td>2001-08-01</td><td>287.567127</td><td>2001-08-01</td><td>299.928153</td><td>2001-08-01</td><td>4.4184e-7</td><td>2001-08-01</td></tr><tr><td>110001</td><td>0.197683</td><td>2001-08-02</td><td>2001-10-01</td><td>0.149439</td><td>2001-08-02</td><td>0.268276</td><td>2001-08-02</td><td>0.338454</td><td>2001-09-01</td><td>-0.003544</td><td>2001-09-01</td><td>0.00106</td><td>2001-09-01</td><td>-0.001169</td><td>2001-09-01</td><td>299.882085</td><td>2001-09-01</td><td>0.000072</td><td>2001-09-01</td><td>0.000007</td><td>2001-09-01</td><td>0.366636</td><td>2001-09-01</td><td>294.69294</td><td>2001-09-01</td><td>299.166642</td><td>2001-09-01</td><td>0.00106</td><td>2001-09-01</td></tr><tr><td>110001</td><td>0.262029</td><td>2001-09-02</td><td>2001-11-01</td><td>0.345382</td><td>2001-09-02</td><td>0.344777</td><td>2001-09-02</td><td>0.424964</td><td>2001-10-01</td><td>-0.004134</td><td>2001-10-01</td><td>0.004166</td><td>2001-10-01</td><td>-0.001095</td><td>2001-10-01</td><td>299.829014</td><td>2001-10-01</td><td>0.000073</td><td>2001-10-01</td><td>0.000028</td><td>2001-10-01</td><td>0.4321</td><td>2001-10-01</td><td>295.507143</td><td>2001-10-01</td><td>298.723222</td><td>2001-10-01</td><td>0.004166</td><td>2001-10-01</td></tr><tr><td>110001</td><td>0.227718</td><td>2001-10-02</td><td>2001-12-01</td><td>0.104049</td><td>2001-10-02</td><td>0.211343</td><td>2001-10-02</td><td>0.282188</td><td>2001-11-01</td><td>-0.004526</td><td>2001-11-01</td><td>0.007178</td><td>2001-11-01</td><td>-0.000943</td><td>2001-11-01</td><td>299.137438</td><td>2001-11-01</td><td>0.000199</td><td>2001-11-01</td><td>0.000161</td><td>2001-11-01</td><td>0.470032</td><td>2001-11-01</td><td>295.951519</td><td>2001-11-01</td><td>298.111342</td><td>2001-11-01</td><td>0.007178</td><td>2001-11-01</td></tr><tr><td>110001</td><td>0.247628</td><td>2001-11-02</td><td>2002-01-01</td><td>0.136621</td><td>2001-11-02</td><td>0.246882</td><td>2001-11-02</td><td>0.182981</td><td>2001-12-01</td><td>-0.003771</td><td>2001-12-01</td><td>0.010992</td><td>2001-12-01</td><td>-0.000641</td><td>2001-12-01</td><td>298.417477</td><td>2001-12-01</td><td>0.003194</td><td>2001-12-01</td><td>0.000515</td><td>2001-12-01</td><td>0.473017</td><td>2001-12-01</td><td>295.905715</td><td>2001-12-01</td><td>297.518397</td><td>2001-12-01</td><td>0.010992</td><td>2001-12-01</td></tr><tr><td>&hellip;</td><td>&hellip;</td><td>&hellip;</td><td>&hellip;</td><td>&hellip;</td><td>&hellip;</td><td>&hellip;</td><td>&hellip;</td><td>&hellip;</td><td>&hellip;</td><td>&hellip;</td><td>&hellip;</td><td>&hellip;</td><td>&hellip;</td><td>&hellip;</td><td>&hellip;</td><td>&hellip;</td><td>&hellip;</td><td>&hellip;</td><td>&hellip;</td><td>&hellip;</td><td>&hellip;</td><td>&hellip;</td><td>&hellip;</td><td>&hellip;</td><td>&hellip;</td><td>&hellip;</td><td>&hellip;</td><td>&hellip;</td><td>&hellip;</td></tr><tr><td>530010</td><td>0.504887</td><td>2019-11-02</td><td>2020-01-01</td><td>0.381346</td><td>2019-11-02</td><td>0.464631</td><td>2019-11-02</td><td>0.237055</td><td>2019-12-01</td><td>-0.004185</td><td>2019-12-01</td><td>0.002259</td><td>2019-12-01</td><td>-0.001373</td><td>2019-12-01</td><td>298.114873</td><td>2019-12-01</td><td>0.000062</td><td>2019-12-01</td><td>0.00003</td><td>2019-12-01</td><td>0.434188</td><td>2019-12-01</td><td>291.498357</td><td>2019-12-01</td><td>296.3633</td><td>2019-12-01</td><td>0.002259</td><td>2019-12-01</td></tr><tr><td>530010</td><td>0.776641</td><td>2019-12-03</td><td>2020-02-01</td><td>0.842898</td><td>2019-12-03</td><td>0.8272</td><td>2019-12-03</td><td>0.232289</td><td>2020-01-01</td><td>-0.003728</td><td>2020-01-01</td><td>0.006666</td><td>2020-01-01</td><td>-0.001041</td><td>2020-01-01</td><td>297.350231</td><td>2020-01-01</td><td>0.000153</td><td>2020-01-01</td><td>0.000114</td><td>2020-01-01</td><td>0.46737</td><td>2020-01-01</td><td>292.144766</td><td>2020-01-01</td><td>295.079723</td><td>2020-01-01</td><td>0.006666</td><td>2020-01-01</td></tr><tr><td>530010</td><td>0.776339</td><td>2020-01-01</td><td>2020-03-01</td><td>0.787627</td><td>2020-01-01</td><td>0.820087</td><td>2020-01-01</td><td>0.235759</td><td>2020-02-01</td><td>-0.00382</td><td>2020-02-01</td><td>0.005025</td><td>2020-02-01</td><td>-0.001149</td><td>2020-02-01</td><td>297.599598</td><td>2020-02-01</td><td>0.000728</td><td>2020-02-01</td><td>0.00012</td><td>2020-02-01</td><td>0.469954</td><td>2020-02-01</td><td>291.610065</td><td>2020-02-01</td><td>295.446588</td><td>2020-02-01</td><td>0.005025</td><td>2020-02-01</td></tr><tr><td>530010</td><td>0.80762</td><td>2020-02-01</td><td>2020-04-01</td><td>0.80955</td><td>2020-02-01</td><td>0.841946</td><td>2020-02-01</td><td>0.2218</td><td>2020-03-01</td><td>-0.003443</td><td>2020-03-01</td><td>0.005187</td><td>2020-03-01</td><td>-0.001027</td><td>2020-03-01</td><td>296.672795</td><td>2020-03-01</td><td>0.003156</td><td>2020-03-01</td><td>0.000089</td><td>2020-03-01</td><td>0.466659</td><td>2020-03-01</td><td>291.40883</td><td>2020-03-01</td><td>294.815051</td><td>2020-03-01</td><td>0.005187</td><td>2020-03-01</td></tr><tr><td>530010</td><td>0.752398</td><td>2020-03-02</td><td>2020-05-01</td><td>0.430717</td><td>2020-03-02</td><td>0.811358</td><td>2020-03-02</td><td>0.228376</td><td>2020-04-01</td><td>-0.003455</td><td>2020-04-01</td><td>0.00301</td><td>2020-04-01</td><td>-0.001134</td><td>2020-04-01</td><td>295.549216</td><td>2020-04-01</td><td>0.001405</td><td>2020-04-01</td><td>0.000044</td><td>2020-04-01</td><td>0.449675</td><td>2020-04-01</td><td>290.912414</td><td>2020-04-01</td><td>293.752954</td><td>2020-04-01</td><td>0.00301</td><td>2020-04-01</td></tr><tr><td>530010</td><td>0.65095</td><td>2020-04-02</td><td>2020-06-01</td><td>0.060247</td><td>2020-04-02</td><td>0.739416</td><td>2020-04-02</td><td>0.216749</td><td>2020-05-01</td><td>-0.002404</td><td>2020-05-01</td><td>0.000006</td><td>2020-05-01</td><td>-0.000885</td><td>2020-05-01</td><td>294.111622</td><td>2020-05-01</td><td>0.001066</td><td>2020-05-01</td><td>4.4703e-8</td><td>2020-05-01</td><td>0.318524</td><td>2020-05-01</td><td>287.543888</td><td>2020-05-01</td><td>292.847845</td><td>2020-05-01</td><td>0.000006</td><td>2020-05-01</td></tr><tr><td>530010</td><td>0.591755</td><td>2020-05-02</td><td>2020-07-01</td><td>0.037443</td><td>2020-05-02</td><td>0.703002</td><td>2020-05-02</td><td>0.200719</td><td>2020-06-01</td><td>-0.001411</td><td>2020-06-01</td><td>8.5235e-7</td><td>2020-06-01</td><td>-0.000198</td><td>2020-06-01</td><td>294.176978</td><td>2020-06-01</td><td>0.00054</td><td>2020-06-01</td><td>0.0</td><td>2020-06-01</td><td>0.206821</td><td>2020-06-01</td><td>284.310027</td><td>2020-06-01</td><td>293.082237</td><td>2020-06-01</td><td>8.5235e-7</td><td>2020-06-01</td></tr><tr><td>530010</td><td>0.600787</td><td>2020-06-02</td><td>2020-08-01</td><td>0.041727</td><td>2020-06-02</td><td>0.715121</td><td>2020-06-02</td><td>0.170101</td><td>2020-07-01</td><td>-0.001044</td><td>2020-07-01</td><td>8.5831e-7</td><td>2020-07-01</td><td>-0.000062</td><td>2020-07-01</td><td>294.284466</td><td>2020-07-01</td><td>0.00031</td><td>2020-07-01</td><td>0.0</td><td>2020-07-01</td><td>0.197747</td><td>2020-07-01</td><td>281.763247</td><td>2020-07-01</td><td>292.665978</td><td>2020-07-01</td><td>8.5831e-7</td><td>2020-07-01</td></tr><tr><td>530010</td><td>0.690153</td><td>2020-07-03</td><td>2020-09-01</td><td>0.084016</td><td>2020-07-03</td><td>0.756558</td><td>2020-07-03</td><td>0.154105</td><td>2020-08-01</td><td>-0.001045</td><td>2020-08-01</td><td>4.4107e-7</td><td>2020-08-01</td><td>-0.000043</td><td>2020-08-01</td><td>296.786921</td><td>2020-08-01</td><td>0.000175</td><td>2020-08-01</td><td>0.0</td><td>2020-08-01</td><td>0.197077</td><td>2020-08-01</td><td>281.509064</td><td>2020-08-01</td><td>294.175849</td><td>2020-08-01</td><td>4.4107e-7</td><td>2020-08-01</td></tr><tr><td>530010</td><td>0.732208</td><td>2020-08-02</td><td>2020-10-01</td><td>0.798483</td><td>2020-08-02</td><td>0.779811</td><td>2020-08-02</td><td>0.15109</td><td>2020-09-01</td><td>-0.001104</td><td>2020-09-01</td><td>8.5469e-7</td><td>2020-09-01</td><td>-0.000031</td><td>2020-09-01</td><td>298.928236</td><td>2020-09-01</td><td>0.000101</td><td>2020-09-01</td><td>0.0</td><td>2020-09-01</td><td>0.196258</td><td>2020-09-01</td><td>279.685686</td><td>2020-09-01</td><td>296.951253</td><td>2020-09-01</td><td>8.5469e-7</td><td>2020-09-01</td></tr><tr><td>530010</td><td>0.927143</td><td>2020-09-02</td><td>2020-11-01</td><td>0.818538</td><td>2020-09-02</td><td>0.835173</td><td>2020-09-02</td><td>0.167236</td><td>2020-10-01</td><td>-0.00243</td><td>2020-10-01</td><td>0.002551</td><td>2020-10-01</td><td>-0.000978</td><td>2020-10-01</td><td>300.359945</td><td>2020-10-01</td><td>0.000083</td><td>2020-10-01</td><td>0.000021</td><td>2020-10-01</td><td>0.303949</td><td>2020-10-01</td><td>289.878118</td><td>2020-10-01</td><td>297.021728</td><td>2020-10-01</td><td>0.002551</td><td>2020-10-01</td></tr><tr><td>530010</td><td>0.983404</td><td>2020-10-02</td><td>2020-12-01</td><td>0.815083</td><td>2020-10-02</td><td>0.887352</td><td>2020-10-02</td><td>0.200425</td><td>2020-11-01</td><td>-0.003762</td><td>2020-11-01</td><td>0.003062</td><td>2020-11-01</td><td>-0.001203</td><td>2020-11-01</td><td>296.377901</td><td>2020-11-01</td><td>0.000105</td><td>2020-11-01</td><td>0.000047</td><td>2020-11-01</td><td>0.459679</td><td>2020-11-01</td><td>290.175129</td><td>2020-11-01</td><td>294.740952</td><td>2020-11-01</td><td>0.003062</td><td>2020-11-01</td></tr></tbody></table></div>"
      ],
      "text/plain": [
       "shape: (1_331_230, 30)\n",
       "┌─────────┬────────────┬───────────┬───────────┬───┬───────────┬───────────┬───────────┬───────────┐\n",
       "│ muni_id ┆ temporal_s ┆ start_dat ┆ end_date  ┆ … ┆ temperatu ┆ start_dat ┆ total_pre ┆ start_dat │\n",
       "│ ---     ┆ dm_both    ┆ e         ┆ ---       ┆   ┆ re_2m     ┆ e_tempera ┆ cipitatio ┆ e_total_p │\n",
       "│ i64     ┆ ---        ┆ ---       ┆ date      ┆   ┆ ---       ┆ ture_2m   ┆ n_min     ┆ recipitat │\n",
       "│         ┆ f64        ┆ date      ┆           ┆   ┆ f64       ┆ ---       ┆ ---       ┆ ion_m…    │\n",
       "│         ┆            ┆           ┆           ┆   ┆           ┆ date      ┆ f64       ┆ ---       │\n",
       "│         ┆            ┆           ┆           ┆   ┆           ┆           ┆           ┆ date      │\n",
       "╞═════════╪════════════╪═══════════╪═══════════╪═══╪═══════════╪═══════════╪═══════════╪═══════════╡\n",
       "│ 110001  ┆ 0.293792   ┆ 2000-12-0 ┆ 2001-02-0 ┆ … ┆ 297.13508 ┆ 2001-01-0 ┆ 0.007591  ┆ 2001-01-0 │\n",
       "│         ┆            ┆ 3         ┆ 1         ┆   ┆ 4         ┆ 1         ┆           ┆ 1         │\n",
       "│ 110001  ┆ 0.393609   ┆ 2000-12-3 ┆ 2001-03-0 ┆ … ┆ 297.26421 ┆ 2001-02-0 ┆ 0.009793  ┆ 2001-02-0 │\n",
       "│         ┆            ┆ 1         ┆ 1         ┆   ┆ 9         ┆ 1         ┆           ┆ 1         │\n",
       "│ 110001  ┆ 0.332852   ┆ 2001-01-3 ┆ 2001-04-0 ┆ … ┆ 297.50991 ┆ 2001-03-0 ┆ 0.007077  ┆ 2001-03-0 │\n",
       "│         ┆            ┆ 1         ┆ 1         ┆   ┆ 8         ┆ 1         ┆           ┆ 1         │\n",
       "│ 110001  ┆ 0.256582   ┆ 2001-03-0 ┆ 2001-05-0 ┆ … ┆ 297.73373 ┆ 2001-04-0 ┆ 0.002642  ┆ 2001-04-0 │\n",
       "│         ┆            ┆ 2         ┆ 1         ┆   ┆ 2         ┆ 1         ┆           ┆ 1         │\n",
       "│ …       ┆ …          ┆ …         ┆ …         ┆ … ┆ …         ┆ …         ┆ …         ┆ …         │\n",
       "│ 530010  ┆ 0.690153   ┆ 2020-07-0 ┆ 2020-09-0 ┆ … ┆ 294.17584 ┆ 2020-08-0 ┆ 4.4107e-7 ┆ 2020-08-0 │\n",
       "│         ┆            ┆ 3         ┆ 1         ┆   ┆ 9         ┆ 1         ┆           ┆ 1         │\n",
       "│ 530010  ┆ 0.732208   ┆ 2020-08-0 ┆ 2020-10-0 ┆ … ┆ 296.95125 ┆ 2020-09-0 ┆ 8.5469e-7 ┆ 2020-09-0 │\n",
       "│         ┆            ┆ 2         ┆ 1         ┆   ┆ 3         ┆ 1         ┆           ┆ 1         │\n",
       "│ 530010  ┆ 0.927143   ┆ 2020-09-0 ┆ 2020-11-0 ┆ … ┆ 297.02172 ┆ 2020-10-0 ┆ 0.002551  ┆ 2020-10-0 │\n",
       "│         ┆            ┆ 2         ┆ 1         ┆   ┆ 8         ┆ 1         ┆           ┆ 1         │\n",
       "│ 530010  ┆ 0.983404   ┆ 2020-10-0 ┆ 2020-12-0 ┆ … ┆ 294.74095 ┆ 2020-11-0 ┆ 0.003062  ┆ 2020-11-0 │\n",
       "│         ┆            ┆ 2         ┆ 1         ┆   ┆ 2         ┆ 1         ┆           ┆ 1         │\n",
       "└─────────┴────────────┴───────────┴───────────┴───┴───────────┴───────────┴───────────┴───────────┘"
      ]
     },
     "execution_count": 4,
     "metadata": {},
     "output_type": "execute_result"
    }
   ],
   "source": [
    "test = pl.read_parquet('../data/gee_exports_test/all_parameters_2001-01-01_2021-01-01_months.parquet')\n",
    "test"
   ]
  },
  {
   "cell_type": "code",
   "execution_count": 154,
   "metadata": {},
   "outputs": [],
   "source": [
    "monthly_cases = pl.read_parquet('../data/cases/agged/dengue_per_month.parquet')\n",
    "monthly_params = pl.read_parquet('../data/gee_exports/all_parameters_2001-01-01_2021-01-01_months.parquet')\n",
    "weekly_cases = pl.read_parquet('../data/cases/agged/dengue_per_week.parquet')"
   ]
  },
  {
   "cell_type": "code",
   "execution_count": 43,
   "metadata": {},
   "outputs": [],
   "source": [
    "munis = gpd.read_file('../data/brazil/munis/munis_simple.shp').astype({'CD_MUN': 'string'})"
   ]
  },
  {
   "cell_type": "code",
   "execution_count": 44,
   "metadata": {},
   "outputs": [],
   "source": [
    "munis['CD_MUN'] = munis['CD_MUN'].str.slice(start=-1)"
   ]
  },
  {
   "cell_type": "code",
   "execution_count": 187,
   "metadata": {},
   "outputs": [],
   "source": [
    "monthly_params = monthly_params.with_columns((pl.col('start_date').str.to_date('%Y-%m-%d'),pl.col('end_date').str.to_date('%Y-%m-%d')))"
   ]
  },
  {
   "cell_type": "code",
   "execution_count": 185,
   "metadata": {},
   "outputs": [],
   "source": [
    "#monthly_params.sort(['muni_id', 'end_date'])\n",
    "monthly_cases = monthly_cases.with_columns(pl.col('ID_MUNICIP').str.slice(offset=0,length=6).cast(pl.Int64)).sort('DT_NOTIFIC').rename({\n",
    "    'DT_NOTIFIC': 'start_date',\n",
    "    'ID_MUNICIP': 'muni_id'\n",
    "})"
   ]
  },
  {
   "cell_type": "code",
   "execution_count": 156,
   "metadata": {},
   "outputs": [],
   "source": [
    "weekly_cases = weekly_cases.with_columns(pl.col('ID_MUNICIP').str.slice(offset=0,length=6).cast(pl.Int64)).sort('DT_NOTIFIC').rename({\n",
    "    'DT_NOTIFIC': 'start_date',\n",
    "    'ID_MUNICIP': 'muni_id'\n",
    "}).with_columns(pl.col('start_date').alias('month').dt.month())"
   ]
  },
  {
   "cell_type": "code",
   "execution_count": 188,
   "metadata": {},
   "outputs": [],
   "source": [
    "all_data = monthly_cases.join(monthly_params, how='left', on=['muni_id', 'start_date']).with_columns(pl.col('end_date').alias('month').dt.month())\n"
   ]
  },
  {
   "cell_type": "code",
   "execution_count": 11,
   "metadata": {},
   "outputs": [],
   "source": [
    "test_muni = all_data.filter(pl.col('muni_id') == 530010)"
   ]
  },
  {
   "cell_type": "code",
   "execution_count": 189,
   "metadata": {},
   "outputs": [
    {
     "data": {
      "text/plain": [
       "(5570, 63)"
      ]
     },
     "execution_count": 189,
     "metadata": {},
     "output_type": "execute_result"
    }
   ],
   "source": [
    "cluster_features = ['cases_per_100k', \n",
    "                     #'temperature_2m', \n",
    "                     #'total_precipitation_min', \n",
    "                    # 'EVI'\n",
    "                    ]\n",
    "case_matrix = np.vstack(\n",
    "                all_data\n",
    "                #weekly_cases\n",
    "               .select(pl.col(['end_date', 'muni_id',  'month'] + cluster_features))\n",
    "               .filter(\n",
    "                    (pl.col('end_date') >= datetime(2010,1,1)) &\n",
    "                    (pl.col('end_date') < datetime(2019,1,1)) &\n",
    "                    (pl.col('month').is_in([11, 12, 1, 2, 3, 4, 5]))\n",
    "                    )\n",
    "               .sort('end_date')\n",
    "               .group_by('muni_id', maintain_order=True)\n",
    "               .agg([pl.col(f) for f in cluster_features])\n",
    "               .sort('muni_id')\n",
    "               .select(pl.concat_list(cluster_features))\n",
    "               .to_series()\n",
    "               )\n",
    "case_matrix.shape"
   ]
  },
  {
   "cell_type": "code",
   "execution_count": 222,
   "metadata": {},
   "outputs": [],
   "source": [
    "X = case_matrix\n",
    "nbrs = NearestNeighbors(n_neighbors=15, algorithm='ball_tree').fit(X)\n",
    "distances, indices = nbrs.kneighbors(X)"
   ]
  },
  {
   "cell_type": "code",
   "execution_count": 191,
   "metadata": {},
   "outputs": [],
   "source": [
    "index_muni_mapper = {m:i for m, i in enumerate(all_data.select('muni_id').unique().sort('muni_id').to_series())}"
   ]
  },
  {
   "cell_type": "code",
   "execution_count": 223,
   "metadata": {},
   "outputs": [],
   "source": [
    "connections = pl.DataFrame({\n",
    "    'muni_id': all_data.select('muni_id').unique().sort('muni_id').to_series(),\n",
    "    'indices': indices,\n",
    "    'distances': distances\n",
    "}).with_columns(pl.col('indices').list.eval(pl.element().map_dict(index_muni_mapper)).alias('muni_neighbors'))"
   ]
  },
  {
   "cell_type": "code",
   "execution_count": 193,
   "metadata": {},
   "outputs": [],
   "source": [
    "def select_muni_and_neighbors(muni_id, data_df, connections_df) -> pl.DataFrame: \n",
    "    return (\n",
    "        data_df\n",
    "        .filter(\n",
    "            pl.col('muni_id')\n",
    "            .is_in(connections_df\n",
    "                   .filter(pl.col('muni_id') == muni_id)\n",
    "                   .select('muni_neighbors')\n",
    "                   .to_series()\n",
    "                   .item()\n",
    "                )\n",
    "            )\n",
    "    )\n",
    "\n",
    "    "
   ]
  },
  {
   "cell_type": "code",
   "execution_count": 194,
   "metadata": {},
   "outputs": [],
   "source": [
    "def get_solo_training_target(df, muni_id, month_lag, predict_lag):\n",
    "    lagged_df = (df\n",
    "        .filter(pl.col('muni_id') == muni_id)\n",
    "        .sort('end_date')\n",
    "        .with_columns(\n",
    "            case_lag = pl.col('cases_per_100k')\n",
    "            .rolling(index_column='end_date', period=f'{month_lag}mo')\n",
    "            .list\n",
    "            .head(month_lag - predict_lag)\n",
    "            )\n",
    "        .filter(pl.col('case_lag').list.len() == month_lag-predict_lag)\n",
    "        .select(['cases_per_100k', 'case_lag'])\n",
    "    )\n",
    "    target = lagged_df.select('cases_per_100k').to_series().to_numpy()\n",
    "    train = np.vstack(lagged_df.select('case_lag').to_series())\n",
    "\n",
    "    return train, target"
   ]
  },
  {
   "cell_type": "code",
   "execution_count": 224,
   "metadata": {},
   "outputs": [],
   "source": [
    "neighbor_list = (connections.filter(pl.col('muni_id') == 230835)\n",
    "                   .select('muni_neighbors')\n",
    "                   .to_series()\n",
    "                   .item()\n",
    ")\n",
    "train_list = []\n",
    "first_train, target = get_solo_training_target(all_data, neighbor_list[0], 24, 1)\n",
    "train_list.append(first_train)\n",
    "for neighbor in neighbor_list[1:]:\n",
    "    to_add, _ = get_solo_training_target(all_data, neighbor, 23, 0)\n",
    "    train_list.append(to_add)\n",
    "X = np.concatenate(train_list, axis=1)\n",
    "y = target"
   ]
  },
  {
   "cell_type": "code",
   "execution_count": 225,
   "metadata": {},
   "outputs": [
    {
     "data": {
      "text/plain": [
       "(218, 345)"
      ]
     },
     "execution_count": 225,
     "metadata": {},
     "output_type": "execute_result"
    }
   ],
   "source": [
    "X.shape"
   ]
  },
  {
   "cell_type": "code",
   "execution_count": 114,
   "metadata": {},
   "outputs": [],
   "source": [
    "#X, y = get_solo_training_target(all_data, 230835, 24, 1)\n"
   ]
  },
  {
   "cell_type": "code",
   "execution_count": 226,
   "metadata": {},
   "outputs": [],
   "source": [
    "reg = HistGradientBoostingRegressor()"
   ]
  },
  {
   "cell_type": "code",
   "execution_count": 227,
   "metadata": {},
   "outputs": [],
   "source": [
    "t =reg.fit(X[:200,:], y[:200])"
   ]
  },
  {
   "cell_type": "code",
   "execution_count": 228,
   "metadata": {},
   "outputs": [
    {
     "data": {
      "text/plain": [
       "array([ 341.08003208,  322.39124239,  477.18828014,  535.06229392,\n",
       "        190.42985693,   26.99041801,   66.50829731,   68.47464939,\n",
       "        -79.3081308 ,  -73.39353289, -144.05005335,   41.60398129,\n",
       "        146.78734256,  204.99901252,   58.47316131,  177.94853809,\n",
       "        200.61969553,  -33.73410489])"
      ]
     },
     "execution_count": 228,
     "metadata": {},
     "output_type": "execute_result"
    }
   ],
   "source": [
    "z = t.predict(X[200:,:])\n",
    "z"
   ]
  },
  {
   "cell_type": "code",
   "execution_count": 229,
   "metadata": {},
   "outputs": [
    {
     "data": {
      "text/plain": [
       "-13.997729193993642"
      ]
     },
     "execution_count": 229,
     "metadata": {},
     "output_type": "execute_result"
    }
   ],
   "source": [
    "t.score(X[200:,:],y[200:])"
   ]
  },
  {
   "cell_type": "code",
   "execution_count": 230,
   "metadata": {},
   "outputs": [
    {
     "data": {
      "text/plain": [
       "18163.25655318578"
      ]
     },
     "execution_count": 230,
     "metadata": {},
     "output_type": "execute_result"
    }
   ],
   "source": [
    "mean_squared_error(y[200:], z)**1/2"
   ]
  },
  {
   "cell_type": "code",
   "execution_count": 231,
   "metadata": {},
   "outputs": [
    {
     "data": {
      "text/plain": [
       "<matplotlib.collections.PathCollection at 0x7f0a5c29a050>"
      ]
     },
     "execution_count": 231,
     "metadata": {},
     "output_type": "execute_result"
    },
    {
     "data": {
      "image/png": "[encoded data removed]",
      "text/plain": [
       "<Figure size 640x480 with 1 Axes>"
      ]
     },
     "metadata": {},
     "output_type": "display_data"
    }
   ],
   "source": [
    "plt.scatter(y[200:], z)"
   ]
  },
  {
   "cell_type": "code",
   "execution_count": 11,
   "metadata": {},
   "outputs": [],
   "source": [
    "from metaflow import Flow, Run, Step"
   ]
  },
  {
   "cell_type": "code",
   "execution_count": 3,
   "metadata": {},
   "outputs": [],
   "source": [
    "flow = Flow('ModelFlow')"
   ]
  },
  {
   "cell_type": "code",
   "execution_count": 4,
   "metadata": {},
   "outputs": [
    {
     "data": {
      "text/plain": [
       "[Run('ModelFlow/1695157809390106'),\n",
       " Run('ModelFlow/1695157082210630'),\n",
       " Run('ModelFlow/1695156966737403'),\n",
       " Run('ModelFlow/1691167946521564')]"
      ]
     },
     "execution_count": 4,
     "metadata": {},
     "output_type": "execute_result"
    }
   ],
   "source": [
    "list(flow)"
   ]
  },
  {
   "cell_type": "code",
   "execution_count": 28,
   "metadata": {},
   "outputs": [
    {
     "data": {
      "text/plain": [
       "datetime.datetime(2023, 9, 19, 17, 10, 9, 391000)"
      ]
     },
     "execution_count": 28,
     "metadata": {},
     "output_type": "execute_result"
    }
   ],
   "source": []
  },
  {
   "cell_type": "code",
   "execution_count": 24,
   "metadata": {},
   "outputs": [],
   "source": [
    "run = flow['1695157809390106']"
   ]
  },
  {
   "cell_type": "code",
   "execution_count": 27,
   "metadata": {},
   "outputs": [],
   "source": [
    "step = Step('ModelFlow/1695157809390106/')"
   ]
  },
  {
   "cell_type": "code",
   "execution_count": 31,
   "metadata": {},
   "outputs": [
    {
     "ename": "MetaflowInternalError",
     "evalue": "Unexpected run id ModelFlow deduced from meta path",
     "output_type": "error",
     "traceback": [
      "\u001b[0;31m---------------------------------------------------------------------------\u001b[0m",
      "\u001b[0;31mMetaflowInternalError\u001b[0m                     Traceback (most recent call last)",
      "\u001b[1;32m/home/tony/dengue/dengue_models/eda/eda.ipynb Cell 31\u001b[0m line \u001b[0;36m1\n\u001b[0;32m----> <a href='vscode-notebook-cell://wsl%2Bubuntu/home/tony/dengue/dengue_models/eda/eda.ipynb#X42sdnNjb2RlLXJlbW90ZQ%3D%3D?line=0'>1</a>\u001b[0m step\u001b[39m.\u001b[39;49mtask\u001b[39m.\u001b[39mdata\n",
      "File \u001b[0;32m~/mambaforge/envs/new_dengue/lib/python3.11/site-packages/metaflow/client/core.py:1570\u001b[0m, in \u001b[0;36mStep.task\u001b[0;34m(self)\u001b[0m\n\u001b[1;32m   1558\u001b[0m \u001b[39m@property\u001b[39m\n\u001b[1;32m   1559\u001b[0m \u001b[39mdef\u001b[39;00m \u001b[39mtask\u001b[39m(\u001b[39mself\u001b[39m) \u001b[39m-\u001b[39m\u001b[39m>\u001b[39m Optional[Task]:\n\u001b[1;32m   1560\u001b[0m \u001b[39m    \u001b[39m\u001b[39m\"\"\"\u001b[39;00m\n\u001b[1;32m   1561\u001b[0m \u001b[39m    Returns a Task object belonging to this step.\u001b[39;00m\n\u001b[1;32m   1562\u001b[0m \n\u001b[0;32m   (...)\u001b[0m\n\u001b[1;32m   1568\u001b[0m \u001b[39m        A task in the step\u001b[39;00m\n\u001b[1;32m   1569\u001b[0m \u001b[39m    \"\"\"\u001b[39;00m\n\u001b[0;32m-> 1570\u001b[0m     \u001b[39mfor\u001b[39;00m t \u001b[39min\u001b[39;00m \u001b[39mself\u001b[39m:\n\u001b[1;32m   1571\u001b[0m         \u001b[39mreturn\u001b[39;00m t\n",
      "File \u001b[0;32m~/mambaforge/envs/new_dengue/lib/python3.11/site-packages/metaflow/client/core.py:1647\u001b[0m, in \u001b[0;36mStep.__iter__\u001b[0;34m(self)\u001b[0m\n\u001b[1;32m   1646\u001b[0m \u001b[39mdef\u001b[39;00m \u001b[39m__iter__\u001b[39m(\u001b[39mself\u001b[39m):\n\u001b[0;32m-> 1647\u001b[0m     children \u001b[39m=\u001b[39m \u001b[39msuper\u001b[39;49m(Step, \u001b[39mself\u001b[39;49m)\u001b[39m.\u001b[39;49m\u001b[39m__iter__\u001b[39;49m()\n\u001b[1;32m   1648\u001b[0m     \u001b[39mfor\u001b[39;00m t \u001b[39min\u001b[39;00m children:\n\u001b[1;32m   1649\u001b[0m         \u001b[39myield\u001b[39;00m t\n",
      "File \u001b[0;32m~/mambaforge/envs/new_dengue/lib/python3.11/site-packages/metaflow/client/core.py:358\u001b[0m, in \u001b[0;36mMetaflowObject.__iter__\u001b[0;34m(self)\u001b[0m\n\u001b[1;32m    355\u001b[0m \u001b[39mif\u001b[39;00m \u001b[39mself\u001b[39m\u001b[39m.\u001b[39m_namespace_check \u001b[39mand\u001b[39;00m current_namespace:\n\u001b[1;32m    356\u001b[0m     query_filter \u001b[39m=\u001b[39m {\u001b[39m\"\u001b[39m\u001b[39many_tags\u001b[39m\u001b[39m\"\u001b[39m: current_namespace}\n\u001b[0;32m--> 358\u001b[0m unfiltered_children \u001b[39m=\u001b[39m \u001b[39mself\u001b[39;49m\u001b[39m.\u001b[39;49m_metaflow\u001b[39m.\u001b[39;49mmetadata\u001b[39m.\u001b[39;49mget_object(\n\u001b[1;32m    359\u001b[0m     \u001b[39mself\u001b[39;49m\u001b[39m.\u001b[39;49m_NAME,\n\u001b[1;32m    360\u001b[0m     _CLASSES[\u001b[39mself\u001b[39;49m\u001b[39m.\u001b[39;49m_CHILD_CLASS]\u001b[39m.\u001b[39;49m_NAME,\n\u001b[1;32m    361\u001b[0m     query_filter,\n\u001b[1;32m    362\u001b[0m     \u001b[39mself\u001b[39;49m\u001b[39m.\u001b[39;49m_attempt,\n\u001b[1;32m    363\u001b[0m     \u001b[39m*\u001b[39;49m\u001b[39mself\u001b[39;49m\u001b[39m.\u001b[39;49mpath_components\n\u001b[1;32m    364\u001b[0m )\n\u001b[1;32m    365\u001b[0m unfiltered_children \u001b[39m=\u001b[39m unfiltered_children \u001b[39mif\u001b[39;00m unfiltered_children \u001b[39melse\u001b[39;00m []\n\u001b[1;32m    366\u001b[0m children \u001b[39m=\u001b[39m \u001b[39mfilter\u001b[39m(\n\u001b[1;32m    367\u001b[0m     \u001b[39mlambda\u001b[39;00m x: \u001b[39mself\u001b[39m\u001b[39m.\u001b[39m_iter_filter(x),\n\u001b[1;32m    368\u001b[0m     (\n\u001b[0;32m   (...)\u001b[0m\n\u001b[1;32m    376\u001b[0m     ),\n\u001b[1;32m    377\u001b[0m )\n",
      "File \u001b[0;32m~/mambaforge/envs/new_dengue/lib/python3.11/site-packages/metaflow/metadata/metadata.py:425\u001b[0m, in \u001b[0;36mMetadataProvider.get_object\u001b[0;34m(cls, obj_type, sub_type, filters, attempt, *args)\u001b[0m\n\u001b[1;32m    422\u001b[0m \u001b[39melse\u001b[39;00m:\n\u001b[1;32m    423\u001b[0m     attempt_int \u001b[39m=\u001b[39m \u001b[39mNone\u001b[39;00m\n\u001b[0;32m--> 425\u001b[0m pre_filter \u001b[39m=\u001b[39m \u001b[39mcls\u001b[39;49m\u001b[39m.\u001b[39;49m_get_object_internal(\n\u001b[1;32m    426\u001b[0m     obj_type, type_order, sub_type, sub_order, filters, attempt_int, \u001b[39m*\u001b[39;49margs\n\u001b[1;32m    427\u001b[0m )\n\u001b[1;32m    428\u001b[0m \u001b[39mif\u001b[39;00m attempt_int \u001b[39mis\u001b[39;00m \u001b[39mNone\u001b[39;00m \u001b[39mor\u001b[39;00m sub_type \u001b[39m!=\u001b[39m \u001b[39m\"\u001b[39m\u001b[39mmetadata\u001b[39m\u001b[39m\"\u001b[39m:\n\u001b[1;32m    429\u001b[0m     \u001b[39m# If no attempt or not for metadata, just return as is\u001b[39;00m\n\u001b[1;32m    430\u001b[0m     \u001b[39mreturn\u001b[39;00m pre_filter\n",
      "File \u001b[0;32m~/mambaforge/envs/new_dengue/lib/python3.11/site-packages/metaflow/plugins/metadata/local.py:361\u001b[0m, in \u001b[0;36mLocalMetadataProvider._get_object_internal\u001b[0;34m(cls, obj_type, obj_order, sub_type, sub_order, filters, attempt, *args)\u001b[0m\n\u001b[1;32m    359\u001b[0m         \u001b[39mif\u001b[39;00m obj_order \u001b[39m>\u001b[39m\u001b[39m=\u001b[39m RUN_ORDER:\n\u001b[1;32m    360\u001b[0m             \u001b[39mif\u001b[39;00m run_id \u001b[39m!=\u001b[39m args[RUN_ORDER \u001b[39m-\u001b[39m \u001b[39m1\u001b[39m]:\n\u001b[0;32m--> 361\u001b[0m                 \u001b[39mraise\u001b[39;00m MetaflowInternalError(\n\u001b[1;32m    362\u001b[0m                     msg\u001b[39m=\u001b[39m\u001b[39m\"\u001b[39m\u001b[39mUnexpected run id \u001b[39m\u001b[39m%s\u001b[39;00m\u001b[39m deduced from meta path\u001b[39m\u001b[39m\"\u001b[39m \u001b[39m%\u001b[39m run_id\n\u001b[1;32m    363\u001b[0m                 )\n\u001b[1;32m    364\u001b[0m     self_infos\u001b[39m.\u001b[39mappend(SelfInfo(filepath\u001b[39m=\u001b[39mself_file, run_id\u001b[39m=\u001b[39mrun_id))\n\u001b[1;32m    366\u001b[0m \u001b[39mfor\u001b[39;00m self_info \u001b[39min\u001b[39;00m self_infos:\n",
      "\u001b[0;31mMetaflowInternalError\u001b[0m: Unexpected run id ModelFlow deduced from meta path"
     ]
    }
   ],
   "source": []
  }
 ],
 "metadata": {
  "kernelspec": {
   "display_name": "new_dengue",
   "language": "python",
   "name": "python3"
  },
  "language_info": {
   "codemirror_mode": {
    "name": "ipython",
    "version": 3
   },
   "file_extension": ".py",
   "mimetype": "text/x-python",
   "name": "python",
   "nbconvert_exporter": "python",
   "pygments_lexer": "ipython3",
   "version": "3.11.5"
  }
 },
 "nbformat": 4,
 "nbformat_minor": 2
}
