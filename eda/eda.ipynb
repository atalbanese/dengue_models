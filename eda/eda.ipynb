{
 "cells": [
  {
   "cell_type": "code",
   "execution_count": 202,
   "metadata": {},
   "outputs": [],
   "source": [
    "import polars as pl\n",
    "import geopandas as gpd\n",
    "from sklearn import linear_model\n",
    "from sklearn.model_selection import TimeSeriesSplit\n",
    "from sklearn.ensemble import HistGradientBoostingRegressor\n",
    "from sklearn.preprocessing import MinMaxScaler, OneHotEncoder\n",
    "from datetime import datetime\n",
    "import numpy as np\n",
    "from sklearn.neighbors import NearestNeighbors\n",
    "import matplotlib.pyplot as plt\n",
    "from sklearn.metrics import mean_squared_error"
   ]
  },
  {
   "cell_type": "code",
   "execution_count": null,
   "metadata": {},
   "outputs": [],
   "source": []
  },
  {
   "cell_type": "code",
   "execution_count": 154,
   "metadata": {},
   "outputs": [],
   "source": [
    "monthly_cases = pl.read_parquet('../data/cases/agged/dengue_per_month.parquet')\n",
    "monthly_params = pl.read_parquet('../data/gee_exports/all_parameters_2001-01-01_2021-01-01_months.parquet')\n",
    "weekly_cases = pl.read_parquet('../data/cases/agged/dengue_per_week.parquet')"
   ]
  },
  {
   "cell_type": "code",
   "execution_count": 4,
   "metadata": {},
   "outputs": [],
   "source": [
    "munis = gpd.read_file('../data/brazil/munis/munis_simple.shp')"
   ]
  },
  {
   "cell_type": "code",
   "execution_count": 187,
   "metadata": {},
   "outputs": [],
   "source": [
    "monthly_params = monthly_params.with_columns((pl.col('start_date').str.to_date('%Y-%m-%d'),pl.col('end_date').str.to_date('%Y-%m-%d')))"
   ]
  },
  {
   "cell_type": "code",
   "execution_count": 185,
   "metadata": {},
   "outputs": [],
   "source": [
    "#monthly_params.sort(['muni_id', 'end_date'])\n",
    "monthly_cases = monthly_cases.with_columns(pl.col('ID_MUNICIP').str.slice(offset=0,length=6).cast(pl.Int64)).sort('DT_NOTIFIC').rename({\n",
    "    'DT_NOTIFIC': 'start_date',\n",
    "    'ID_MUNICIP': 'muni_id'\n",
    "})"
   ]
  },
  {
   "cell_type": "code",
   "execution_count": 156,
   "metadata": {},
   "outputs": [],
   "source": [
    "weekly_cases = weekly_cases.with_columns(pl.col('ID_MUNICIP').str.slice(offset=0,length=6).cast(pl.Int64)).sort('DT_NOTIFIC').rename({\n",
    "    'DT_NOTIFIC': 'start_date',\n",
    "    'ID_MUNICIP': 'muni_id'\n",
    "}).with_columns(pl.col('start_date').alias('month').dt.month())"
   ]
  },
  {
   "cell_type": "code",
   "execution_count": 188,
   "metadata": {},
   "outputs": [],
   "source": [
    "all_data = monthly_cases.join(monthly_params, how='left', on=['muni_id', 'start_date']).with_columns(pl.col('end_date').alias('month').dt.month())\n"
   ]
  },
  {
   "cell_type": "code",
   "execution_count": 11,
   "metadata": {},
   "outputs": [],
   "source": [
    "test_muni = all_data.filter(pl.col('muni_id') == 530010)"
   ]
  },
  {
   "cell_type": "code",
   "execution_count": 189,
   "metadata": {},
   "outputs": [
    {
     "data": {
      "text/plain": [
       "(5570, 63)"
      ]
     },
     "execution_count": 189,
     "metadata": {},
     "output_type": "execute_result"
    }
   ],
   "source": [
    "cluster_features = ['cases_per_100k', \n",
    "                     #'temperature_2m', \n",
    "                     #'total_precipitation_min', \n",
    "                    # 'EVI'\n",
    "                    ]\n",
    "case_matrix = np.vstack(\n",
    "                all_data\n",
    "                #weekly_cases\n",
    "               .select(pl.col(['end_date', 'muni_id',  'month'] + cluster_features))\n",
    "               .filter(\n",
    "                    (pl.col('end_date') >= datetime(2010,1,1)) &\n",
    "                    (pl.col('end_date') < datetime(2019,1,1)) &\n",
    "                    (pl.col('month').is_in([11, 12, 1, 2, 3, 4, 5]))\n",
    "                    )\n",
    "               .sort('end_date')\n",
    "               .group_by('muni_id', maintain_order=True)\n",
    "               .agg([pl.col(f) for f in cluster_features])\n",
    "               .sort('muni_id')\n",
    "               .select(pl.concat_list(cluster_features))\n",
    "               .to_series()\n",
    "               )\n",
    "case_matrix.shape"
   ]
  },
  {
   "cell_type": "code",
   "execution_count": 222,
   "metadata": {},
   "outputs": [],
   "source": [
    "X = case_matrix\n",
    "nbrs = NearestNeighbors(n_neighbors=15, algorithm='ball_tree').fit(X)\n",
    "distances, indices = nbrs.kneighbors(X)"
   ]
  },
  {
   "cell_type": "code",
   "execution_count": 191,
   "metadata": {},
   "outputs": [],
   "source": [
    "index_muni_mapper = {m:i for m, i in enumerate(all_data.select('muni_id').unique().sort('muni_id').to_series())}"
   ]
  },
  {
   "cell_type": "code",
   "execution_count": 223,
   "metadata": {},
   "outputs": [],
   "source": [
    "connections = pl.DataFrame({\n",
    "    'muni_id': all_data.select('muni_id').unique().sort('muni_id').to_series(),\n",
    "    'indices': indices,\n",
    "    'distances': distances\n",
    "}).with_columns(pl.col('indices').list.eval(pl.element().map_dict(index_muni_mapper)).alias('muni_neighbors'))"
   ]
  },
  {
   "cell_type": "code",
   "execution_count": 193,
   "metadata": {},
   "outputs": [],
   "source": [
    "def select_muni_and_neighbors(muni_id, data_df, connections_df) -> pl.DataFrame: \n",
    "    return (\n",
    "        data_df\n",
    "        .filter(\n",
    "            pl.col('muni_id')\n",
    "            .is_in(connections_df\n",
    "                   .filter(pl.col('muni_id') == muni_id)\n",
    "                   .select('muni_neighbors')\n",
    "                   .to_series()\n",
    "                   .item()\n",
    "                )\n",
    "            )\n",
    "    )\n",
    "\n",
    "    "
   ]
  },
  {
   "cell_type": "code",
   "execution_count": 194,
   "metadata": {},
   "outputs": [],
   "source": [
    "def get_solo_training_target(df, muni_id, month_lag, predict_lag):\n",
    "    lagged_df = (df\n",
    "        .filter(pl.col('muni_id') == muni_id)\n",
    "        .sort('end_date')\n",
    "        .with_columns(\n",
    "            case_lag = pl.col('cases_per_100k')\n",
    "            .rolling(index_column='end_date', period=f'{month_lag}mo')\n",
    "            .list\n",
    "            .head(month_lag - predict_lag)\n",
    "            )\n",
    "        .filter(pl.col('case_lag').list.len() == month_lag-predict_lag)\n",
    "        .select(['cases_per_100k', 'case_lag'])\n",
    "    )\n",
    "    target = lagged_df.select('cases_per_100k').to_series().to_numpy()\n",
    "    train = np.vstack(lagged_df.select('case_lag').to_series())\n",
    "\n",
    "    return train, target"
   ]
  },
  {
   "cell_type": "code",
   "execution_count": 224,
   "metadata": {},
   "outputs": [],
   "source": [
    "neighbor_list = (connections.filter(pl.col('muni_id') == 230835)\n",
    "                   .select('muni_neighbors')\n",
    "                   .to_series()\n",
    "                   .item()\n",
    ")\n",
    "train_list = []\n",
    "first_train, target = get_solo_training_target(all_data, neighbor_list[0], 24, 1)\n",
    "train_list.append(first_train)\n",
    "for neighbor in neighbor_list[1:]:\n",
    "    to_add, _ = get_solo_training_target(all_data, neighbor, 23, 0)\n",
    "    train_list.append(to_add)\n",
    "X = np.concatenate(train_list, axis=1)\n",
    "y = target"
   ]
  },
  {
   "cell_type": "code",
   "execution_count": 225,
   "metadata": {},
   "outputs": [
    {
     "data": {
      "text/plain": [
       "(218, 345)"
      ]
     },
     "execution_count": 225,
     "metadata": {},
     "output_type": "execute_result"
    }
   ],
   "source": [
    "X.shape"
   ]
  },
  {
   "cell_type": "code",
   "execution_count": 114,
   "metadata": {},
   "outputs": [],
   "source": [
    "#X, y = get_solo_training_target(all_data, 230835, 24, 1)\n"
   ]
  },
  {
   "cell_type": "code",
   "execution_count": 226,
   "metadata": {},
   "outputs": [],
   "source": [
    "reg = HistGradientBoostingRegressor()"
   ]
  },
  {
   "cell_type": "code",
   "execution_count": 227,
   "metadata": {},
   "outputs": [],
   "source": [
    "t =reg.fit(X[:200,:], y[:200])"
   ]
  },
  {
   "cell_type": "code",
   "execution_count": 228,
   "metadata": {},
   "outputs": [
    {
     "data": {
      "text/plain": [
       "array([ 341.08003208,  322.39124239,  477.18828014,  535.06229392,\n",
       "        190.42985693,   26.99041801,   66.50829731,   68.47464939,\n",
       "        -79.3081308 ,  -73.39353289, -144.05005335,   41.60398129,\n",
       "        146.78734256,  204.99901252,   58.47316131,  177.94853809,\n",
       "        200.61969553,  -33.73410489])"
      ]
     },
     "execution_count": 228,
     "metadata": {},
     "output_type": "execute_result"
    }
   ],
   "source": [
    "z = t.predict(X[200:,:])\n",
    "z"
   ]
  },
  {
   "cell_type": "code",
   "execution_count": 229,
   "metadata": {},
   "outputs": [
    {
     "data": {
      "text/plain": [
       "-13.997729193993642"
      ]
     },
     "execution_count": 229,
     "metadata": {},
     "output_type": "execute_result"
    }
   ],
   "source": [
    "t.score(X[200:,:],y[200:])"
   ]
  },
  {
   "cell_type": "code",
   "execution_count": 230,
   "metadata": {},
   "outputs": [
    {
     "data": {
      "text/plain": [
       "18163.25655318578"
      ]
     },
     "execution_count": 230,
     "metadata": {},
     "output_type": "execute_result"
    }
   ],
   "source": [
    "mean_squared_error(y[200:], z)**1/2"
   ]
  },
  {
   "cell_type": "code",
   "execution_count": 231,
   "metadata": {},
   "outputs": [
    {
     "data": {
      "text/plain": [
       "<matplotlib.collections.PathCollection at 0x7f0a5c29a050>"
      ]
     },
     "execution_count": 231,
     "metadata": {},
     "output_type": "execute_result"
    },
    {
     "data": {
      "image/png": "[encoded data removed]",
      "text/plain": [
       "<Figure size 640x480 with 1 Axes>"
      ]
     },
     "metadata": {},
     "output_type": "display_data"
    }
   ],
   "source": [
    "plt.scatter(y[200:], z)"
   ]
  }
 ],
 "metadata": {
  "kernelspec": {
   "display_name": "new_dengue",
   "language": "python",
   "name": "python3"
  },
  "language_info": {
   "codemirror_mode": {
    "name": "ipython",
    "version": 3
   },
   "file_extension": ".py",
   "mimetype": "text/x-python",
   "name": "python",
   "nbconvert_exporter": "python",
   "pygments_lexer": "ipython3",
   "version": "3.11.5"
  }
 },
 "nbformat": 4,
 "nbformat_minor": 2
}
